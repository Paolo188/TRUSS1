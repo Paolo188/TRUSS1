{
 "cells": [
  {
   "cell_type": "markdown",
   "metadata": {},
   "source": [
    "<img \n",
    "    style=\"position: absolute; \n",
    "           left: 60%; \n",
    "           top: 0; /* Added to ensure proper positioning */\n",
    "           height: 900px; \n",
    "           width: 40%; /* Maintain the original width */\n",
    "           object-fit: cover; /* Adjust if necessary */\n",
    "           clip-path: inset(0px 50px 0px 50px round 10px);\" \n",
    "    src=\"https://www.mathworks.com/help/examples/stats/win64/ParellelBayeianOptimizationExample_01.png\" \n",
    "/>\n",
    "\n",
    "</figure>\n",
    "\n",
    "\n",
    "<h1 style=\"width: 60%; color: Orange; font-size: 40pt;\">\n",
    "    <Strong>\n",
    "        CEGM2003 project: Bayesian optimization for truss structures\n",
    "    </Strong>\n",
    "</h1>\n",
    "\n",
    "<h2 id=\"Background\"><B>\n",
    "    Background<a class=\"anchor-link\" href=\"#Background\">&#182;</a>\n",
    "    </B>\n",
    "</h2>\n",
    "<p style=\"text-align: justify; width: 60%; font-weight: normal;\">\n",
    "     Structures that make optimal use of the material they are made of reduces the cost and environmental impact of their construction as the amount of material required. Optimization of structural design is a challenging task because of the high number of design parameters and the relatively expensive evaluation of the suitability of any given design. Standard optimization techniques in high-dimensional design space require a very large number of possible designs that need to be evaluated. In structural analysis, where evaluating the objective function and checking the constraints involves the solution of a structural mechanics problem, e.g. with finite elements, this quickly becomes very expensive, even if the model is relatively simple from structural point of view. Bayesian optimization is a machine-learning-based optimization technique that aims to reduce the number of evaluations of the objective function through data-driven exploration of the design space with a probabilistic surrogate.\n",
    "</p>\n",
    "\n",
    "<h2 id=\"Background\"><B>\n",
    "    Objective & Description<a class=\"anchor-link\" href=\"#Background\">&#182;</a>\n",
    "    </B>\n",
    "</h2>\n",
    "\n",
    "<div style=\"width: 60%; border-top: 4px solid #34D058; border-left: 4px solid #34D058; background-color: #F6FFED; padding: 1em 1em 1em 1em; color: #24292E; margin: 10px 0 20px 0; box-sizing: border-box;\">\n",
    "    <div style=\"background-color: #34D058; color: white; padding: 0.2em 1em; margin: -1em -1em 0em -1em; font-size: 1.2em;\"><strong>Project Objective</strong></div>\n",
    "    <p><strong>The aim of this project is to find an optimal truss design,</strong><br>\n",
    "    this will be achieved by finding an optimal set of nodal coordinates and cross-sectional properties. The primary objective is to minimize the total weight of the structure, while satisfying structural requirements. Optionally, additional objectives can be included, e.g. on the minimization of cutoff waste when reusing components from an existing inventory of elements.</p>\n",
    "</div>"
   ]
  },
  {
   "cell_type": "markdown",
   "metadata": {},
   "source": [
    "## <strong> X | Imports</strong>"
   ]
  },
  {
   "cell_type": "code",
   "execution_count": 50,
   "metadata": {},
   "outputs": [],
   "source": [
    "import numpy as np\n",
    "import torch\n",
    "import matplotlib.pyplot as plt\n",
    "import torch\n",
    "import sys\n",
    "import pandas as pd\n",
    "import io\n",
    "import os\n",
    "import botorch\n",
    "import plotly.express as px\n",
    "\n",
    "\n",
    "from tabulate import tabulate\n",
    "from contextlib import redirect_stdout\n",
    "from sklearn.preprocessing import MinMaxScaler\n",
    "\n",
    "from botorch.utils.transforms import normalize\n",
    "from botorch.models import SingleTaskGP\n",
    "from botorch.fit import fit_gpytorch_model\n",
    "from gpytorch.mlls import ExactMarginalLogLikelihood\n",
    "from botorch.acquisition import ExpectedImprovement\n",
    "from botorch.optim import optimize_acqf\n",
    "from botorch.utils.transforms import unnormalize\n",
    "#from botorch.acquisition import EntropySearch \n",
    "from botorch.acquisition import ExpectedImprovement\n",
    "\n",
    "sys.path.append('../pyJive/')\n",
    "from utils import proputils as pu\n",
    "from names import GlobNames as gn\n",
    "import main"
   ]
  },
  {
   "cell_type": "code",
   "execution_count": 2,
   "metadata": {},
   "outputs": [
    {
     "name": "stdout",
     "output_type": "stream",
     "text": [
      "Using device: cpu\n"
     ]
    }
   ],
   "source": [
    "# Check if CUDA is available, otherwise use CPU\n",
    "device = torch.device('cuda' if torch.cuda.is_available() else 'cpu')\n",
    "print(f'Using device: {device}')"
   ]
  },
  {
   "cell_type": "markdown",
   "metadata": {},
   "source": [
    "## <strong> X | Classes & Dependencies</strong>"
   ]
  },
  {
   "cell_type": "code",
   "execution_count": 148,
   "metadata": {},
   "outputs": [],
   "source": [
    "class TRUSS():\n",
    "    def __init__(self, file_path, file_name, output_path, write_name, violation_penalty, scalers, bounds, lower_area=4e-3, freq_constraints=[20, 40, 60], mass_weight=1, freq_weight=1):\n",
    "        # Configuration Parameters\n",
    "        self.config = {\n",
    "            \"read_file_path\": file_path,\n",
    "            \"read_file_name\": file_name,\n",
    "            \"write_file_path\": output_path,\n",
    "            \"write_file_name\": write_name,\n",
    "            \"violation_penalty\": violation_penalty,\n",
    "            \"scalers\": {\"y\": scalers[0], \"a\": scalers[1]},\n",
    "            \"lower_area\": lower_area,\n",
    "            \"bounds\" : bounds,\n",
    "            \"freq_constraints\": freq_constraints,\n",
    "            \"mass_weight\": mass_weight,\n",
    "            \"freq_weight\": freq_weight,\n",
    "            \"density\": 7850,  # kg/m^3 As per Garnachos\n",
    "        }\n",
    "\n",
    "        self.state = {\n",
    "            \"nodes\": {},\n",
    "            \"connectivity\": None,\n",
    "            \"member_df\": None,\n",
    "            \"y_coordinates\": None,\n",
    "            \"x_coordinates\": None,\n",
    "            \"cross_sections\": None,\n",
    "            \"lengths\": None,\n",
    "            \"min_mass\": 700,\n",
    "            \"monitor_df\": None\n",
    "        }\n",
    "\n",
    "        self.columns = [\"Metric\", \"Total Loss\", \"Natural Frequencies\", \"Mass of Truss\", \"Normalized Mass Loss\", \"Frequency Penalty\", \"Constraint Violation (Loss No W)\"]\n",
    "        self.state[\"monitor_df\"] = pd.DataFrame(columns=self.columns)\n",
    "    # -------------------------- Import & Writing Files -------------------------- #\n",
    "    def read_geom_file(self):\n",
    "        path = os.path.normpath(os.path.join(self.config[\"read_file_path\"], self.config[\"read_file_name\"]))\n",
    "        with open(path, 'r') as file:\n",
    "            lines = file.readlines()\n",
    "\n",
    "        nodes = {}\n",
    "        members = []\n",
    "        section = None\n",
    "\n",
    "        for line in lines:\n",
    "            line = line.strip()\n",
    "            if line.startswith('node:'):\n",
    "                section = 'node'\n",
    "            elif line.startswith('member:'):\n",
    "                section = 'member'\n",
    "            else:\n",
    "                if section == 'node' and line:\n",
    "                    parts = line.split()\n",
    "                    node_number = int(parts[0])\n",
    "                    node_data = tuple(map(float, parts[1:]))\n",
    "                    nodes[node_number] = node_data\n",
    "                elif section == 'member' and line:\n",
    "                    member_data = tuple(map(int, line.split()))\n",
    "                    members.append(member_data)\n",
    "\n",
    "        self.state[\"nodes\"] = nodes\n",
    "        self.state[\"member_df\"] = pd.DataFrame(members, columns=['Node #1', 'Node #2', 'Number of Elements', 'Cross-section Type'])\n",
    "\n",
    "        connectivity = self.state[\"member_df\"].to_numpy()\n",
    "        self.state[\"connectivity\"] = connectivity[:, :2]\n",
    "        self.state[\"y_coordinates\"] = np.array([value[1] for _, value in nodes.items()])\n",
    "        self.state[\"x_coordinates\"] = np.array([value[0] for _, value in nodes.items()])\n",
    "\n",
    "    def get_write_geom_file(self,path_,write_file): \n",
    "        path = os.path.normpath(os.path.join(path_,write_file))\n",
    "        file = open(path)\n",
    "\n",
    "        for i, (x, _) in self.state[\"nodes\"].items():\n",
    "            self.state[\"nodes\"][i] = (x, self.state[\"y_coordinates\"][i])\n",
    "\n",
    "        geom = 'node: node #, x-coordinate; y-coordinate\\n'\n",
    "        for node_num, coords in self.state[\"nodes\"].items():\n",
    "            geom += f\"{node_num} {' '.join(map(str, coords))}\\n\"\n",
    "        \n",
    "        connectivity = self.state[\"member_df\"].to_numpy()\n",
    "        geom += '\\nmember: Node #1; Node #2; number of elements; cross-section type\\n'\n",
    "        for row in connectivity:\n",
    "            geom += ' '.join(map(str, row)) + '\\n'\n",
    "\n",
    "        output_file_path = os.path.normpath(os.path.join(path_,'TRUSS.geom'))\n",
    "        with open(output_file_path, 'w') as file:\n",
    "            file.write(geom)\n",
    "            \n",
    "        return file.name\n",
    "    \n",
    "    def fit_scalers(self, initial_data):\n",
    "        y_data = initial_data[:5].reshape(1, -1).T\n",
    "        a_data = initial_data[5:].reshape(1, -1).T\n",
    "        self.config[\"scalers\"][\"y\"].fit(y_data)\n",
    "        self.config[\"scalers\"][\"a\"].fit(a_data)\n",
    "\n",
    "    def scaler(self, mode, x_values, scaler_type):\n",
    "        scaler = self.config[\"scalers\"][scaler_type]\n",
    "        x_values = x_values.reshape(1, -1).T\n",
    "        if mode == 'scale':\n",
    "            scaled_values = scaler.transform(x_values)\n",
    "        elif mode == 'descale':\n",
    "            scaled_values = scaler.inverse_transform(x_values)\n",
    "        return scaled_values.flatten()\n",
    "    \n",
    "    def areas_coordinates_write_split(self, x_list):        \n",
    "        y_coordinates = np.copy(self.state[\"y_coordinates\"])  # Use a copy to avoid modifying the original array directly\n",
    "        areas = x_list[5:]\n",
    "        y_coords = x_list[:5]\n",
    "        for i, y in enumerate(y_coords, start=1):\n",
    "            y_coordinates[2 * i] = y\n",
    "            y_coordinates[20 - 2 * i] = y\n",
    "\n",
    "        self.state[\"y_coordinates\"] = y_coordinates  # Update state\n",
    "\n",
    "        return areas, y_coords\n",
    "    # ---------------------------------------------------------------------------- #\n",
    "    #                                TARGET FUNCTION                               #\n",
    "    # ---------------------------------------------------------------------------- #\n",
    "    def loss_function(self, x_list):\n",
    "        \"\"\"\n",
    "        Calculate the loss for a given set of design parameters.\n",
    "        Parameters:\n",
    "        x_list (list): A list of design parameters.\n",
    "        Returns:\n",
    "        float: The calculated loss based on mass, frequency constraints, and imaginary penalties.\n",
    "        \"\"\"\n",
    "\n",
    "        if isinstance(x_list,torch.Tensor):\n",
    "            x_list = x_list.detach().cpu().numpy().flatten()\n",
    "            self.temporary = x_list\n",
    "        A_list, y_list = self.areas_coordinates_write_split(x_list)\n",
    "        mass_truss = self.mass_truss(A_list, y_list)\n",
    "        \n",
    "        freq1, freq2, freq3 = self.eigenfrequencies(A_list)\n",
    "        frequencies = [freq1, freq2, freq3]\n",
    "\n",
    "        freq_penalty = 0\n",
    "        for f, t in zip(frequencies, self.config[\"freq_constraints\"]):\n",
    "            diff = f - t\n",
    "            penalty_factor = 1 if diff >= 0 else self.config[\"violation_penalty\"]\n",
    "            freq_penalty += penalty_factor * (np.abs(diff) / t)\n",
    "                \n",
    "        normalized_mass_penalty = (mass_truss - 350) / 350\n",
    "        normalized_freq_penalty = freq_penalty / len(self.config[\"freq_constraints\"])\n",
    "        constraint_violation = normalized_freq_penalty + normalized_mass_penalty\n",
    "\n",
    "        LOSS = (self.config[\"mass_weight\"] * normalized_mass_penalty +\n",
    "                self.config[\"freq_weight\"] * normalized_freq_penalty)\n",
    "        # -------------------------- Optimisation monitoring ------------------------- #\n",
    "        optmonitor_data = [\n",
    "            [\"Metric\",\"Total Loss\", \"Natural Frequencies\", \"Mass of Truss\", \"Normalized Mass Loss\", \"Frequency Penalty\", \"Constraint Violation (Loss No W)\"],\n",
    "            [\"Value\",LOSS, frequencies, mass_truss, normalized_mass_penalty, normalized_freq_penalty, constraint_violation]\n",
    "        ]\n",
    "        print(f'{tabulate(optmonitor_data, headers=\"firstrow\", tablefmt=\"grid\")}\\n')\n",
    "        \n",
    "        row_data = optmonitor_data[1][0:]\n",
    "        new_data = pd.DataFrame([row_data], columns=self.columns)\n",
    "        self.state[\"monitor_df\"] = pd.concat([self.state[\"monitor_df\"], new_data], ignore_index=True)\n",
    "\n",
    "        return LOSS\n",
    "\n",
    "    # ----------------------------- SUPPORT FUNCTIONS ---------------------------- #\n",
    "    def eigenfrequencies(self,A_list):\n",
    "        path = os.path.normpath(os.path.join(self.config[\"read_file_path\"], 'bridge_frequency.pro'))\n",
    "        \n",
    "        props = pu.parse_file(path)\n",
    "        props['model']['truss']['area'] = A_list\n",
    "        props['init']['mesh']['file'] = self.get_write_geom_file(self.config[\"write_file_path\"], self.config[\"write_file_name\"])\n",
    "        \n",
    "        trap = io.StringIO()\n",
    "        with redirect_stdout(trap):\n",
    "            globdat = main.jive(props)\n",
    "        \n",
    "        return (globdat[gn.EIGENFREQS][0:3] / 2 / np.pi)\n",
    "\n",
    "    def mass_truss(self,areas, y_list):\n",
    "        x_coordinates = self.state[\"x_coordinates\"]\n",
    "        y_coordinates = self.state[\"y_coordinates\"]\n",
    "        \n",
    "        for i, y in enumerate(y_list, start=1):\n",
    "            y_coordinates[2 * i] = y\n",
    "            y_coordinates[20 - 2 * i] = y\n",
    "\n",
    "        coordinates = list(zip(x_coordinates, y_coordinates))\n",
    "        lengths = np.zeros(len(self.state[\"connectivity\"]))\n",
    "        for i, (node1, node2) in enumerate(self.state[\"connectivity\"]):\n",
    "            x1, y1 = coordinates[node1]  # Adjusting index to start from 0\n",
    "            x2, y2 = coordinates[node2]\n",
    "            lengths[i] = np.sqrt((x2 - x1) ** 2 + (y2 - y1) ** 2)\n",
    "\n",
    "        n_elements = self.state[\"member_df\"].iloc[:,2].sum()\n",
    "        areas_i = np.zeros(n_elements)\n",
    "        cross_section_number = self.state[\"member_df\"].iloc[:,-1] \n",
    "        \n",
    "        for i,item in enumerate(cross_section_number):\n",
    "                areas_i[i] = areas[item]\n",
    "        self.temporary = areas_i\n",
    "        self.state[\"cross_sections\"] = areas[:15]\n",
    "        self.state[\"lengths\"] = lengths\n",
    "\n",
    "        volumes = lengths * areas_i\n",
    "        total_volume = np.sum(volumes)\n",
    "        dens = 7800\n",
    "        mass = total_volume * dens\n",
    "\n",
    "        return mass\n",
    "    # ----------------------------------- OTHER ---------------------------------- #\n",
    "    def Initial_guess(self, optim_dims):\n",
    "        sampled_points = np.zeros(len(optim_dims))\n",
    "        for i, dim_index in enumerate(optim_dims):\n",
    "            lower_bound, upper_bound = bounds[i]\n",
    "            sampled_points[i] = np.random.uniform(lower_bound, upper_bound)\n",
    "        return sampled_points\n"
   ]
  },
  {
   "cell_type": "code",
   "execution_count": 46,
   "metadata": {},
   "outputs": [],
   "source": [
    "class BayesianOptimizer():\n",
    "      \n",
    "    def __init__(self, target_func, x_init, y_init, n_iter, batch_size, bounds):\n",
    "        self.x_init = x_init\n",
    "        self.y_init = y_init\n",
    "        self.target_func = target_func\n",
    "        self.n_iter = n_iter\n",
    "        self.batch_size = batch_size\n",
    "        self.bounds = bounds\n",
    "        self.boundsmm = [(0,1),(0,1)] # Bounds consistent with Minmax scaling \n",
    "        self.x_bounds = [self.boundsmm[0]] * 5 + [self.boundsmm[1]] * 15 \n",
    "        self.best_samples_ = pd.DataFrame(columns = ['x', 'y', 'ei'])\n",
    "        self.distances_ = []\n",
    "        self.uncertainty = []\n",
    "        self.y_loss = []\n",
    "        \n",
    "        matern_length_scale_bounds = (1e-3, 1e10)\n",
    "        initial_length_scale = np.ones(20)\n",
    "        kernel = ConstantKernel(1.0) * Matern(length_scale=initial_length_scale, length_scale_bounds=matern_length_scale_bounds, nu=0.5)\n",
    "\n",
    "        self.gauss_pr =  GaussianProcessRegressor(kernel=kernel, n_restarts_optimizer=10)\n",
    "\n",
    "    def _acquisition_function(self, x):\n",
    "        return -self._get_expected_improvement(x)\n",
    "    \n",
    "    def _get_expected_improvement(self, x_new):\n",
    "        '''\n",
    "        Calculates the expected improvement at a given point x_new\n",
    "        '''\n",
    "        mean_y_new, sigma_y_new = self.gauss_pr.predict(np.array(x_new).reshape(1, -1), return_std=True)\n",
    "        if sigma_y_new[0] == 0.0:\n",
    "            return 0.0\n",
    "        \n",
    "        min_mean_y = self.y_min\n",
    "        z = (min_mean_y - mean_y_new) / sigma_y_new        \n",
    "        exp_imp = (min_mean_y - mean_y_new) * norm.cdf(z) + sigma_y_new * norm.pdf(z)\n",
    "        return exp_imp\n",
    "  \n",
    "    def _get_next_probable_point(self):\n",
    "        '''\n",
    "        We only standardise the data after the minimisation so the LOSS FUNCTION operates with standard scales\n",
    "        ### FIX , Before We were only returning if better this does not allow the gaussian process to understand the data as well\n",
    "        '''\n",
    "        x_optimal = None\n",
    "        x_next_sc = None\n",
    "        max_acq_value = float('inf')\n",
    "\n",
    "        for _ in range(self.batch_size):\n",
    "            x_start = self.next_guess()  # Random starting point for exploration \n",
    "            x_start_sc = self.scaler(x_start, 'scale')       \n",
    "\n",
    "            res = minimize(fun=self._acquisition_function, x0=x_start_sc, bounds = self.x_bounds, method='L-BFGS-B')\n",
    "            # --------------------------------- Normalise -------------------------------- #\n",
    "            if res.fun < max_acq_value:\n",
    "                max_acq_value = res.fun\n",
    "                x_next_sc = res.x\n",
    "                x_optimal = self.scaler(x_next_sc, 'descale')\n",
    "\n",
    "        return x_optimal, x_next_sc, -max_acq_value  #Note: Negative min neg acq function\n",
    "    \n",
    "    def _extend_prior_with_posterior_data(self, x,y):\n",
    "        self.x_init = np.append(self.x_init, np.array([x]), axis = 0)\n",
    "        self.y_init = np.append(self.y_init, np.array([y]), axis = 0)\n",
    "  \n",
    "    def optimize(self):\n",
    "        '''\n",
    "        Optimize the target function using the Gaussian Process Regressor.\n",
    "\n",
    "        Returns:\n",
    "        - optimal_x: The optimal input values that minimize the target function.\n",
    "        - y_min: The minimum value of the target function.\n",
    "        '''\n",
    "        # Initialize the Gaussian Process Regressor with the best guess\n",
    "        y_min_ind = np.argmin(self.y_init)\n",
    "        y_min = self.y_min = self.y_init[y_min_ind] \n",
    "        optimal_x = self.x_init[y_min_ind]\n",
    "        optimal_ei = None\n",
    "\n",
    "        if isinstance(self.y_init, list):\n",
    "            self.y_init = np.array(self.y_init)\n",
    "        \n",
    "        for i in range(self.n_iter):\n",
    "            print(f'Iteration: {i} Best loss = {y_min:.2f}\\n')\n",
    "            self.gauss_pr.fit(self.x_init, self.y_init)\n",
    "            x_next ,x_next_sc, ei = self._get_next_probable_point()\n",
    "            y_next = self.target_func(np.array(x_next)) ## Call loss Function\n",
    "            self._extend_prior_with_posterior_data(x_next_sc,y_next)\n",
    "            if ((y_next < y_min) & (y_next > 0)):\n",
    "                y_min = self.y_min = y_next\n",
    "                optimal_x = x_next\n",
    "                optimal_ei = ei\n",
    "\n",
    "            if i == 0:\n",
    "                prev_x = x_next\n",
    "            else:\n",
    "                self.distances_.append(norm(prev_x - x_next))\n",
    "                prev_x = x_next\n",
    "\n",
    "            self.best_samples_ = pd.concat((self.best_samples_, pd.DataFrame({\"x\": [optimal_x],\"y\": [y_min], \"ei\": [optimal_ei]})), ignore_index=True) \n",
    "        return optimal_x, y_min\n",
    "\n",
    "    def next_guess(self):\n",
    "        y_bound = self.bounds[0]\n",
    "        A_bound = self.bounds[1]\n",
    "        y = np.random.uniform(y_bound[0], y_bound[1], 5)\n",
    "        Areas = np.random.uniform(A_bound[0], A_bound[1], 15)\n",
    "        x_list = np.append(y, Areas)\n",
    "        return x_list\n",
    "    \n",
    "    def scaler(self, x, mode):\n",
    "        y_coords = x[:5]\n",
    "        y_coords_sc = SC_wrapper(mode, y_coords, 'y')\n",
    "        areas = x[5:]\n",
    "        areas_sc = SC_wrapper(mode, areas, 'a')\n",
    "        x_out = np.concatenate([y_coords_sc, areas_sc])\n",
    "        return x_out "
   ]
  },
  {
   "cell_type": "code",
   "execution_count": 47,
   "metadata": {},
   "outputs": [],
   "source": [
    "# ------------------------------ OTHER FUNCTIONS ----------------------------- #\n",
    "def SC_wrapper(mode,x,scaler):\n",
    "    return TRUSS1.scaler(mode,x, scaler)\n",
    "\n",
    "def objective_function(x):\n",
    "    return TRUSS1.loss_function(x)\n",
    "\n",
    "def final_results(file_path, OBJECT, best_x, cross_sections):\n",
    "    # Read the input file and store in props object\n",
    "    areas ,y_coords = OBJECT.areas_coordinates_write_split(best_x)\n",
    "    mass = OBJECT.mass_truss(areas, y_coords)\n",
    "    OBJECT.get_write_geom_file(file_path, 'TRUSS.geom')\n",
    "\n",
    "    path = os.path.normpath(os.path.join(file_path,'bridge_frequency_truss.pro'))\n",
    "    props = pu.parse_file(path)\n",
    "    props['model']['truss']['area'] = cross_sections\n",
    "    props['init']['mesh']['file'] = OBJECT.get_write_geom_file(file_path,\"TRUSS.geom\" )\n",
    "\n",
    "    # Call the program and store output in globdat\n",
    "    trap = io.StringIO()\n",
    "    with redirect_stdout(trap):\n",
    "        globdat = main.jive(props)"
   ]
  },
  {
   "cell_type": "markdown",
   "metadata": {},
   "source": [
    "# <strong> Default</strong>"
   ]
  },
  {
   "cell_type": "markdown",
   "metadata": {},
   "source": [
    "## <strong> 1 | Initialisation</strong>"
   ]
  },
  {
   "cell_type": "code",
   "execution_count": 236,
   "metadata": {},
   "outputs": [
    {
     "name": "stderr",
     "output_type": "stream",
     "text": [
      "C:\\Users\\javie\\AppData\\Local\\Temp\\ipykernel_26188\\1003929258.py:157: FutureWarning:\n",
      "\n",
      "The behavior of DataFrame concatenation with empty or all-NA entries is deprecated. In a future version, this will no longer exclude empty or all-NA columns when determining the result dtypes. To retain the old behavior, exclude the relevant entries before the concat operation.\n",
      "\n"
     ]
    }
   ],
   "source": [
    "# -------------------------------- Definitions ------------------------------- #\n",
    "read_file_path = '../truss_bridge/data'\n",
    "read_file = 'bridge.geom'\n",
    "write_file_path =  '../truss_bridge/data/@TRUSS'\n",
    "write_file = 'TRUSS.geom'\n",
    "\n",
    "optim_dims = [i for i in range(20)]  \n",
    "lower_area = 40e-4\n",
    "violation_factor = 10\n",
    "freq_constraints = [20,40,60]\n",
    "mass_weight = 2\n",
    "freq_weight = 4\n",
    "A_bound = (0.0001, 0.01)\n",
    "y_bound = (0.5, 2)\n",
    "\n",
    "scalers = [MinMaxScaler(),MinMaxScaler()] # [y_scaler, a_scaler]\n",
    "AL_bound = (lower_area - A_bound[0], lower_area + A_bound[0])\n",
    "bounds = np.array([y_bound if index <= 4 else A_bound for index in optim_dims])\n",
    "bounds[5] = AL_bound\n",
    "\n",
    "TRUSS1 = TRUSS(read_file_path,\n",
    "               read_file,\n",
    "                write_file_path,\n",
    "                write_file,\n",
    "                violation_factor,\n",
    "                scalers,\n",
    "                bounds,\n",
    "                freq_constraints= freq_constraints, \n",
    "                mass_weight= mass_weight, \n",
    "                freq_weight= freq_weight)\n",
    "TRUSS1.read_geom_file()\n",
    "\n",
    "# -------------------------------- Initiation -------------------------------- #\n",
    "n_samples = 10 \n",
    "x_list = []\n",
    "y_list = []\n",
    "x_list_sc = []\n",
    "x_0 = np.empty(len(optim_dims))\n",
    "\n",
    "for _ in range(n_samples):\n",
    "    x_c = np.copy(x_0) # Reset seed\n",
    "    x_random = TRUSS1.Initial_guess(optim_dims)\n",
    "    x_c[optim_dims] = x_random\n",
    "    x_list.append(x_c)\n",
    "# \n",
    "trap = io.StringIO()\n",
    "with redirect_stdout(trap):\n",
    "    for x in x_list:\n",
    "        LOSS = TRUSS1.loss_function(x)\n",
    "        y_list.append(LOSS)\n",
    "\n",
    "# ---------------------------- INITIATE OPTIMISER ---------------------------- #\n",
    "bounds = torch.tensor(bounds.T)\n",
    "X_init = torch.tensor(np.array(x_list))\n",
    "X_init_norm = normalize(X_init, bounds=bounds)  \n",
    "y_init_t = torch.tensor(y_list).reshape(-1,1)"
   ]
  },
  {
   "cell_type": "markdown",
   "metadata": {},
   "source": [
    "## <strong> 2 | Optimisation </strong>"
   ]
  },
  {
   "cell_type": "code",
   "execution_count": 237,
   "metadata": {},
   "outputs": [
    {
     "name": "stderr",
     "output_type": "stream",
     "text": [
      "c:\\Users\\javie\\Documents\\@JF\\JF\\Lib\\site-packages\\botorch\\models\\utils\\assorted.py:202: InputDataWarning:\n",
      "\n",
      "Input data is not standardized (mean = tensor([15.5362], dtype=torch.float64), std = tensor([2.4395], dtype=torch.float64)). Please consider scaling the input to zero mean and unit variance.\n",
      "\n"
     ]
    },
    {
     "name": "stdout",
     "output_type": "stream",
     "text": [
      "Iteration: 0 Best loss = 7.86\n",
      "+----------+--------------+--------------------------------------------------------------+-----------------+------------------------+---------------------+------------------------------------+\n",
      "| Metric   |   Total Loss | Natural Frequencies                                          |   Mass of Truss |   Normalized Mass Loss |   Frequency Penalty |   Constraint Violation (Loss No W) |\n",
      "+==========+==============+==============================================================+=================+========================+=====================+====================================+\n",
      "| Value    |      10.6503 | [11.534387722193056, 32.493773093613676, 48.982617701131495] |         359.825 |              0.0280706 |             2.64853 |                             2.6766 |\n",
      "+----------+--------------+--------------------------------------------------------------+-----------------+------------------------+---------------------+------------------------------------+\n",
      "\n",
      "Iteration: 1 Best loss = 7.86\n",
      "+----------+--------------+------------------------------------------------------------+-----------------+------------------------+---------------------+------------------------------------+\n",
      "| Metric   |   Total Loss | Natural Frequencies                                        |   Mass of Truss |   Normalized Mass Loss |   Frequency Penalty |   Constraint Violation (Loss No W) |\n",
      "+==========+==============+============================================================+=================+========================+=====================+====================================+\n",
      "| Value    |      2.83243 | [16.121514521226317, 42.03772702811237, 61.64654202563243] |         374.895 |              0.0711296 |            0.672543 |                           0.743672 |\n",
      "+----------+--------------+------------------------------------------------------------+-----------------+------------------------+---------------------+------------------------------------+\n",
      "\n",
      "Iteration: 2 Best loss = 2.83\n",
      "+----------+--------------+-------------------------------------------------------------+-----------------+------------------------+---------------------+------------------------------------+\n",
      "| Metric   |   Total Loss | Natural Frequencies                                         |   Mass of Truss |   Normalized Mass Loss |   Frequency Penalty |   Constraint Violation (Loss No W) |\n",
      "+==========+==============+=============================================================+=================+========================+=====================+====================================+\n",
      "| Value    |      3.57151 | [15.091958596136768, 43.19615683416839, 62.540713966651474] |         373.885 |              0.0682438 |            0.858757 |                              0.927 |\n",
      "+----------+--------------+-------------------------------------------------------------+-----------------+------------------------+---------------------+------------------------------------+\n",
      "\n",
      "Iteration: 3 Best loss = 2.83\n",
      "+----------+--------------+-------------------------------------------------------------+-----------------+------------------------+---------------------+------------------------------------+\n",
      "| Metric   |   Total Loss | Natural Frequencies                                         |   Mass of Truss |   Normalized Mass Loss |   Frequency Penalty |   Constraint Violation (Loss No W) |\n",
      "+==========+==============+=============================================================+=================+========================+=====================+====================================+\n",
      "| Value    |      3.92809 | [14.357980240234784, 40.68720786147076, 60.060988747139014] |         374.934 |              0.0712399 |            0.946402 |                            1.01764 |\n",
      "+----------+--------------+-------------------------------------------------------------+-----------------+------------------------+---------------------+------------------------------------+\n",
      "\n",
      "Iteration: 4 Best loss = 2.83\n",
      "+----------+--------------+------------------------------------------------------------+-----------------+------------------------+---------------------+------------------------------------+\n",
      "| Metric   |   Total Loss | Natural Frequencies                                        |   Mass of Truss |   Normalized Mass Loss |   Frequency Penalty |   Constraint Violation (Loss No W) |\n",
      "+==========+==============+============================================================+=================+========================+=====================+====================================+\n",
      "| Value    |      3.55957 | [15.113112334031367, 43.76274966034169, 61.44681204452035] |         375.212 |              0.0720332 |            0.853875 |                           0.925909 |\n",
      "+----------+--------------+------------------------------------------------------------+-----------------+------------------------+---------------------+------------------------------------+\n",
      "\n",
      "Iteration: 5 Best loss = 2.83\n",
      "+----------+--------------+-----------------------------------------------------------+-----------------+------------------------+---------------------+------------------------------------+\n",
      "| Metric   |   Total Loss | Natural Frequencies                                       |   Mass of Truss |   Normalized Mass Loss |   Frequency Penalty |   Constraint Violation (Loss No W) |\n",
      "+==========+==============+===========================================================+=================+========================+=====================+====================================+\n",
      "| Value    |      3.79513 | [14.62224224084219, 39.81284311568208, 60.02719269841413] |         375.719 |              0.0734842 |             0.91204 |                           0.985525 |\n",
      "+----------+--------------+-----------------------------------------------------------+-----------------+------------------------+---------------------+------------------------------------+\n",
      "\n",
      "Iteration: 6 Best loss = 2.83\n",
      "+----------+--------------+----------------------------------------------------------+-----------------+------------------------+---------------------+------------------------------------+\n",
      "| Metric   |   Total Loss | Natural Frequencies                                      |   Mass of Truss |   Normalized Mass Loss |   Frequency Penalty |   Constraint Violation (Loss No W) |\n",
      "+==========+==============+==========================================================+=================+========================+=====================+====================================+\n",
      "| Value    |      2.21422 | [17.2279125064056, 44.11999352271763, 63.59174465092321] |         376.077 |              0.0745064 |            0.516302 |                           0.590808 |\n",
      "+----------+--------------+----------------------------------------------------------+-----------------+------------------------+---------------------+------------------------------------+\n",
      "\n",
      "Iteration: 7 Best loss = 2.21\n",
      "+----------+--------------+-------------------------------------------------------------+-----------------+------------------------+---------------------+------------------------------------+\n",
      "| Metric   |   Total Loss | Natural Frequencies                                         |   Mass of Truss |   Normalized Mass Loss |   Frequency Penalty |   Constraint Violation (Loss No W) |\n",
      "+==========+==============+=============================================================+=================+========================+=====================+====================================+\n",
      "| Value    |      6.21836 | [15.439080918222297, 36.325185152132846, 51.23898656752443] |         351.035 |             0.00295632 |             1.55311 |                            1.55607 |\n",
      "+----------+--------------+-------------------------------------------------------------+-----------------+------------------------+---------------------+------------------------------------+\n",
      "\n",
      "Iteration: 8 Best loss = 2.21\n",
      "+----------+--------------+------------------------------------------------------------+-----------------+------------------------+---------------------+------------------------------------+\n",
      "| Metric   |   Total Loss | Natural Frequencies                                        |   Mass of Truss |   Normalized Mass Loss |   Frequency Penalty |   Constraint Violation (Loss No W) |\n",
      "+==========+==============+============================================================+=================+========================+=====================+====================================+\n",
      "| Value    |      2.88463 | [16.206616344479524, 44.10935866154845, 62.86818853038042] |         377.124 |              0.0774975 |             0.68241 |                           0.759907 |\n",
      "+----------+--------------+------------------------------------------------------------+-----------------+------------------------+---------------------+------------------------------------+\n",
      "\n",
      "Iteration: 9 Best loss = 2.21\n",
      "+----------+--------------+------------------------------------------------------------+-----------------+------------------------+---------------------+------------------------------------+\n",
      "| Metric   |   Total Loss | Natural Frequencies                                        |   Mass of Truss |   Normalized Mass Loss |   Frequency Penalty |   Constraint Violation (Loss No W) |\n",
      "+==========+==============+============================================================+=================+========================+=====================+====================================+\n",
      "| Value    |      4.17139 | [14.74373564709966, 39.46154585821731, 58.174191735814745] |         364.349 |              0.0409977 |             1.02235 |                            1.06335 |\n",
      "+----------+--------------+------------------------------------------------------------+-----------------+------------------------+---------------------+------------------------------------+\n",
      "\n",
      "Iteration: 10 Best loss = 2.21\n",
      "+----------+--------------+------------------------------------------------------------+-----------------+------------------------+---------------------+------------------------------------+\n",
      "| Metric   |   Total Loss | Natural Frequencies                                        |   Mass of Truss |   Normalized Mass Loss |   Frequency Penalty |   Constraint Violation (Loss No W) |\n",
      "+==========+==============+============================================================+=================+========================+=====================+====================================+\n",
      "| Value    |      3.19159 | [15.523714469376326, 40.84915235641615, 61.13668535982672] |         376.921 |              0.0769173 |            0.759439 |                           0.836356 |\n",
      "+----------+--------------+------------------------------------------------------------+-----------------+------------------------+---------------------+------------------------------------+\n",
      "\n",
      "Iteration: 11 Best loss = 2.21\n",
      "+----------+--------------+-----------------------------------------------------------+-----------------+------------------------+---------------------+------------------------------------+\n",
      "| Metric   |   Total Loss | Natural Frequencies                                       |   Mass of Truss |   Normalized Mass Loss |   Frequency Penalty |   Constraint Violation (Loss No W) |\n",
      "+==========+==============+===========================================================+=================+========================+=====================+====================================+\n",
      "| Value    |      2.95932 | [16.15691904218364, 45.10492403287114, 63.34310799932264] |         376.741 |               0.076403 |            0.701627 |                            0.77803 |\n",
      "+----------+--------------+-----------------------------------------------------------+-----------------+------------------------+---------------------+------------------------------------+\n",
      "\n",
      "Iteration: 12 Best loss = 2.21\n",
      "+----------+--------------+-------------------------------------------------------------+-----------------+------------------------+---------------------+------------------------------------+\n",
      "| Metric   |   Total Loss | Natural Frequencies                                         |   Mass of Truss |   Normalized Mass Loss |   Frequency Penalty |   Constraint Violation (Loss No W) |\n",
      "+==========+==============+=============================================================+=================+========================+=====================+====================================+\n",
      "| Value    |      3.39704 | [15.313683571788408, 42.70329515287875, 61.448823769688076] |         376.342 |              0.0752615 |            0.811629 |                           0.886891 |\n",
      "+----------+--------------+-------------------------------------------------------------+-----------------+------------------------+---------------------+------------------------------------+\n",
      "\n",
      "Iteration: 13 Best loss = 2.21\n",
      "+----------+--------------+-------------------------------------------------------------+-----------------+------------------------+---------------------+------------------------------------+\n",
      "| Metric   |   Total Loss | Natural Frequencies                                         |   Mass of Truss |   Normalized Mass Loss |   Frequency Penalty |   Constraint Violation (Loss No W) |\n",
      "+==========+==============+=============================================================+=================+========================+=====================+====================================+\n",
      "| Value    |      2.91848 | [16.321508257680055, 45.752595139980755, 65.13151137915465] |         378.064 |              0.0801825 |            0.689529 |                           0.769711 |\n",
      "+----------+--------------+-------------------------------------------------------------+-----------------+------------------------+---------------------+------------------------------------+\n",
      "\n",
      "Iteration: 14 Best loss = 2.21\n",
      "+----------+--------------+-------------------------------------------------------------+-----------------+------------------------+---------------------+------------------------------------+\n",
      "| Metric   |   Total Loss | Natural Frequencies                                         |   Mass of Truss |   Normalized Mass Loss |   Frequency Penalty |   Constraint Violation (Loss No W) |\n",
      "+==========+==============+=============================================================+=================+========================+=====================+====================================+\n",
      "| Value    |      2.60599 | [16.750415723793633, 44.901742229055095, 64.68646376843834] |         380.111 |              0.0860318 |            0.608481 |                           0.694513 |\n",
      "+----------+--------------+-------------------------------------------------------------+-----------------+------------------------+---------------------+------------------------------------+\n",
      "\n",
      "Iteration: 15 Best loss = 2.21\n",
      "+----------+--------------+------------------------------------------------------------+-----------------+------------------------+---------------------+------------------------------------+\n",
      "| Metric   |   Total Loss | Natural Frequencies                                        |   Mass of Truss |   Normalized Mass Loss |   Frequency Penalty |   Constraint Violation (Loss No W) |\n",
      "+==========+==============+============================================================+=================+========================+=====================+====================================+\n",
      "| Value    |      2.63337 | [16.657336990718097, 44.58657269506886, 64.24557536270119] |         377.596 |              0.0788462 |            0.618918 |                           0.697765 |\n",
      "+----------+--------------+------------------------------------------------------------+-----------------+------------------------+---------------------+------------------------------------+\n",
      "\n",
      "Iteration: 16 Best loss = 2.21\n",
      "+----------+--------------+------------------------------------------------------------+-----------------+------------------------+---------------------+------------------------------------+\n",
      "| Metric   |   Total Loss | Natural Frequencies                                        |   Mass of Truss |   Normalized Mass Loss |   Frequency Penalty |   Constraint Violation (Loss No W) |\n",
      "+==========+==============+============================================================+=================+========================+=====================+====================================+\n",
      "| Value    |      2.72227 | [16.812348815047322, 48.32287584965441, 66.67794425522324] |         379.985 |              0.0856701 |            0.637732 |                           0.723402 |\n",
      "+----------+--------------+------------------------------------------------------------+-----------------+------------------------+---------------------+------------------------------------+\n",
      "\n",
      "Iteration: 17 Best loss = 2.21\n",
      "+----------+--------------+------------------------------------------------------------+-----------------+------------------------+---------------------+------------------------------------+\n",
      "| Metric   |   Total Loss | Natural Frequencies                                        |   Mass of Truss |   Normalized Mass Loss |   Frequency Penalty |   Constraint Violation (Loss No W) |\n",
      "+==========+==============+============================================================+=================+========================+=====================+====================================+\n",
      "| Value    |      2.20597 | [17.409167661164364, 46.074003104282795, 65.1483151738224] |         378.328 |              0.0809364 |            0.511024 |                            0.59196 |\n",
      "+----------+--------------+------------------------------------------------------------+-----------------+------------------------+---------------------+------------------------------------+\n",
      "\n",
      "Iteration: 18 Best loss = 2.21\n",
      "+----------+--------------+-----------------------------------------------------------+-----------------+------------------------+---------------------+------------------------------------+\n",
      "| Metric   |   Total Loss | Natural Frequencies                                       |   Mass of Truss |   Normalized Mass Loss |   Frequency Penalty |   Constraint Violation (Loss No W) |\n",
      "+==========+==============+===========================================================+=================+========================+=====================+====================================+\n",
      "| Value    |      2.20071 | [17.40190526227447, 45.93469323729794, 65.00020602684361] |         377.949 |               0.079855 |             0.51025 |                           0.590105 |\n",
      "+----------+--------------+-----------------------------------------------------------+-----------------+------------------------+---------------------+------------------------------------+\n",
      "\n",
      "Iteration: 19 Best loss = 2.20\n",
      "+----------+--------------+------------------------------------------------------------+-----------------+------------------------+---------------------+------------------------------------+\n",
      "| Metric   |   Total Loss | Natural Frequencies                                        |   Mass of Truss |   Normalized Mass Loss |   Frequency Penalty |   Constraint Violation (Loss No W) |\n",
      "+==========+==============+============================================================+=================+========================+=====================+====================================+\n",
      "| Value    |       1.4367 | [18.52721222572744, 45.919045187439075, 64.63332130295302] |          377.05 |               0.077287 |            0.320531 |                           0.397818 |\n",
      "+----------+--------------+------------------------------------------------------------+-----------------+------------------------+---------------------+------------------------------------+\n",
      "\n",
      "Iteration: 20 Best loss = 1.44\n",
      "+----------+--------------+-----------------------------------------------------------+-----------------+------------------------+---------------------+------------------------------------+\n",
      "| Metric   |   Total Loss | Natural Frequencies                                       |   Mass of Truss |   Normalized Mass Loss |   Frequency Penalty |   Constraint Violation (Loss No W) |\n",
      "+==========+==============+===========================================================+=================+========================+=====================+====================================+\n",
      "| Value    |     0.679787 | [19.67343824151262, 46.27590472622332, 64.30616750497998] |         377.508 |              0.0785946 |            0.130649 |                           0.209244 |\n",
      "+----------+--------------+-----------------------------------------------------------+-----------------+------------------------+---------------------+------------------------------------+\n",
      "\n",
      "Iteration: 21 Best loss = 0.68\n",
      "+----------+--------------+------------------------------------------------------------+-----------------+------------------------+---------------------+------------------------------------+\n",
      "| Metric   |   Total Loss | Natural Frequencies                                        |   Mass of Truss |   Normalized Mass Loss |   Frequency Penalty |   Constraint Violation (Loss No W) |\n",
      "+==========+==============+============================================================+=================+========================+=====================+====================================+\n",
      "| Value    |       1.6692 | [18.119601652126416, 46.12019618560275, 62.58291753114077] |         376.984 |              0.0770975 |            0.378751 |                           0.455848 |\n",
      "+----------+--------------+------------------------------------------------------------+-----------------+------------------------+---------------------+------------------------------------+\n",
      "\n",
      "Iteration: 22 Best loss = 0.68\n",
      "+----------+--------------+-----------------------------------------------------------+-----------------+------------------------+---------------------+------------------------------------+\n",
      "| Metric   |   Total Loss | Natural Frequencies                                       |   Mass of Truss |   Normalized Mass Loss |   Frequency Penalty |   Constraint Violation (Loss No W) |\n",
      "+==========+==============+===========================================================+=================+========================+=====================+====================================+\n",
      "| Value    |     0.515967 | [20.96948718945172, 45.46829629602696, 64.58818632839017] |         379.242 |               0.083549 |           0.0872172 |                           0.170766 |\n",
      "+----------+--------------+-----------------------------------------------------------+-----------------+------------------------+---------------------+------------------------------------+\n",
      "\n",
      "Iteration: 23 Best loss = 0.52\n",
      "+----------+--------------+-----------------------------------------------------------+-----------------+------------------------+---------------------+------------------------------------+\n",
      "| Metric   |   Total Loss | Natural Frequencies                                       |   Mass of Truss |   Normalized Mass Loss |   Frequency Penalty |   Constraint Violation (Loss No W) |\n",
      "+==========+==============+===========================================================+=================+========================+=====================+====================================+\n",
      "| Value    |     0.466778 | [20.94627875741665, 44.91865469274678, 63.46390523036938] |         378.483 |               0.081381 |            0.076004 |                           0.157385 |\n",
      "+----------+--------------+-----------------------------------------------------------+-----------------+------------------------+---------------------+------------------------------------+\n",
      "\n",
      "Iteration: 24 Best loss = 0.47\n",
      "+----------+--------------+----------------------------------------------------------+-----------------+------------------------+---------------------+------------------------------------+\n",
      "| Metric   |   Total Loss | Natural Frequencies                                      |   Mass of Truss |   Normalized Mass Loss |   Frequency Penalty |   Constraint Violation (Loss No W) |\n",
      "+==========+==============+==========================================================+=================+========================+=====================+====================================+\n",
      "| Value    |     0.475438 | [21.2807398004825, 44.36725636493623, 63.88967566100748] |         377.658 |              0.0790215 |           0.0793488 |                            0.15837 |\n",
      "+----------+--------------+----------------------------------------------------------+-----------------+------------------------+---------------------+------------------------------------+\n",
      "\n",
      "Iteration: 25 Best loss = 0.47\n",
      "+----------+--------------+------------------------------------------------------------+-----------------+------------------------+---------------------+------------------------------------+\n",
      "| Metric   |   Total Loss | Natural Frequencies                                        |   Mass of Truss |   Normalized Mass Loss |   Frequency Penalty |   Constraint Violation (Loss No W) |\n",
      "+==========+==============+============================================================+=================+========================+=====================+====================================+\n",
      "| Value    |     0.497707 | [21.105713999152503, 45.14014400705743, 64.10172856513408] |         378.263 |              0.0807525 |           0.0840505 |                           0.164803 |\n",
      "+----------+--------------+------------------------------------------------------------+-----------------+------------------------+---------------------+------------------------------------+\n",
      "\n",
      "Iteration: 26 Best loss = 0.47\n",
      "+----------+--------------+------------------------------------------------------------+-----------------+------------------------+---------------------+------------------------------------+\n",
      "| Metric   |   Total Loss | Natural Frequencies                                        |   Mass of Truss |   Normalized Mass Loss |   Frequency Penalty |   Constraint Violation (Loss No W) |\n",
      "+==========+==============+============================================================+=================+========================+=====================+====================================+\n",
      "| Value    |      6.54688 | [17.15036350059374, 33.77374146046978, 48.447517607550544] |         350.784 |             0.00224051 |              1.6356 |                            1.63784 |\n",
      "+----------+--------------+------------------------------------------------------------+-----------------+------------------------+---------------------+------------------------------------+\n",
      "\n",
      "Iteration: 27 Best loss = 0.47\n",
      "+----------+--------------+------------------------------------------------------------+-----------------+------------------------+---------------------+------------------------------------+\n",
      "| Metric   |   Total Loss | Natural Frequencies                                        |   Mass of Truss |   Normalized Mass Loss |   Frequency Penalty |   Constraint Violation (Loss No W) |\n",
      "+==========+==============+============================================================+=================+========================+=====================+====================================+\n",
      "| Value    |     0.264071 | [20.72732142487435, 40.47200703856061, 63.378896311228324] |         371.833 |              0.0623813 |           0.0348271 |                          0.0972084 |\n",
      "+----------+--------------+------------------------------------------------------------+-----------------+------------------------+---------------------+------------------------------------+\n",
      "\n",
      "Iteration: 28 Best loss = 0.26\n",
      "+----------+--------------+-----------------------------------------------------------+-----------------+------------------------+---------------------+------------------------------------+\n",
      "| Metric   |   Total Loss | Natural Frequencies                                       |   Mass of Truss |   Normalized Mass Loss |   Frequency Penalty |   Constraint Violation (Loss No W) |\n",
      "+==========+==============+===========================================================+=================+========================+=====================+====================================+\n",
      "| Value    |      9.30456 | [8.107754052627397, 37.57171703745942, 57.98922620295954] |         371.022 |              0.0600633 |             2.29611 |                            2.35617 |\n",
      "+----------+--------------+-----------------------------------------------------------+-----------------+------------------------+---------------------+------------------------------------+\n",
      "\n",
      "Iteration: 29 Best loss = 0.26\n",
      "+----------+--------------+-------------------------------------------------------------+-----------------+------------------------+---------------------+------------------------------------+\n",
      "| Metric   |   Total Loss | Natural Frequencies                                         |   Mass of Truss |   Normalized Mass Loss |   Frequency Penalty |   Constraint Violation (Loss No W) |\n",
      "+==========+==============+=============================================================+=================+========================+=====================+====================================+\n",
      "| Value    |     0.739479 | [19.207200091270703, 40.55305840083627, 63.453031234521475] |         370.261 |              0.0578882 |            0.155926 |                           0.213814 |\n",
      "+----------+--------------+-------------------------------------------------------------+-----------------+------------------------+---------------------+------------------------------------+\n",
      "\n",
      "Iteration: 30 Best loss = 0.26\n",
      "+----------+--------------+-----------------------------------------------------------+-----------------+------------------------+---------------------+------------------------------------+\n",
      "| Metric   |   Total Loss | Natural Frequencies                                       |   Mass of Truss |   Normalized Mass Loss |   Frequency Penalty |   Constraint Violation (Loss No W) |\n",
      "+==========+==============+===========================================================+=================+========================+=====================+====================================+\n",
      "| Value    |     0.274644 | [20.97054062620224, 40.51503121402054, 63.07638141503748] |         371.772 |              0.0622048 |           0.0375586 |                          0.0997634 |\n",
      "+----------+--------------+-----------------------------------------------------------+-----------------+------------------------+---------------------+------------------------------------+\n",
      "\n",
      "Iteration: 31 Best loss = 0.26\n",
      "+----------+--------------+---------------------------------------------------------+-----------------+------------------------+---------------------+------------------------------------+\n",
      "| Metric   |   Total Loss | Natural Frequencies                                     |   Mass of Truss |   Normalized Mass Loss |   Frequency Penalty |   Constraint Violation (Loss No W) |\n",
      "+==========+==============+=========================================================+=================+========================+=====================+====================================+\n",
      "| Value    |     0.261279 | [20.708061626380104, 40.56568243143449, 63.21895999625] |         371.645 |              0.0618433 |           0.0343982 |                          0.0962415 |\n",
      "+----------+--------------+---------------------------------------------------------+-----------------+------------------------+---------------------+------------------------------------+\n",
      "\n",
      "Iteration: 32 Best loss = 0.26\n",
      "+----------+--------------+-----------------------------------------------------------+-----------------+------------------------+---------------------+------------------------------------+\n",
      "| Metric   |   Total Loss | Natural Frequencies                                       |   Mass of Truss |   Normalized Mass Loss |   Frequency Penalty |   Constraint Violation (Loss No W) |\n",
      "+==========+==============+===========================================================+=================+========================+=====================+====================================+\n",
      "| Value    |       0.9829 | [21.38540663267879, 37.96523799601111, 62.96005328754345] |         375.639 |              0.0732534 |            0.209098 |                           0.282352 |\n",
      "+----------+--------------+-----------------------------------------------------------+-----------------+------------------------+---------------------+------------------------------------+\n",
      "\n",
      "Iteration: 33 Best loss = 0.26\n",
      "+----------+--------------+-------------------------------------------------------------+-----------------+------------------------+---------------------+------------------------------------+\n",
      "| Metric   |   Total Loss | Natural Frequencies                                         |   Mass of Truss |   Normalized Mass Loss |   Frequency Penalty |   Constraint Violation (Loss No W) |\n",
      "+==========+==============+=============================================================+=================+========================+=====================+====================================+\n",
      "| Value    |      2.28802 | [18.964556904456842, 36.077709568340154, 66.29103868800465] |         376.337 |              0.0752482 |            0.534382 |                            0.60963 |\n",
      "+----------+--------------+-------------------------------------------------------------+-----------------+------------------------+---------------------+------------------------------------+\n",
      "\n",
      "Iteration: 34 Best loss = 0.26\n",
      "+----------+--------------+-----------------------------------------------------------+-----------------+------------------------+---------------------+------------------------------------+\n",
      "| Metric   |   Total Loss | Natural Frequencies                                       |   Mass of Truss |   Normalized Mass Loss |   Frequency Penalty |   Constraint Violation (Loss No W) |\n",
      "+==========+==============+===========================================================+=================+========================+=====================+====================================+\n",
      "| Value    |       4.4443 | [15.66231090460312, 36.08278107157695, 62.53649928603082] |         383.321 |              0.0952025 |             1.06347 |                            1.15868 |\n",
      "+----------+--------------+-----------------------------------------------------------+-----------------+------------------------+---------------------+------------------------------------+\n",
      "\n",
      "Iteration: 35 Best loss = 0.26\n"
     ]
    },
    {
     "ename": "KeyboardInterrupt",
     "evalue": "",
     "output_type": "error",
     "traceback": [
      "\u001b[1;31m---------------------------------------------------------------------------\u001b[0m",
      "\u001b[1;31mKeyboardInterrupt\u001b[0m                         Traceback (most recent call last)",
      "Cell \u001b[1;32mIn[237], line 13\u001b[0m\n\u001b[0;32m     11\u001b[0m \u001b[38;5;28mprint\u001b[39m(\u001b[38;5;124mf\u001b[39m\u001b[38;5;124m'\u001b[39m\u001b[38;5;124mIteration: \u001b[39m\u001b[38;5;132;01m{\u001b[39;00miteration\u001b[38;5;132;01m}\u001b[39;00m\u001b[38;5;124m Best loss = \u001b[39m\u001b[38;5;132;01m{\u001b[39;00mY_init\u001b[38;5;241m.\u001b[39mmin()\u001b[38;5;241m.\u001b[39mitem()\u001b[38;5;132;01m:\u001b[39;00m\u001b[38;5;124m.2f\u001b[39m\u001b[38;5;132;01m}\u001b[39;00m\u001b[38;5;124m'\u001b[39m)\n\u001b[0;32m     12\u001b[0m acq_func \u001b[38;5;241m=\u001b[39m ExpectedImprovement(model\u001b[38;5;241m=\u001b[39mgp_model, best_f\u001b[38;5;241m=\u001b[39mY_init\u001b[38;5;241m.\u001b[39mmin(), maximize\u001b[38;5;241m=\u001b[39m\u001b[38;5;28;01mFalse\u001b[39;00m)\n\u001b[1;32m---> 13\u001b[0m new_x, _ \u001b[38;5;241m=\u001b[39m \u001b[43moptimize_acqf\u001b[49m\u001b[43m(\u001b[49m\n\u001b[0;32m     14\u001b[0m \u001b[43m    \u001b[49m\u001b[43macq_function\u001b[49m\u001b[38;5;241;43m=\u001b[39;49m\u001b[43macq_func\u001b[49m\u001b[43m,\u001b[49m\n\u001b[0;32m     15\u001b[0m \u001b[43m    \u001b[49m\u001b[43mbounds\u001b[49m\u001b[38;5;241;43m=\u001b[39;49m\u001b[43mbounds\u001b[49m\u001b[43m,\u001b[49m\n\u001b[0;32m     16\u001b[0m \u001b[43m    \u001b[49m\u001b[43mq\u001b[49m\u001b[38;5;241;43m=\u001b[39;49m\u001b[38;5;241;43m1\u001b[39;49m\u001b[43m,\u001b[49m\n\u001b[0;32m     17\u001b[0m \u001b[43m    \u001b[49m\u001b[43mnum_restarts\u001b[49m\u001b[38;5;241;43m=\u001b[39;49m\u001b[43m \u001b[49m\u001b[43mNrestats\u001b[49m\u001b[43m,\u001b[49m\n\u001b[0;32m     18\u001b[0m \u001b[43m    \u001b[49m\u001b[43mraw_samples\u001b[49m\u001b[38;5;241;43m=\u001b[39;49m\u001b[43m \u001b[49m\u001b[43mbatch_size\u001b[49m\u001b[43m,\u001b[49m\n\u001b[0;32m     19\u001b[0m \u001b[43m\u001b[49m\u001b[43m)\u001b[49m\n\u001b[0;32m     21\u001b[0m new_x_unnorm \u001b[38;5;241m=\u001b[39m unnormalize(new_x, bounds\u001b[38;5;241m=\u001b[39mbounds)\n\u001b[0;32m     22\u001b[0m new_y \u001b[38;5;241m=\u001b[39m objective_function(new_x_unnorm)\n",
      "File \u001b[1;32mc:\\Users\\javie\\Documents\\@JF\\JF\\Lib\\site-packages\\botorch\\optim\\optimize.py:563\u001b[0m, in \u001b[0;36moptimize_acqf\u001b[1;34m(acq_function, bounds, q, num_restarts, raw_samples, options, inequality_constraints, equality_constraints, nonlinear_inequality_constraints, fixed_features, post_processing_func, batch_initial_conditions, return_best_only, gen_candidates, sequential, ic_generator, timeout_sec, return_full_tree, retry_on_optimization_warning, **ic_gen_kwargs)\u001b[0m\n\u001b[0;32m    540\u001b[0m     gen_candidates \u001b[38;5;241m=\u001b[39m gen_candidates_scipy\n\u001b[0;32m    541\u001b[0m opt_acqf_inputs \u001b[38;5;241m=\u001b[39m OptimizeAcqfInputs(\n\u001b[0;32m    542\u001b[0m     acq_function\u001b[38;5;241m=\u001b[39macq_function,\n\u001b[0;32m    543\u001b[0m     bounds\u001b[38;5;241m=\u001b[39mbounds,\n\u001b[1;32m   (...)\u001b[0m\n\u001b[0;32m    561\u001b[0m     ic_gen_kwargs\u001b[38;5;241m=\u001b[39mic_gen_kwargs,\n\u001b[0;32m    562\u001b[0m )\n\u001b[1;32m--> 563\u001b[0m \u001b[38;5;28;01mreturn\u001b[39;00m \u001b[43m_optimize_acqf\u001b[49m\u001b[43m(\u001b[49m\u001b[43mopt_acqf_inputs\u001b[49m\u001b[43m)\u001b[49m\n",
      "File \u001b[1;32mc:\\Users\\javie\\Documents\\@JF\\JF\\Lib\\site-packages\\botorch\\optim\\optimize.py:584\u001b[0m, in \u001b[0;36m_optimize_acqf\u001b[1;34m(opt_inputs)\u001b[0m\n\u001b[0;32m    581\u001b[0m     \u001b[38;5;28;01mreturn\u001b[39;00m _optimize_acqf_sequential_q(opt_inputs\u001b[38;5;241m=\u001b[39mopt_inputs)\n\u001b[0;32m    583\u001b[0m \u001b[38;5;66;03m# Batch optimization (including the case q=1)\u001b[39;00m\n\u001b[1;32m--> 584\u001b[0m \u001b[38;5;28;01mreturn\u001b[39;00m \u001b[43m_optimize_acqf_batch\u001b[49m\u001b[43m(\u001b[49m\u001b[43mopt_inputs\u001b[49m\u001b[38;5;241;43m=\u001b[39;49m\u001b[43mopt_inputs\u001b[49m\u001b[43m)\u001b[49m\n",
      "File \u001b[1;32mc:\\Users\\javie\\Documents\\@JF\\JF\\Lib\\site-packages\\botorch\\optim\\optimize.py:349\u001b[0m, in \u001b[0;36m_optimize_acqf_batch\u001b[1;34m(opt_inputs)\u001b[0m\n\u001b[0;32m    346\u001b[0m         batch_acq_values \u001b[38;5;241m=\u001b[39m torch\u001b[38;5;241m.\u001b[39mcat(batch_acq_values_list)\u001b[38;5;241m.\u001b[39mflatten()\n\u001b[0;32m    347\u001b[0m     \u001b[38;5;28;01mreturn\u001b[39;00m batch_candidates, batch_acq_values, opt_warnings\n\u001b[1;32m--> 349\u001b[0m batch_candidates, batch_acq_values, ws \u001b[38;5;241m=\u001b[39m \u001b[43m_optimize_batch_candidates\u001b[49m\u001b[43m(\u001b[49m\u001b[43m)\u001b[49m\n\u001b[0;32m    351\u001b[0m optimization_warning_raised \u001b[38;5;241m=\u001b[39m \u001b[38;5;28many\u001b[39m(\n\u001b[0;32m    352\u001b[0m     (\u001b[38;5;28missubclass\u001b[39m(w\u001b[38;5;241m.\u001b[39mcategory, OptimizationWarning) \u001b[38;5;28;01mfor\u001b[39;00m w \u001b[38;5;129;01min\u001b[39;00m ws)\n\u001b[0;32m    353\u001b[0m )\n\u001b[0;32m    354\u001b[0m \u001b[38;5;28;01mif\u001b[39;00m optimization_warning_raised \u001b[38;5;129;01mand\u001b[39;00m opt_inputs\u001b[38;5;241m.\u001b[39mretry_on_optimization_warning:\n",
      "File \u001b[1;32mc:\\Users\\javie\\Documents\\@JF\\JF\\Lib\\site-packages\\botorch\\optim\\optimize.py:333\u001b[0m, in \u001b[0;36m_optimize_acqf_batch.<locals>._optimize_batch_candidates\u001b[1;34m()\u001b[0m\n\u001b[0;32m    328\u001b[0m \u001b[38;5;28;01mwith\u001b[39;00m warnings\u001b[38;5;241m.\u001b[39mcatch_warnings(record\u001b[38;5;241m=\u001b[39m\u001b[38;5;28;01mTrue\u001b[39;00m) \u001b[38;5;28;01mas\u001b[39;00m ws:\n\u001b[0;32m    329\u001b[0m     warnings\u001b[38;5;241m.\u001b[39msimplefilter(\u001b[38;5;124m\"\u001b[39m\u001b[38;5;124malways\u001b[39m\u001b[38;5;124m\"\u001b[39m, category\u001b[38;5;241m=\u001b[39mOptimizationWarning)\n\u001b[0;32m    330\u001b[0m     (\n\u001b[0;32m    331\u001b[0m         batch_candidates_curr,\n\u001b[0;32m    332\u001b[0m         batch_acq_values_curr,\n\u001b[1;32m--> 333\u001b[0m     ) \u001b[38;5;241m=\u001b[39m \u001b[43mopt_inputs\u001b[49m\u001b[38;5;241;43m.\u001b[39;49m\u001b[43mgen_candidates\u001b[49m\u001b[43m(\u001b[49m\n\u001b[0;32m    334\u001b[0m \u001b[43m        \u001b[49m\u001b[43mbatched_ics_\u001b[49m\u001b[43m,\u001b[49m\u001b[43m \u001b[49m\u001b[43mopt_inputs\u001b[49m\u001b[38;5;241;43m.\u001b[39;49m\u001b[43macq_function\u001b[49m\u001b[43m,\u001b[49m\u001b[43m \u001b[49m\u001b[38;5;241;43m*\u001b[39;49m\u001b[38;5;241;43m*\u001b[39;49m\u001b[43mfiltered_gen_kwargs\u001b[49m\n\u001b[0;32m    335\u001b[0m \u001b[43m    \u001b[49m\u001b[43m)\u001b[49m\n\u001b[0;32m    336\u001b[0m opt_warnings \u001b[38;5;241m+\u001b[39m\u001b[38;5;241m=\u001b[39m ws\n\u001b[0;32m    337\u001b[0m batch_candidates_list\u001b[38;5;241m.\u001b[39mappend(batch_candidates_curr)\n",
      "File \u001b[1;32mc:\\Users\\javie\\Documents\\@JF\\JF\\Lib\\site-packages\\botorch\\generation\\gen.py:252\u001b[0m, in \u001b[0;36mgen_candidates_scipy\u001b[1;34m(initial_conditions, acquisition_function, lower_bounds, upper_bounds, inequality_constraints, equality_constraints, nonlinear_inequality_constraints, options, fixed_features, timeout_sec)\u001b[0m\n\u001b[0;32m    249\u001b[0m \u001b[38;5;28;01mdef\u001b[39;00m \u001b[38;5;21mf\u001b[39m(x):\n\u001b[0;32m    250\u001b[0m     \u001b[38;5;28;01mreturn\u001b[39;00m \u001b[38;5;241m-\u001b[39macquisition_function(x)\n\u001b[1;32m--> 252\u001b[0m res \u001b[38;5;241m=\u001b[39m \u001b[43mminimize_with_timeout\u001b[49m\u001b[43m(\u001b[49m\n\u001b[0;32m    253\u001b[0m \u001b[43m    \u001b[49m\u001b[43mfun\u001b[49m\u001b[38;5;241;43m=\u001b[39;49m\u001b[43mf_np_wrapper\u001b[49m\u001b[43m,\u001b[49m\n\u001b[0;32m    254\u001b[0m \u001b[43m    \u001b[49m\u001b[43margs\u001b[49m\u001b[38;5;241;43m=\u001b[39;49m\u001b[43m(\u001b[49m\u001b[43mf\u001b[49m\u001b[43m,\u001b[49m\u001b[43m)\u001b[49m\u001b[43m,\u001b[49m\n\u001b[0;32m    255\u001b[0m \u001b[43m    \u001b[49m\u001b[43mx0\u001b[49m\u001b[38;5;241;43m=\u001b[39;49m\u001b[43mx0\u001b[49m\u001b[43m,\u001b[49m\n\u001b[0;32m    256\u001b[0m \u001b[43m    \u001b[49m\u001b[43mmethod\u001b[49m\u001b[38;5;241;43m=\u001b[39;49m\u001b[43moptions\u001b[49m\u001b[38;5;241;43m.\u001b[39;49m\u001b[43mget\u001b[49m\u001b[43m(\u001b[49m\u001b[38;5;124;43m\"\u001b[39;49m\u001b[38;5;124;43mmethod\u001b[39;49m\u001b[38;5;124;43m\"\u001b[39;49m\u001b[43m,\u001b[49m\u001b[43m \u001b[49m\u001b[38;5;124;43m\"\u001b[39;49m\u001b[38;5;124;43mSLSQP\u001b[39;49m\u001b[38;5;124;43m\"\u001b[39;49m\u001b[43m \u001b[49m\u001b[38;5;28;43;01mif\u001b[39;49;00m\u001b[43m \u001b[49m\u001b[43mconstraints\u001b[49m\u001b[43m \u001b[49m\u001b[38;5;28;43;01melse\u001b[39;49;00m\u001b[43m \u001b[49m\u001b[38;5;124;43m\"\u001b[39;49m\u001b[38;5;124;43mL-BFGS-B\u001b[39;49m\u001b[38;5;124;43m\"\u001b[39;49m\u001b[43m)\u001b[49m\u001b[43m,\u001b[49m\n\u001b[0;32m    257\u001b[0m \u001b[43m    \u001b[49m\u001b[43mjac\u001b[49m\u001b[38;5;241;43m=\u001b[39;49m\u001b[43mwith_grad\u001b[49m\u001b[43m,\u001b[49m\n\u001b[0;32m    258\u001b[0m \u001b[43m    \u001b[49m\u001b[43mbounds\u001b[49m\u001b[38;5;241;43m=\u001b[39;49m\u001b[43mbounds\u001b[49m\u001b[43m,\u001b[49m\n\u001b[0;32m    259\u001b[0m \u001b[43m    \u001b[49m\u001b[43mconstraints\u001b[49m\u001b[38;5;241;43m=\u001b[39;49m\u001b[43mconstraints\u001b[49m\u001b[43m,\u001b[49m\n\u001b[0;32m    260\u001b[0m \u001b[43m    \u001b[49m\u001b[43mcallback\u001b[49m\u001b[38;5;241;43m=\u001b[39;49m\u001b[43moptions\u001b[49m\u001b[38;5;241;43m.\u001b[39;49m\u001b[43mget\u001b[49m\u001b[43m(\u001b[49m\u001b[38;5;124;43m\"\u001b[39;49m\u001b[38;5;124;43mcallback\u001b[39;49m\u001b[38;5;124;43m\"\u001b[39;49m\u001b[43m,\u001b[49m\u001b[43m \u001b[49m\u001b[38;5;28;43;01mNone\u001b[39;49;00m\u001b[43m)\u001b[49m\u001b[43m,\u001b[49m\n\u001b[0;32m    261\u001b[0m \u001b[43m    \u001b[49m\u001b[43moptions\u001b[49m\u001b[38;5;241;43m=\u001b[39;49m\u001b[43m{\u001b[49m\n\u001b[0;32m    262\u001b[0m \u001b[43m        \u001b[49m\u001b[43mk\u001b[49m\u001b[43m:\u001b[49m\u001b[43m \u001b[49m\u001b[43mv\u001b[49m\n\u001b[0;32m    263\u001b[0m \u001b[43m        \u001b[49m\u001b[38;5;28;43;01mfor\u001b[39;49;00m\u001b[43m \u001b[49m\u001b[43mk\u001b[49m\u001b[43m,\u001b[49m\u001b[43m \u001b[49m\u001b[43mv\u001b[49m\u001b[43m \u001b[49m\u001b[38;5;129;43;01min\u001b[39;49;00m\u001b[43m \u001b[49m\u001b[43moptions\u001b[49m\u001b[38;5;241;43m.\u001b[39;49m\u001b[43mitems\u001b[49m\u001b[43m(\u001b[49m\u001b[43m)\u001b[49m\n\u001b[0;32m    264\u001b[0m \u001b[43m        \u001b[49m\u001b[38;5;28;43;01mif\u001b[39;49;00m\u001b[43m \u001b[49m\u001b[43mk\u001b[49m\u001b[43m \u001b[49m\u001b[38;5;129;43;01mnot\u001b[39;49;00m\u001b[43m \u001b[49m\u001b[38;5;129;43;01min\u001b[39;49;00m\u001b[43m \u001b[49m\u001b[43m[\u001b[49m\u001b[38;5;124;43m\"\u001b[39;49m\u001b[38;5;124;43mmethod\u001b[39;49m\u001b[38;5;124;43m\"\u001b[39;49m\u001b[43m,\u001b[49m\u001b[43m \u001b[49m\u001b[38;5;124;43m\"\u001b[39;49m\u001b[38;5;124;43mcallback\u001b[39;49m\u001b[38;5;124;43m\"\u001b[39;49m\u001b[43m,\u001b[49m\u001b[43m \u001b[49m\u001b[38;5;124;43m\"\u001b[39;49m\u001b[38;5;124;43mwith_grad\u001b[39;49m\u001b[38;5;124;43m\"\u001b[39;49m\u001b[43m]\u001b[49m\n\u001b[0;32m    265\u001b[0m \u001b[43m    \u001b[49m\u001b[43m}\u001b[49m\u001b[43m,\u001b[49m\n\u001b[0;32m    266\u001b[0m \u001b[43m    \u001b[49m\u001b[43mtimeout_sec\u001b[49m\u001b[38;5;241;43m=\u001b[39;49m\u001b[43mtimeout_sec\u001b[49m\u001b[43m,\u001b[49m\n\u001b[0;32m    267\u001b[0m \u001b[43m\u001b[49m\u001b[43m)\u001b[49m\n\u001b[0;32m    268\u001b[0m _process_scipy_result(res\u001b[38;5;241m=\u001b[39mres, options\u001b[38;5;241m=\u001b[39moptions)\n\u001b[0;32m    270\u001b[0m candidates \u001b[38;5;241m=\u001b[39m fix_features(\n\u001b[0;32m    271\u001b[0m     X\u001b[38;5;241m=\u001b[39mtorch\u001b[38;5;241m.\u001b[39mfrom_numpy(res\u001b[38;5;241m.\u001b[39mx)\u001b[38;5;241m.\u001b[39mto(initial_conditions)\u001b[38;5;241m.\u001b[39mreshape(shapeX),\n\u001b[0;32m    272\u001b[0m     fixed_features\u001b[38;5;241m=\u001b[39mfixed_features,\n\u001b[0;32m    273\u001b[0m )\n",
      "File \u001b[1;32mc:\\Users\\javie\\Documents\\@JF\\JF\\Lib\\site-packages\\botorch\\optim\\utils\\timeout.py:80\u001b[0m, in \u001b[0;36mminimize_with_timeout\u001b[1;34m(fun, x0, args, method, jac, hess, hessp, bounds, constraints, tol, callback, options, timeout_sec)\u001b[0m\n\u001b[0;32m     77\u001b[0m     wrapped_callback \u001b[38;5;241m=\u001b[39m callback\n\u001b[0;32m     79\u001b[0m \u001b[38;5;28;01mtry\u001b[39;00m:\n\u001b[1;32m---> 80\u001b[0m     \u001b[38;5;28;01mreturn\u001b[39;00m \u001b[43moptimize\u001b[49m\u001b[38;5;241;43m.\u001b[39;49m\u001b[43mminimize\u001b[49m\u001b[43m(\u001b[49m\n\u001b[0;32m     81\u001b[0m \u001b[43m        \u001b[49m\u001b[43mfun\u001b[49m\u001b[38;5;241;43m=\u001b[39;49m\u001b[43mfun\u001b[49m\u001b[43m,\u001b[49m\n\u001b[0;32m     82\u001b[0m \u001b[43m        \u001b[49m\u001b[43mx0\u001b[49m\u001b[38;5;241;43m=\u001b[39;49m\u001b[43mx0\u001b[49m\u001b[43m,\u001b[49m\n\u001b[0;32m     83\u001b[0m \u001b[43m        \u001b[49m\u001b[43margs\u001b[49m\u001b[38;5;241;43m=\u001b[39;49m\u001b[43margs\u001b[49m\u001b[43m,\u001b[49m\n\u001b[0;32m     84\u001b[0m \u001b[43m        \u001b[49m\u001b[43mmethod\u001b[49m\u001b[38;5;241;43m=\u001b[39;49m\u001b[43mmethod\u001b[49m\u001b[43m,\u001b[49m\n\u001b[0;32m     85\u001b[0m \u001b[43m        \u001b[49m\u001b[43mjac\u001b[49m\u001b[38;5;241;43m=\u001b[39;49m\u001b[43mjac\u001b[49m\u001b[43m,\u001b[49m\n\u001b[0;32m     86\u001b[0m \u001b[43m        \u001b[49m\u001b[43mhess\u001b[49m\u001b[38;5;241;43m=\u001b[39;49m\u001b[43mhess\u001b[49m\u001b[43m,\u001b[49m\n\u001b[0;32m     87\u001b[0m \u001b[43m        \u001b[49m\u001b[43mhessp\u001b[49m\u001b[38;5;241;43m=\u001b[39;49m\u001b[43mhessp\u001b[49m\u001b[43m,\u001b[49m\n\u001b[0;32m     88\u001b[0m \u001b[43m        \u001b[49m\u001b[43mbounds\u001b[49m\u001b[38;5;241;43m=\u001b[39;49m\u001b[43mbounds\u001b[49m\u001b[43m,\u001b[49m\n\u001b[0;32m     89\u001b[0m \u001b[43m        \u001b[49m\u001b[43mconstraints\u001b[49m\u001b[38;5;241;43m=\u001b[39;49m\u001b[43mconstraints\u001b[49m\u001b[43m,\u001b[49m\n\u001b[0;32m     90\u001b[0m \u001b[43m        \u001b[49m\u001b[43mtol\u001b[49m\u001b[38;5;241;43m=\u001b[39;49m\u001b[43mtol\u001b[49m\u001b[43m,\u001b[49m\n\u001b[0;32m     91\u001b[0m \u001b[43m        \u001b[49m\u001b[43mcallback\u001b[49m\u001b[38;5;241;43m=\u001b[39;49m\u001b[43mwrapped_callback\u001b[49m\u001b[43m,\u001b[49m\n\u001b[0;32m     92\u001b[0m \u001b[43m        \u001b[49m\u001b[43moptions\u001b[49m\u001b[38;5;241;43m=\u001b[39;49m\u001b[43moptions\u001b[49m\u001b[43m,\u001b[49m\n\u001b[0;32m     93\u001b[0m \u001b[43m    \u001b[49m\u001b[43m)\u001b[49m\n\u001b[0;32m     94\u001b[0m \u001b[38;5;28;01mexcept\u001b[39;00m OptimizationTimeoutError \u001b[38;5;28;01mas\u001b[39;00m e:\n\u001b[0;32m     95\u001b[0m     msg \u001b[38;5;241m=\u001b[39m \u001b[38;5;124mf\u001b[39m\u001b[38;5;124m\"\u001b[39m\u001b[38;5;124mOptimization timed out after \u001b[39m\u001b[38;5;132;01m{\u001b[39;00me\u001b[38;5;241m.\u001b[39mruntime\u001b[38;5;132;01m}\u001b[39;00m\u001b[38;5;124m seconds.\u001b[39m\u001b[38;5;124m\"\u001b[39m\n",
      "File \u001b[1;32mc:\\Users\\javie\\Documents\\@JF\\JF\\Lib\\site-packages\\scipy\\optimize\\_minimize.py:713\u001b[0m, in \u001b[0;36mminimize\u001b[1;34m(fun, x0, args, method, jac, hess, hessp, bounds, constraints, tol, callback, options)\u001b[0m\n\u001b[0;32m    710\u001b[0m     res \u001b[38;5;241m=\u001b[39m _minimize_newtoncg(fun, x0, args, jac, hess, hessp, callback,\n\u001b[0;32m    711\u001b[0m                              \u001b[38;5;241m*\u001b[39m\u001b[38;5;241m*\u001b[39moptions)\n\u001b[0;32m    712\u001b[0m \u001b[38;5;28;01melif\u001b[39;00m meth \u001b[38;5;241m==\u001b[39m \u001b[38;5;124m'\u001b[39m\u001b[38;5;124ml-bfgs-b\u001b[39m\u001b[38;5;124m'\u001b[39m:\n\u001b[1;32m--> 713\u001b[0m     res \u001b[38;5;241m=\u001b[39m \u001b[43m_minimize_lbfgsb\u001b[49m\u001b[43m(\u001b[49m\u001b[43mfun\u001b[49m\u001b[43m,\u001b[49m\u001b[43m \u001b[49m\u001b[43mx0\u001b[49m\u001b[43m,\u001b[49m\u001b[43m \u001b[49m\u001b[43margs\u001b[49m\u001b[43m,\u001b[49m\u001b[43m \u001b[49m\u001b[43mjac\u001b[49m\u001b[43m,\u001b[49m\u001b[43m \u001b[49m\u001b[43mbounds\u001b[49m\u001b[43m,\u001b[49m\n\u001b[0;32m    714\u001b[0m \u001b[43m                           \u001b[49m\u001b[43mcallback\u001b[49m\u001b[38;5;241;43m=\u001b[39;49m\u001b[43mcallback\u001b[49m\u001b[43m,\u001b[49m\u001b[43m \u001b[49m\u001b[38;5;241;43m*\u001b[39;49m\u001b[38;5;241;43m*\u001b[39;49m\u001b[43moptions\u001b[49m\u001b[43m)\u001b[49m\n\u001b[0;32m    715\u001b[0m \u001b[38;5;28;01melif\u001b[39;00m meth \u001b[38;5;241m==\u001b[39m \u001b[38;5;124m'\u001b[39m\u001b[38;5;124mtnc\u001b[39m\u001b[38;5;124m'\u001b[39m:\n\u001b[0;32m    716\u001b[0m     res \u001b[38;5;241m=\u001b[39m _minimize_tnc(fun, x0, args, jac, bounds, callback\u001b[38;5;241m=\u001b[39mcallback,\n\u001b[0;32m    717\u001b[0m                         \u001b[38;5;241m*\u001b[39m\u001b[38;5;241m*\u001b[39moptions)\n",
      "File \u001b[1;32mc:\\Users\\javie\\Documents\\@JF\\JF\\Lib\\site-packages\\scipy\\optimize\\_lbfgsb_py.py:369\u001b[0m, in \u001b[0;36m_minimize_lbfgsb\u001b[1;34m(fun, x0, args, jac, bounds, disp, maxcor, ftol, gtol, eps, maxfun, maxiter, iprint, callback, maxls, finite_diff_rel_step, **unknown_options)\u001b[0m\n\u001b[0;32m    363\u001b[0m task_str \u001b[38;5;241m=\u001b[39m task\u001b[38;5;241m.\u001b[39mtobytes()\n\u001b[0;32m    364\u001b[0m \u001b[38;5;28;01mif\u001b[39;00m task_str\u001b[38;5;241m.\u001b[39mstartswith(\u001b[38;5;124mb\u001b[39m\u001b[38;5;124m'\u001b[39m\u001b[38;5;124mFG\u001b[39m\u001b[38;5;124m'\u001b[39m):\n\u001b[0;32m    365\u001b[0m     \u001b[38;5;66;03m# The minimization routine wants f and g at the current x.\u001b[39;00m\n\u001b[0;32m    366\u001b[0m     \u001b[38;5;66;03m# Note that interruptions due to maxfun are postponed\u001b[39;00m\n\u001b[0;32m    367\u001b[0m     \u001b[38;5;66;03m# until the completion of the current minimization iteration.\u001b[39;00m\n\u001b[0;32m    368\u001b[0m     \u001b[38;5;66;03m# Overwrite f and g:\u001b[39;00m\n\u001b[1;32m--> 369\u001b[0m     f, g \u001b[38;5;241m=\u001b[39m \u001b[43mfunc_and_grad\u001b[49m\u001b[43m(\u001b[49m\u001b[43mx\u001b[49m\u001b[43m)\u001b[49m\n\u001b[0;32m    370\u001b[0m \u001b[38;5;28;01melif\u001b[39;00m task_str\u001b[38;5;241m.\u001b[39mstartswith(\u001b[38;5;124mb\u001b[39m\u001b[38;5;124m'\u001b[39m\u001b[38;5;124mNEW_X\u001b[39m\u001b[38;5;124m'\u001b[39m):\n\u001b[0;32m    371\u001b[0m     \u001b[38;5;66;03m# new iteration\u001b[39;00m\n\u001b[0;32m    372\u001b[0m     n_iterations \u001b[38;5;241m+\u001b[39m\u001b[38;5;241m=\u001b[39m \u001b[38;5;241m1\u001b[39m\n",
      "File \u001b[1;32mc:\\Users\\javie\\Documents\\@JF\\JF\\Lib\\site-packages\\scipy\\optimize\\_differentiable_functions.py:296\u001b[0m, in \u001b[0;36mScalarFunction.fun_and_grad\u001b[1;34m(self, x)\u001b[0m\n\u001b[0;32m    294\u001b[0m \u001b[38;5;28;01mif\u001b[39;00m \u001b[38;5;129;01mnot\u001b[39;00m np\u001b[38;5;241m.\u001b[39marray_equal(x, \u001b[38;5;28mself\u001b[39m\u001b[38;5;241m.\u001b[39mx):\n\u001b[0;32m    295\u001b[0m     \u001b[38;5;28mself\u001b[39m\u001b[38;5;241m.\u001b[39m_update_x_impl(x)\n\u001b[1;32m--> 296\u001b[0m \u001b[38;5;28;43mself\u001b[39;49m\u001b[38;5;241;43m.\u001b[39;49m\u001b[43m_update_fun\u001b[49m\u001b[43m(\u001b[49m\u001b[43m)\u001b[49m\n\u001b[0;32m    297\u001b[0m \u001b[38;5;28mself\u001b[39m\u001b[38;5;241m.\u001b[39m_update_grad()\n\u001b[0;32m    298\u001b[0m \u001b[38;5;28;01mreturn\u001b[39;00m \u001b[38;5;28mself\u001b[39m\u001b[38;5;241m.\u001b[39mf, \u001b[38;5;28mself\u001b[39m\u001b[38;5;241m.\u001b[39mg\n",
      "File \u001b[1;32mc:\\Users\\javie\\Documents\\@JF\\JF\\Lib\\site-packages\\scipy\\optimize\\_differentiable_functions.py:262\u001b[0m, in \u001b[0;36mScalarFunction._update_fun\u001b[1;34m(self)\u001b[0m\n\u001b[0;32m    260\u001b[0m \u001b[38;5;28;01mdef\u001b[39;00m \u001b[38;5;21m_update_fun\u001b[39m(\u001b[38;5;28mself\u001b[39m):\n\u001b[0;32m    261\u001b[0m     \u001b[38;5;28;01mif\u001b[39;00m \u001b[38;5;129;01mnot\u001b[39;00m \u001b[38;5;28mself\u001b[39m\u001b[38;5;241m.\u001b[39mf_updated:\n\u001b[1;32m--> 262\u001b[0m         \u001b[38;5;28;43mself\u001b[39;49m\u001b[38;5;241;43m.\u001b[39;49m\u001b[43m_update_fun_impl\u001b[49m\u001b[43m(\u001b[49m\u001b[43m)\u001b[49m\n\u001b[0;32m    263\u001b[0m         \u001b[38;5;28mself\u001b[39m\u001b[38;5;241m.\u001b[39mf_updated \u001b[38;5;241m=\u001b[39m \u001b[38;5;28;01mTrue\u001b[39;00m\n",
      "File \u001b[1;32mc:\\Users\\javie\\Documents\\@JF\\JF\\Lib\\site-packages\\scipy\\optimize\\_differentiable_functions.py:163\u001b[0m, in \u001b[0;36mScalarFunction.__init__.<locals>.update_fun\u001b[1;34m()\u001b[0m\n\u001b[0;32m    162\u001b[0m \u001b[38;5;28;01mdef\u001b[39;00m \u001b[38;5;21mupdate_fun\u001b[39m():\n\u001b[1;32m--> 163\u001b[0m     \u001b[38;5;28mself\u001b[39m\u001b[38;5;241m.\u001b[39mf \u001b[38;5;241m=\u001b[39m \u001b[43mfun_wrapped\u001b[49m\u001b[43m(\u001b[49m\u001b[38;5;28;43mself\u001b[39;49m\u001b[38;5;241;43m.\u001b[39;49m\u001b[43mx\u001b[49m\u001b[43m)\u001b[49m\n",
      "File \u001b[1;32mc:\\Users\\javie\\Documents\\@JF\\JF\\Lib\\site-packages\\scipy\\optimize\\_differentiable_functions.py:145\u001b[0m, in \u001b[0;36mScalarFunction.__init__.<locals>.fun_wrapped\u001b[1;34m(x)\u001b[0m\n\u001b[0;32m    141\u001b[0m \u001b[38;5;28mself\u001b[39m\u001b[38;5;241m.\u001b[39mnfev \u001b[38;5;241m+\u001b[39m\u001b[38;5;241m=\u001b[39m \u001b[38;5;241m1\u001b[39m\n\u001b[0;32m    142\u001b[0m \u001b[38;5;66;03m# Send a copy because the user may overwrite it.\u001b[39;00m\n\u001b[0;32m    143\u001b[0m \u001b[38;5;66;03m# Overwriting results in undefined behaviour because\u001b[39;00m\n\u001b[0;32m    144\u001b[0m \u001b[38;5;66;03m# fun(self.x) will change self.x, with the two no longer linked.\u001b[39;00m\n\u001b[1;32m--> 145\u001b[0m fx \u001b[38;5;241m=\u001b[39m \u001b[43mfun\u001b[49m\u001b[43m(\u001b[49m\u001b[43mnp\u001b[49m\u001b[38;5;241;43m.\u001b[39;49m\u001b[43mcopy\u001b[49m\u001b[43m(\u001b[49m\u001b[43mx\u001b[49m\u001b[43m)\u001b[49m\u001b[43m,\u001b[49m\u001b[43m \u001b[49m\u001b[38;5;241;43m*\u001b[39;49m\u001b[43margs\u001b[49m\u001b[43m)\u001b[49m\n\u001b[0;32m    146\u001b[0m \u001b[38;5;66;03m# Make sure the function returns a true scalar\u001b[39;00m\n\u001b[0;32m    147\u001b[0m \u001b[38;5;28;01mif\u001b[39;00m \u001b[38;5;129;01mnot\u001b[39;00m np\u001b[38;5;241m.\u001b[39misscalar(fx):\n",
      "File \u001b[1;32mc:\\Users\\javie\\Documents\\@JF\\JF\\Lib\\site-packages\\scipy\\optimize\\_optimize.py:78\u001b[0m, in \u001b[0;36mMemoizeJac.__call__\u001b[1;34m(self, x, *args)\u001b[0m\n\u001b[0;32m     76\u001b[0m \u001b[38;5;28;01mdef\u001b[39;00m \u001b[38;5;21m__call__\u001b[39m(\u001b[38;5;28mself\u001b[39m, x, \u001b[38;5;241m*\u001b[39margs):\n\u001b[0;32m     77\u001b[0m \u001b[38;5;250m    \u001b[39m\u001b[38;5;124;03m\"\"\" returns the function value \"\"\"\u001b[39;00m\n\u001b[1;32m---> 78\u001b[0m     \u001b[38;5;28;43mself\u001b[39;49m\u001b[38;5;241;43m.\u001b[39;49m\u001b[43m_compute_if_needed\u001b[49m\u001b[43m(\u001b[49m\u001b[43mx\u001b[49m\u001b[43m,\u001b[49m\u001b[43m \u001b[49m\u001b[38;5;241;43m*\u001b[39;49m\u001b[43margs\u001b[49m\u001b[43m)\u001b[49m\n\u001b[0;32m     79\u001b[0m     \u001b[38;5;28;01mreturn\u001b[39;00m \u001b[38;5;28mself\u001b[39m\u001b[38;5;241m.\u001b[39m_value\n",
      "File \u001b[1;32mc:\\Users\\javie\\Documents\\@JF\\JF\\Lib\\site-packages\\scipy\\optimize\\_optimize.py:72\u001b[0m, in \u001b[0;36mMemoizeJac._compute_if_needed\u001b[1;34m(self, x, *args)\u001b[0m\n\u001b[0;32m     70\u001b[0m \u001b[38;5;28;01mif\u001b[39;00m \u001b[38;5;129;01mnot\u001b[39;00m np\u001b[38;5;241m.\u001b[39mall(x \u001b[38;5;241m==\u001b[39m \u001b[38;5;28mself\u001b[39m\u001b[38;5;241m.\u001b[39mx) \u001b[38;5;129;01mor\u001b[39;00m \u001b[38;5;28mself\u001b[39m\u001b[38;5;241m.\u001b[39m_value \u001b[38;5;129;01mis\u001b[39;00m \u001b[38;5;28;01mNone\u001b[39;00m \u001b[38;5;129;01mor\u001b[39;00m \u001b[38;5;28mself\u001b[39m\u001b[38;5;241m.\u001b[39mjac \u001b[38;5;129;01mis\u001b[39;00m \u001b[38;5;28;01mNone\u001b[39;00m:\n\u001b[0;32m     71\u001b[0m     \u001b[38;5;28mself\u001b[39m\u001b[38;5;241m.\u001b[39mx \u001b[38;5;241m=\u001b[39m np\u001b[38;5;241m.\u001b[39masarray(x)\u001b[38;5;241m.\u001b[39mcopy()\n\u001b[1;32m---> 72\u001b[0m     fg \u001b[38;5;241m=\u001b[39m \u001b[38;5;28;43mself\u001b[39;49m\u001b[38;5;241;43m.\u001b[39;49m\u001b[43mfun\u001b[49m\u001b[43m(\u001b[49m\u001b[43mx\u001b[49m\u001b[43m,\u001b[49m\u001b[43m \u001b[49m\u001b[38;5;241;43m*\u001b[39;49m\u001b[43margs\u001b[49m\u001b[43m)\u001b[49m\n\u001b[0;32m     73\u001b[0m     \u001b[38;5;28mself\u001b[39m\u001b[38;5;241m.\u001b[39mjac \u001b[38;5;241m=\u001b[39m fg[\u001b[38;5;241m1\u001b[39m]\n\u001b[0;32m     74\u001b[0m     \u001b[38;5;28mself\u001b[39m\u001b[38;5;241m.\u001b[39m_value \u001b[38;5;241m=\u001b[39m fg[\u001b[38;5;241m0\u001b[39m]\n",
      "File \u001b[1;32mc:\\Users\\javie\\Documents\\@JF\\JF\\Lib\\site-packages\\botorch\\generation\\gen.py:209\u001b[0m, in \u001b[0;36mgen_candidates_scipy.<locals>.f_np_wrapper\u001b[1;34m(x, f)\u001b[0m\n\u001b[0;32m    201\u001b[0m X \u001b[38;5;241m=\u001b[39m (\n\u001b[0;32m    202\u001b[0m     torch\u001b[38;5;241m.\u001b[39mfrom_numpy(x)\n\u001b[0;32m    203\u001b[0m     \u001b[38;5;241m.\u001b[39mto(initial_conditions)\n\u001b[1;32m   (...)\u001b[0m\n\u001b[0;32m    206\u001b[0m     \u001b[38;5;241m.\u001b[39mrequires_grad_(\u001b[38;5;28;01mTrue\u001b[39;00m)\n\u001b[0;32m    207\u001b[0m )\n\u001b[0;32m    208\u001b[0m X_fix \u001b[38;5;241m=\u001b[39m fix_features(X, fixed_features\u001b[38;5;241m=\u001b[39mfixed_features)\n\u001b[1;32m--> 209\u001b[0m loss \u001b[38;5;241m=\u001b[39m \u001b[43mf\u001b[49m\u001b[43m(\u001b[49m\u001b[43mX_fix\u001b[49m\u001b[43m)\u001b[49m\u001b[38;5;241m.\u001b[39msum()\n\u001b[0;32m    210\u001b[0m \u001b[38;5;66;03m# compute gradient w.r.t. the inputs (does not accumulate in leaves)\u001b[39;00m\n\u001b[0;32m    211\u001b[0m gradf \u001b[38;5;241m=\u001b[39m _arrayify(torch\u001b[38;5;241m.\u001b[39mautograd\u001b[38;5;241m.\u001b[39mgrad(loss, X)[\u001b[38;5;241m0\u001b[39m]\u001b[38;5;241m.\u001b[39mcontiguous()\u001b[38;5;241m.\u001b[39mview(\u001b[38;5;241m-\u001b[39m\u001b[38;5;241m1\u001b[39m))\n",
      "File \u001b[1;32mc:\\Users\\javie\\Documents\\@JF\\JF\\Lib\\site-packages\\botorch\\generation\\gen.py:250\u001b[0m, in \u001b[0;36mgen_candidates_scipy.<locals>.f\u001b[1;34m(x)\u001b[0m\n\u001b[0;32m    249\u001b[0m \u001b[38;5;28;01mdef\u001b[39;00m \u001b[38;5;21mf\u001b[39m(x):\n\u001b[1;32m--> 250\u001b[0m     \u001b[38;5;28;01mreturn\u001b[39;00m \u001b[38;5;241m-\u001b[39m\u001b[43macquisition_function\u001b[49m\u001b[43m(\u001b[49m\u001b[43mx\u001b[49m\u001b[43m)\u001b[49m\n",
      "File \u001b[1;32mc:\\Users\\javie\\Documents\\@JF\\JF\\Lib\\site-packages\\torch\\nn\\modules\\module.py:1511\u001b[0m, in \u001b[0;36mModule._wrapped_call_impl\u001b[1;34m(self, *args, **kwargs)\u001b[0m\n\u001b[0;32m   1509\u001b[0m     \u001b[38;5;28;01mreturn\u001b[39;00m \u001b[38;5;28mself\u001b[39m\u001b[38;5;241m.\u001b[39m_compiled_call_impl(\u001b[38;5;241m*\u001b[39margs, \u001b[38;5;241m*\u001b[39m\u001b[38;5;241m*\u001b[39mkwargs)  \u001b[38;5;66;03m# type: ignore[misc]\u001b[39;00m\n\u001b[0;32m   1510\u001b[0m \u001b[38;5;28;01melse\u001b[39;00m:\n\u001b[1;32m-> 1511\u001b[0m     \u001b[38;5;28;01mreturn\u001b[39;00m \u001b[38;5;28;43mself\u001b[39;49m\u001b[38;5;241;43m.\u001b[39;49m\u001b[43m_call_impl\u001b[49m\u001b[43m(\u001b[49m\u001b[38;5;241;43m*\u001b[39;49m\u001b[43margs\u001b[49m\u001b[43m,\u001b[49m\u001b[43m \u001b[49m\u001b[38;5;241;43m*\u001b[39;49m\u001b[38;5;241;43m*\u001b[39;49m\u001b[43mkwargs\u001b[49m\u001b[43m)\u001b[49m\n",
      "File \u001b[1;32mc:\\Users\\javie\\Documents\\@JF\\JF\\Lib\\site-packages\\torch\\nn\\modules\\module.py:1520\u001b[0m, in \u001b[0;36mModule._call_impl\u001b[1;34m(self, *args, **kwargs)\u001b[0m\n\u001b[0;32m   1515\u001b[0m \u001b[38;5;66;03m# If we don't have any hooks, we want to skip the rest of the logic in\u001b[39;00m\n\u001b[0;32m   1516\u001b[0m \u001b[38;5;66;03m# this function, and just call forward.\u001b[39;00m\n\u001b[0;32m   1517\u001b[0m \u001b[38;5;28;01mif\u001b[39;00m \u001b[38;5;129;01mnot\u001b[39;00m (\u001b[38;5;28mself\u001b[39m\u001b[38;5;241m.\u001b[39m_backward_hooks \u001b[38;5;129;01mor\u001b[39;00m \u001b[38;5;28mself\u001b[39m\u001b[38;5;241m.\u001b[39m_backward_pre_hooks \u001b[38;5;129;01mor\u001b[39;00m \u001b[38;5;28mself\u001b[39m\u001b[38;5;241m.\u001b[39m_forward_hooks \u001b[38;5;129;01mor\u001b[39;00m \u001b[38;5;28mself\u001b[39m\u001b[38;5;241m.\u001b[39m_forward_pre_hooks\n\u001b[0;32m   1518\u001b[0m         \u001b[38;5;129;01mor\u001b[39;00m _global_backward_pre_hooks \u001b[38;5;129;01mor\u001b[39;00m _global_backward_hooks\n\u001b[0;32m   1519\u001b[0m         \u001b[38;5;129;01mor\u001b[39;00m _global_forward_hooks \u001b[38;5;129;01mor\u001b[39;00m _global_forward_pre_hooks):\n\u001b[1;32m-> 1520\u001b[0m     \u001b[38;5;28;01mreturn\u001b[39;00m \u001b[43mforward_call\u001b[49m\u001b[43m(\u001b[49m\u001b[38;5;241;43m*\u001b[39;49m\u001b[43margs\u001b[49m\u001b[43m,\u001b[49m\u001b[43m \u001b[49m\u001b[38;5;241;43m*\u001b[39;49m\u001b[38;5;241;43m*\u001b[39;49m\u001b[43mkwargs\u001b[49m\u001b[43m)\u001b[49m\n\u001b[0;32m   1522\u001b[0m \u001b[38;5;28;01mtry\u001b[39;00m:\n\u001b[0;32m   1523\u001b[0m     result \u001b[38;5;241m=\u001b[39m \u001b[38;5;28;01mNone\u001b[39;00m\n",
      "File \u001b[1;32mc:\\Users\\javie\\Documents\\@JF\\JF\\Lib\\site-packages\\botorch\\utils\\transforms.py:259\u001b[0m, in \u001b[0;36mt_batch_mode_transform.<locals>.decorator.<locals>.decorated\u001b[1;34m(acqf, X, *args, **kwargs)\u001b[0m\n\u001b[0;32m    257\u001b[0m \u001b[38;5;66;03m# add t-batch dim\u001b[39;00m\n\u001b[0;32m    258\u001b[0m X \u001b[38;5;241m=\u001b[39m X \u001b[38;5;28;01mif\u001b[39;00m X\u001b[38;5;241m.\u001b[39mdim() \u001b[38;5;241m>\u001b[39m \u001b[38;5;241m2\u001b[39m \u001b[38;5;28;01melse\u001b[39;00m X\u001b[38;5;241m.\u001b[39munsqueeze(\u001b[38;5;241m0\u001b[39m)\n\u001b[1;32m--> 259\u001b[0m output \u001b[38;5;241m=\u001b[39m \u001b[43mmethod\u001b[49m\u001b[43m(\u001b[49m\u001b[43macqf\u001b[49m\u001b[43m,\u001b[49m\u001b[43m \u001b[49m\u001b[43mX\u001b[49m\u001b[43m,\u001b[49m\u001b[43m \u001b[49m\u001b[38;5;241;43m*\u001b[39;49m\u001b[43margs\u001b[49m\u001b[43m,\u001b[49m\u001b[43m \u001b[49m\u001b[38;5;241;43m*\u001b[39;49m\u001b[38;5;241;43m*\u001b[39;49m\u001b[43mkwargs\u001b[49m\u001b[43m)\u001b[49m\n\u001b[0;32m    260\u001b[0m \u001b[38;5;28;01mif\u001b[39;00m \u001b[38;5;28mhasattr\u001b[39m(acqf, \u001b[38;5;124m\"\u001b[39m\u001b[38;5;124mmodel\u001b[39m\u001b[38;5;124m\"\u001b[39m) \u001b[38;5;129;01mand\u001b[39;00m is_ensemble(acqf\u001b[38;5;241m.\u001b[39mmodel):\n\u001b[0;32m    261\u001b[0m     \u001b[38;5;66;03m# IDEA: this could be wrapped into SampleReducingMCAcquisitionFunction\u001b[39;00m\n\u001b[0;32m    262\u001b[0m     output \u001b[38;5;241m=\u001b[39m (\n\u001b[0;32m    263\u001b[0m         output\u001b[38;5;241m.\u001b[39mmean(dim\u001b[38;5;241m=\u001b[39m\u001b[38;5;241m-\u001b[39m\u001b[38;5;241m1\u001b[39m) \u001b[38;5;28;01mif\u001b[39;00m \u001b[38;5;129;01mnot\u001b[39;00m acqf\u001b[38;5;241m.\u001b[39m_log \u001b[38;5;28;01melse\u001b[39;00m logmeanexp(output, dim\u001b[38;5;241m=\u001b[39m\u001b[38;5;241m-\u001b[39m\u001b[38;5;241m1\u001b[39m)\n\u001b[0;32m    264\u001b[0m     )\n",
      "File \u001b[1;32mc:\\Users\\javie\\Documents\\@JF\\JF\\Lib\\site-packages\\botorch\\acquisition\\analytic.py:355\u001b[0m, in \u001b[0;36mExpectedImprovement.forward\u001b[1;34m(self, X)\u001b[0m\n\u001b[0;32m    341\u001b[0m \u001b[38;5;129m@t_batch_mode_transform\u001b[39m(expected_q\u001b[38;5;241m=\u001b[39m\u001b[38;5;241m1\u001b[39m)\n\u001b[0;32m    342\u001b[0m \u001b[38;5;28;01mdef\u001b[39;00m \u001b[38;5;21mforward\u001b[39m(\u001b[38;5;28mself\u001b[39m, X: Tensor) \u001b[38;5;241m-\u001b[39m\u001b[38;5;241m>\u001b[39m Tensor:\n\u001b[0;32m    343\u001b[0m \u001b[38;5;250m    \u001b[39m\u001b[38;5;124mr\u001b[39m\u001b[38;5;124;03m\"\"\"Evaluate Expected Improvement on the candidate set X.\u001b[39;00m\n\u001b[0;32m    344\u001b[0m \n\u001b[0;32m    345\u001b[0m \u001b[38;5;124;03m    Args:\u001b[39;00m\n\u001b[1;32m   (...)\u001b[0m\n\u001b[0;32m    353\u001b[0m \u001b[38;5;124;03m        given design points `X`.\u001b[39;00m\n\u001b[0;32m    354\u001b[0m \u001b[38;5;124;03m    \"\"\"\u001b[39;00m\n\u001b[1;32m--> 355\u001b[0m     mean, sigma \u001b[38;5;241m=\u001b[39m \u001b[38;5;28;43mself\u001b[39;49m\u001b[38;5;241;43m.\u001b[39;49m\u001b[43m_mean_and_sigma\u001b[49m\u001b[43m(\u001b[49m\u001b[43mX\u001b[49m\u001b[43m)\u001b[49m\n\u001b[0;32m    356\u001b[0m     u \u001b[38;5;241m=\u001b[39m _scaled_improvement(mean, sigma, \u001b[38;5;28mself\u001b[39m\u001b[38;5;241m.\u001b[39mbest_f, \u001b[38;5;28mself\u001b[39m\u001b[38;5;241m.\u001b[39mmaximize)\n\u001b[0;32m    357\u001b[0m     \u001b[38;5;28;01mreturn\u001b[39;00m sigma \u001b[38;5;241m*\u001b[39m _ei_helper(u)\n",
      "File \u001b[1;32mc:\\Users\\javie\\Documents\\@JF\\JF\\Lib\\site-packages\\botorch\\acquisition\\analytic.py:106\u001b[0m, in \u001b[0;36mAnalyticAcquisitionFunction._mean_and_sigma\u001b[1;34m(self, X, compute_sigma, min_var)\u001b[0m\n\u001b[0;32m     92\u001b[0m \u001b[38;5;250m\u001b[39m\u001b[38;5;124;03m\"\"\"Computes the first and second moments of the model posterior.\u001b[39;00m\n\u001b[0;32m     93\u001b[0m \n\u001b[0;32m     94\u001b[0m \u001b[38;5;124;03mArgs:\u001b[39;00m\n\u001b[1;32m   (...)\u001b[0m\n\u001b[0;32m    103\u001b[0m \u001b[38;5;124;03m    returns a single tensor of means if compute_sigma is True.\u001b[39;00m\n\u001b[0;32m    104\u001b[0m \u001b[38;5;124;03m\"\"\"\u001b[39;00m\n\u001b[0;32m    105\u001b[0m \u001b[38;5;28mself\u001b[39m\u001b[38;5;241m.\u001b[39mto(device\u001b[38;5;241m=\u001b[39mX\u001b[38;5;241m.\u001b[39mdevice)  \u001b[38;5;66;03m# ensures buffers / parameters are on the same device\u001b[39;00m\n\u001b[1;32m--> 106\u001b[0m posterior \u001b[38;5;241m=\u001b[39m \u001b[38;5;28;43mself\u001b[39;49m\u001b[38;5;241;43m.\u001b[39;49m\u001b[43mmodel\u001b[49m\u001b[38;5;241;43m.\u001b[39;49m\u001b[43mposterior\u001b[49m\u001b[43m(\u001b[49m\n\u001b[0;32m    107\u001b[0m \u001b[43m    \u001b[49m\u001b[43mX\u001b[49m\u001b[38;5;241;43m=\u001b[39;49m\u001b[43mX\u001b[49m\u001b[43m,\u001b[49m\u001b[43m \u001b[49m\u001b[43mposterior_transform\u001b[49m\u001b[38;5;241;43m=\u001b[39;49m\u001b[38;5;28;43mself\u001b[39;49m\u001b[38;5;241;43m.\u001b[39;49m\u001b[43mposterior_transform\u001b[49m\n\u001b[0;32m    108\u001b[0m \u001b[43m\u001b[49m\u001b[43m)\u001b[49m\n\u001b[0;32m    109\u001b[0m mean \u001b[38;5;241m=\u001b[39m posterior\u001b[38;5;241m.\u001b[39mmean\u001b[38;5;241m.\u001b[39msqueeze(\u001b[38;5;241m-\u001b[39m\u001b[38;5;241m2\u001b[39m)\u001b[38;5;241m.\u001b[39msqueeze(\u001b[38;5;241m-\u001b[39m\u001b[38;5;241m1\u001b[39m)  \u001b[38;5;66;03m# removing redundant dimensions\u001b[39;00m\n\u001b[0;32m    110\u001b[0m \u001b[38;5;28;01mif\u001b[39;00m \u001b[38;5;129;01mnot\u001b[39;00m compute_sigma:\n",
      "File \u001b[1;32mc:\\Users\\javie\\Documents\\@JF\\JF\\Lib\\site-packages\\botorch\\models\\gpytorch.py:383\u001b[0m, in \u001b[0;36mBatchedMultiOutputGPyTorchModel.posterior\u001b[1;34m(self, X, output_indices, observation_noise, posterior_transform, **kwargs)\u001b[0m\n\u001b[0;32m    377\u001b[0m     X, output_dim_idx \u001b[38;5;241m=\u001b[39m add_output_dim(\n\u001b[0;32m    378\u001b[0m         X\u001b[38;5;241m=\u001b[39mX, original_batch_shape\u001b[38;5;241m=\u001b[39m\u001b[38;5;28mself\u001b[39m\u001b[38;5;241m.\u001b[39m_input_batch_shape\n\u001b[0;32m    379\u001b[0m     )\n\u001b[0;32m    380\u001b[0m \u001b[38;5;66;03m# NOTE: BoTorch's GPyTorchModels also inherit from GPyTorch's ExactGP, thus\u001b[39;00m\n\u001b[0;32m    381\u001b[0m \u001b[38;5;66;03m# self(X) calls GPyTorch's ExactGP's __call__, which computes the posterior,\u001b[39;00m\n\u001b[0;32m    382\u001b[0m \u001b[38;5;66;03m# rather than e.g. SingleTaskGP's forward, which computes the prior.\u001b[39;00m\n\u001b[1;32m--> 383\u001b[0m mvn \u001b[38;5;241m=\u001b[39m \u001b[38;5;28;43mself\u001b[39;49m\u001b[43m(\u001b[49m\u001b[43mX\u001b[49m\u001b[43m)\u001b[49m\n\u001b[0;32m    384\u001b[0m \u001b[38;5;28;01mif\u001b[39;00m observation_noise \u001b[38;5;129;01mis\u001b[39;00m \u001b[38;5;129;01mnot\u001b[39;00m \u001b[38;5;28;01mFalse\u001b[39;00m:\n\u001b[0;32m    385\u001b[0m     \u001b[38;5;28;01mif\u001b[39;00m \u001b[38;5;28mself\u001b[39m\u001b[38;5;241m.\u001b[39m_num_outputs \u001b[38;5;241m>\u001b[39m \u001b[38;5;241m1\u001b[39m:\n",
      "File \u001b[1;32mc:\\Users\\javie\\Documents\\@JF\\JF\\Lib\\site-packages\\gpytorch\\models\\exact_gp.py:333\u001b[0m, in \u001b[0;36mExactGP.__call__\u001b[1;34m(self, *args, **kwargs)\u001b[0m\n\u001b[0;32m    328\u001b[0m \u001b[38;5;66;03m# Make the prediction\u001b[39;00m\n\u001b[0;32m    329\u001b[0m \u001b[38;5;28;01mwith\u001b[39;00m settings\u001b[38;5;241m.\u001b[39mcg_tolerance(settings\u001b[38;5;241m.\u001b[39meval_cg_tolerance\u001b[38;5;241m.\u001b[39mvalue()):\n\u001b[0;32m    330\u001b[0m     (\n\u001b[0;32m    331\u001b[0m         predictive_mean,\n\u001b[0;32m    332\u001b[0m         predictive_covar,\n\u001b[1;32m--> 333\u001b[0m     ) \u001b[38;5;241m=\u001b[39m \u001b[38;5;28;43mself\u001b[39;49m\u001b[38;5;241;43m.\u001b[39;49m\u001b[43mprediction_strategy\u001b[49m\u001b[38;5;241;43m.\u001b[39;49m\u001b[43mexact_prediction\u001b[49m\u001b[43m(\u001b[49m\u001b[43mfull_mean\u001b[49m\u001b[43m,\u001b[49m\u001b[43m \u001b[49m\u001b[43mfull_covar\u001b[49m\u001b[43m)\u001b[49m\n\u001b[0;32m    335\u001b[0m \u001b[38;5;66;03m# Reshape predictive mean to match the appropriate event shape\u001b[39;00m\n\u001b[0;32m    336\u001b[0m predictive_mean \u001b[38;5;241m=\u001b[39m predictive_mean\u001b[38;5;241m.\u001b[39mview(\u001b[38;5;241m*\u001b[39mbatch_shape, \u001b[38;5;241m*\u001b[39mtest_shape)\u001b[38;5;241m.\u001b[39mcontiguous()\n",
      "File \u001b[1;32mc:\\Users\\javie\\Documents\\@JF\\JF\\Lib\\site-packages\\gpytorch\\models\\exact_prediction_strategies.py:290\u001b[0m, in \u001b[0;36mDefaultPredictionStrategy.exact_prediction\u001b[1;34m(self, joint_mean, joint_covar)\u001b[0m\n\u001b[0;32m    285\u001b[0m     test_test_covar \u001b[38;5;241m=\u001b[39m joint_covar[\u001b[38;5;241m.\u001b[39m\u001b[38;5;241m.\u001b[39m\u001b[38;5;241m.\u001b[39m, \u001b[38;5;28mself\u001b[39m\u001b[38;5;241m.\u001b[39mnum_train :, \u001b[38;5;28mself\u001b[39m\u001b[38;5;241m.\u001b[39mnum_train :]\n\u001b[0;32m    286\u001b[0m     test_train_covar \u001b[38;5;241m=\u001b[39m joint_covar[\u001b[38;5;241m.\u001b[39m\u001b[38;5;241m.\u001b[39m\u001b[38;5;241m.\u001b[39m, \u001b[38;5;28mself\u001b[39m\u001b[38;5;241m.\u001b[39mnum_train :, : \u001b[38;5;28mself\u001b[39m\u001b[38;5;241m.\u001b[39mnum_train]\n\u001b[0;32m    288\u001b[0m \u001b[38;5;28;01mreturn\u001b[39;00m (\n\u001b[0;32m    289\u001b[0m     \u001b[38;5;28mself\u001b[39m\u001b[38;5;241m.\u001b[39mexact_predictive_mean(test_mean, test_train_covar),\n\u001b[1;32m--> 290\u001b[0m     \u001b[38;5;28;43mself\u001b[39;49m\u001b[38;5;241;43m.\u001b[39;49m\u001b[43mexact_predictive_covar\u001b[49m\u001b[43m(\u001b[49m\u001b[43mtest_test_covar\u001b[49m\u001b[43m,\u001b[49m\u001b[43m \u001b[49m\u001b[43mtest_train_covar\u001b[49m\u001b[43m)\u001b[49m,\n\u001b[0;32m    291\u001b[0m )\n",
      "File \u001b[1;32mc:\\Users\\javie\\Documents\\@JF\\JF\\Lib\\site-packages\\gpytorch\\models\\exact_prediction_strategies.py:361\u001b[0m, in \u001b[0;36mDefaultPredictionStrategy.exact_predictive_covar\u001b[1;34m(self, test_test_covar, test_train_covar)\u001b[0m\n\u001b[0;32m    357\u001b[0m covar_inv_quad_form_root \u001b[38;5;241m=\u001b[39m \u001b[38;5;28mself\u001b[39m\u001b[38;5;241m.\u001b[39m_exact_predictive_covar_inv_quad_form_root(precomputed_cache, test_train_covar)\n\u001b[0;32m    358\u001b[0m \u001b[38;5;28;01mif\u001b[39;00m torch\u001b[38;5;241m.\u001b[39mis_tensor(test_test_covar):\n\u001b[0;32m    359\u001b[0m     \u001b[38;5;28;01mreturn\u001b[39;00m to_linear_operator(\n\u001b[0;32m    360\u001b[0m         torch\u001b[38;5;241m.\u001b[39madd(\n\u001b[1;32m--> 361\u001b[0m             test_test_covar, covar_inv_quad_form_root \u001b[38;5;241m@\u001b[39m \u001b[43mcovar_inv_quad_form_root\u001b[49m\u001b[38;5;241;43m.\u001b[39;49m\u001b[43mtranspose\u001b[49m\u001b[43m(\u001b[49m\u001b[38;5;241;43m-\u001b[39;49m\u001b[38;5;241;43m1\u001b[39;49m\u001b[43m,\u001b[49m\u001b[43m \u001b[49m\u001b[38;5;241;43m-\u001b[39;49m\u001b[38;5;241;43m2\u001b[39;49m\u001b[43m)\u001b[49m, alpha\u001b[38;5;241m=\u001b[39m\u001b[38;5;241m-\u001b[39m\u001b[38;5;241m1\u001b[39m\n\u001b[0;32m    362\u001b[0m         )\n\u001b[0;32m    363\u001b[0m     )\n\u001b[0;32m    364\u001b[0m \u001b[38;5;28;01melse\u001b[39;00m:\n\u001b[0;32m    365\u001b[0m     \u001b[38;5;28;01mreturn\u001b[39;00m test_test_covar \u001b[38;5;241m+\u001b[39m MatmulLinearOperator(\n\u001b[0;32m    366\u001b[0m         covar_inv_quad_form_root, covar_inv_quad_form_root\u001b[38;5;241m.\u001b[39mtranspose(\u001b[38;5;241m-\u001b[39m\u001b[38;5;241m1\u001b[39m, \u001b[38;5;241m-\u001b[39m\u001b[38;5;241m2\u001b[39m)\u001b[38;5;241m.\u001b[39mmul(\u001b[38;5;241m-\u001b[39m\u001b[38;5;241m1\u001b[39m)\n\u001b[0;32m    367\u001b[0m     )\n",
      "\u001b[1;31mKeyboardInterrupt\u001b[0m: "
     ]
    }
   ],
   "source": [
    "n_iter = 200\n",
    "batch_size = 50\n",
    "Nrestats = 10\n",
    "\n",
    "y_init_opt , x_init_opt = y_init_t, X_init_norm \n",
    "gp_model = SingleTaskGP(X_init_norm, y_init_opt)\n",
    "mll = ExactMarginalLogLikelihood(gp_model.likelihood, gp_model)\n",
    "fit_gpytorch_model(mll)\n",
    "\n",
    "for iteration in range(n_iter):\n",
    "    print(f'Iteration: {iteration} Best loss = {Y_init.min().item():.2f}')\n",
    "    acq_func = ExpectedImprovement(model=gp_model, best_f=Y_init.min(), maximize=False)\n",
    "    new_x, _ = optimize_acqf(\n",
    "        acq_function=acq_func,\n",
    "        bounds=bounds,\n",
    "        q=1,\n",
    "        num_restarts= Nrestats,\n",
    "        raw_samples= batch_size,\n",
    "    )\n",
    "\n",
    "    new_x_unnorm = unnormalize(new_x, bounds=bounds)\n",
    "    new_y = objective_function(new_x_unnorm)\n",
    "    new_y = torch.tensor(new_y, dtype=torch.float32).reshape(1,-1)\n",
    "    \n",
    "    X_init_norm = torch.cat([X_init_norm, new_x])\n",
    "    Y_init = torch.cat([Y_init, new_y])\n",
    "   \n",
    "    gp_model.set_train_data(inputs=X_init_norm, targets=Y_init.flatten(), strict=False)\n",
    "    fit_gpytorch_model(mll)"
   ]
  },
  {
   "cell_type": "markdown",
   "metadata": {},
   "source": [
    "## <strong> 3 | Results </strong>"
   ]
  },
  {
   "cell_type": "code",
   "execution_count": 248,
   "metadata": {},
   "outputs": [
    {
     "data": {
      "text/plain": [
       "<Axes: >"
      ]
     },
     "execution_count": 248,
     "metadata": {},
     "output_type": "execute_result"
    },
    {
     "data": {
      "image/png": "[encoded data removed]",
      "text/plain": [
       "<Figure size 640x480 with 1 Axes>"
      ]
     },
     "metadata": {},
     "output_type": "display_data"
    }
   ],
   "source": [
    "best_ind = Y_init.argmin()\n",
    "best_x = X_init_norm[best_ind]\n",
    "best_y = Y_init[best_ind]\n",
    "best_x_unorm = unnormalize(best_x, bounds=bounds)\n",
    "\n",
    "TRUSS1.state[\"monitor_df\"][\"Total Loss\"][n_samples:].plot()"
   ]
  },
  {
   "cell_type": "markdown",
   "metadata": {},
   "source": [
    "## <strong> 4 | Benchmarking against Karnachos </strong>"
   ]
  },
  {
   "cell_type": "markdown",
   "metadata": {},
   "source": [
    "### <strong> 4.1 | Final Trusses & Basic statistics </strong>"
   ]
  },
  {
   "cell_type": "code",
   "execution_count": 249,
   "metadata": {},
   "outputs": [
    {
     "data": {
      "image/png": "[encoded data removed]",
      "text/plain": [
       "<Figure size 640x480 with 2 Axes>"
      ]
     },
     "metadata": {},
     "output_type": "display_data"
    },
    {
     "name": "stdout",
     "output_type": "stream",
     "text": [
      "Smallest three natural frequencies:  [20.06682059 40.53905183 61.8225322 ]  Hz\n"
     ]
    },
    {
     "data": {
      "image/png": "[encoded data removed]",
      "text/plain": [
       "<Figure size 640x480 with 2 Axes>"
      ]
     },
     "metadata": {},
     "output_type": "display_data"
    },
    {
     "data": {
      "text/plain": [
       "360.07710670521664"
      ]
     },
     "execution_count": 249,
     "metadata": {},
     "output_type": "execute_result"
    }
   ],
   "source": [
    "#                      IMPORT AND INTIATE KANARCHOS BRIDGE                     #\n",
    "# ---------------------------------------------------------------------------- #\n",
    "path_pro = os.path.normpath(os.path.join(read_file_path, 'bridge_frequency_kr.pro'))\n",
    "props = pu.parse_file(path_pro)\n",
    "\n",
    "path_geom = os.path.normpath(os.path.join(read_file_path, 'bridge_kanarachos.geom'))\n",
    "props['model']['truss']['area'] = [ 40e-4, 3.1997e-4, 1.0025e-4, 1.0000e-4, 2.5875e-4, 1.0895e-4, 1.1261e-4, 2.5624e-4, 1.4121e-4, 1.5758e-4, 2.2461e-4, 1.0694e-4, 1.3193e-4, 2.3846e-4, 1.0001e-4 ]\n",
    "props['init']['mesh']['file'] = path_geom\n",
    "\n",
    "trap = io.StringIO()\n",
    "with redirect_stdout(trap):\n",
    "    globdat = main.jive(props)\n",
    "print('Smallest three natural frequencies: ', globdat[gn.EIGENFREQS][0:3]/2/np.pi, ' Hz')\n",
    "\n",
    "final_results(write_file_path, TRUSS1, best_x_unorm , TRUSS1.state[\"cross_sections\"])\n",
    "# ------------------------ Initiate a Karnachos obect ------------------------ #\n",
    "read_file_path = '../truss_bridge/data'\n",
    "read_file = 'bridge_kanarachos.geom'\n",
    "write_file_path =  None\n",
    "write_file = None\n",
    "violation_factor = None\n",
    "freq_constraints = None\n",
    "mass_weight = None\n",
    "freq_weight = None\n",
    "scalers = [None,None]\n",
    "bounds = None\n",
    "\n",
    "TRUSSKN= TRUSS(read_file_path,\n",
    "               read_file,\n",
    "                write_file_path,\n",
    "                write_file,\n",
    "                violation_factor,\n",
    "                scalers,\n",
    "                bounds,\n",
    "                freq_constraints= freq_constraints, \n",
    "                mass_weight= mass_weight, \n",
    "                freq_weight= freq_weight)\n",
    "TRUSSKN.read_geom_file()\n",
    "\n",
    "y_coord = TRUSSKN.state[\"y_coordinates\"][::2][1:6]\n",
    "areas_kn = np.array(props['model']['truss']['area'])\n",
    "TRUSSKN.mass_truss(areas_kn, y_coord)"
   ]
  },
  {
   "cell_type": "code",
   "execution_count": 250,
   "metadata": {},
   "outputs": [
    {
     "data": {
      "text/html": [
       "<div>\n",
       "<style scoped>\n",
       "    .dataframe tbody tr th:only-of-type {\n",
       "        vertical-align: middle;\n",
       "    }\n",
       "\n",
       "    .dataframe tbody tr th {\n",
       "        vertical-align: top;\n",
       "    }\n",
       "\n",
       "    .dataframe thead th {\n",
       "        text-align: right;\n",
       "    }\n",
       "</style>\n",
       "<table border=\"1\" class=\"dataframe\">\n",
       "  <thead>\n",
       "    <tr style=\"text-align: right;\">\n",
       "      <th></th>\n",
       "      <th>Cross Section Average</th>\n",
       "      <th>Natural Frequency Average</th>\n",
       "      <th>Mass</th>\n",
       "    </tr>\n",
       "  </thead>\n",
       "  <tbody>\n",
       "    <tr>\n",
       "      <th>Kanarachos model</th>\n",
       "      <td>0.000424</td>\n",
       "      <td>41.497568</td>\n",
       "      <td>360.077107</td>\n",
       "    </tr>\n",
       "    <tr>\n",
       "      <th>TRUSS model</th>\n",
       "      <td>0.000433</td>\n",
       "      <td>40.809468</td>\n",
       "      <td>371.645154</td>\n",
       "    </tr>\n",
       "  </tbody>\n",
       "</table>\n",
       "</div>"
      ],
      "text/plain": [
       "                  Cross Section Average  Natural Frequency Average        Mass\n",
       "Kanarachos model               0.000424                  41.497568  360.077107\n",
       "TRUSS model                    0.000433                  40.809468  371.645154"
      ]
     },
     "execution_count": 250,
     "metadata": {},
     "output_type": "execute_result"
    }
   ],
   "source": [
    "# ----------------------------------- Data ----------------------------------- #\n",
    "TR_cs = TRUSS1.state[\"cross_sections\"].numpy()\n",
    "KN_cs = TRUSSKN.state[\"cross_sections\"]\n",
    "\n",
    "TR_m = TRUSS1.mass_truss(TR_cs, TRUSS1.state[\"y_coordinates\"][::2][1:6])\n",
    "KN_m = TRUSSKN.mass_truss(KN_cs, TRUSSKN.state[\"y_coordinates\"][::2][1:6])\n",
    "\n",
    "NFK = globdat[gn.EIGENFREQS][0:3]/2/np.pi\n",
    "NFTR = TRUSS1.state[\"monitor_df\"][\"Natural Frequencies\"][best_ind.numpy()]\n",
    "\n",
    "data = {\n",
    "    'Model': ['Kanarachos model', 'TRUSS model'],\n",
    "    'Cross Section Average': [KN_cs.mean(), TR_cs.mean()],\n",
    "    'Natural Frequency Average': [np.mean(NFTR), np.mean(NFK)],\n",
    "    'Mass': [KN_m, TR_m]\n",
    "}\n",
    "basic_comp = pd.DataFrame(data)\n",
    "basic_comp.set_index('Model', inplace=True)\n",
    "basic_comp.index.name = None\n",
    "basic_comp"
   ]
  },
  {
   "cell_type": "markdown",
   "metadata": {},
   "source": [
    "### <strong> 4.2 | Comparing benchmarks </strong>"
   ]
  },
  {
   "cell_type": "code",
   "execution_count": 251,
   "metadata": {},
   "outputs": [
    {
     "name": "stderr",
     "output_type": "stream",
     "text": [
      "c:\\Users\\javie\\Documents\\@JF\\JF\\Lib\\site-packages\\plotly\\express\\_core.py:2065: FutureWarning:\n",
      "\n",
      "When grouping with a length-1 list-like, you will need to pass a length-1 tuple to get_group in a future version of pandas. Pass `(name,)` instead of `name` to silence this warning.\n",
      "\n"
     ]
    },
    {
     "data": {
      "application/vnd.plotly.v1+json": {
       "config": {
        "plotlyServerURL": "https://plot.ly"
       },
       "data": [
        {
         "alignmentgroup": "True",
         "hovertemplate": "Model=Model 1 (TRUSS1)<br>Metric=%{x}<br>Normalized Value=%{y}<extra></extra>",
         "legendgroup": "Model 1 (TRUSS1)",
         "marker": {
          "color": "rgb(102,194,165)",
          "pattern": {
           "shape": ""
          }
         },
         "name": "Model 1 (TRUSS1)",
         "offsetgroup": "Model 1 (TRUSS1)",
         "orientation": "v",
         "showlegend": true,
         "textposition": "auto",
         "type": "bar",
         "x": [
          "Cross Sections (Mean)",
          "Mass",
          "Nat. Freq. 1",
          "Nat. Freq. 2",
          "Nat. Freq. 3"
         ],
         "xaxis": "x",
         "y": [
          0.10818,
          1,
          0.32756093468808184,
          0.6416695629577068,
          1
         ],
         "yaxis": "y"
        },
        {
         "alignmentgroup": "True",
         "hovertemplate": "Model=Model 2 (TRUSSKN)<br>Metric=%{x}<br>Normalized Value=%{y}<extra></extra>",
         "legendgroup": "Model 2 (TRUSSKN)",
         "marker": {
          "color": "rgb(252,141,98)",
          "pattern": {
           "shape": ""
          }
         },
         "name": "Model 2 (TRUSSKN)",
         "offsetgroup": "Model 2 (TRUSSKN)",
         "orientation": "v",
         "showlegend": true,
         "textposition": "auto",
         "type": "bar",
         "x": [
          "Cross Sections (Mean)",
          "Mass",
          "Nat. Freq. 1",
          "Nat. Freq. 2",
          "Nat. Freq. 3"
         ],
         "xaxis": "x",
         "y": [
          0.1059585,
          0.9688734080672022,
          0.31741775872230976,
          0.6412483190849524,
          0.9779112501629189
         ],
         "yaxis": "y"
        }
       ],
       "layout": {
        "barmode": "group",
        "legend": {
         "title": {
          "text": "Model"
         },
         "tracegroupgap": 0
        },
        "template": {
         "data": {
          "bar": [
           {
            "error_x": {
             "color": "#2a3f5f"
            },
            "error_y": {
             "color": "#2a3f5f"
            },
            "marker": {
             "line": {
              "color": "#E5ECF6",
              "width": 0.5
             },
             "pattern": {
              "fillmode": "overlay",
              "size": 10,
              "solidity": 0.2
             }
            },
            "type": "bar"
           }
          ],
          "barpolar": [
           {
            "marker": {
             "line": {
              "color": "#E5ECF6",
              "width": 0.5
             },
             "pattern": {
              "fillmode": "overlay",
              "size": 10,
              "solidity": 0.2
             }
            },
            "type": "barpolar"
           }
          ],
          "carpet": [
           {
            "aaxis": {
             "endlinecolor": "#2a3f5f",
             "gridcolor": "white",
             "linecolor": "white",
             "minorgridcolor": "white",
             "startlinecolor": "#2a3f5f"
            },
            "baxis": {
             "endlinecolor": "#2a3f5f",
             "gridcolor": "white",
             "linecolor": "white",
             "minorgridcolor": "white",
             "startlinecolor": "#2a3f5f"
            },
            "type": "carpet"
           }
          ],
          "choropleth": [
           {
            "colorbar": {
             "outlinewidth": 0,
             "ticks": ""
            },
            "type": "choropleth"
           }
          ],
          "contour": [
           {
            "colorbar": {
             "outlinewidth": 0,
             "ticks": ""
            },
            "colorscale": [
             [
              0,
              "#0d0887"
             ],
             [
              0.1111111111111111,
              "#46039f"
             ],
             [
              0.2222222222222222,
              "#7201a8"
             ],
             [
              0.3333333333333333,
              "#9c179e"
             ],
             [
              0.4444444444444444,
              "#bd3786"
             ],
             [
              0.5555555555555556,
              "#d8576b"
             ],
             [
              0.6666666666666666,
              "#ed7953"
             ],
             [
              0.7777777777777778,
              "#fb9f3a"
             ],
             [
              0.8888888888888888,
              "#fdca26"
             ],
             [
              1,
              "#f0f921"
             ]
            ],
            "type": "contour"
           }
          ],
          "contourcarpet": [
           {
            "colorbar": {
             "outlinewidth": 0,
             "ticks": ""
            },
            "type": "contourcarpet"
           }
          ],
          "heatmap": [
           {
            "colorbar": {
             "outlinewidth": 0,
             "ticks": ""
            },
            "colorscale": [
             [
              0,
              "#0d0887"
             ],
             [
              0.1111111111111111,
              "#46039f"
             ],
             [
              0.2222222222222222,
              "#7201a8"
             ],
             [
              0.3333333333333333,
              "#9c179e"
             ],
             [
              0.4444444444444444,
              "#bd3786"
             ],
             [
              0.5555555555555556,
              "#d8576b"
             ],
             [
              0.6666666666666666,
              "#ed7953"
             ],
             [
              0.7777777777777778,
              "#fb9f3a"
             ],
             [
              0.8888888888888888,
              "#fdca26"
             ],
             [
              1,
              "#f0f921"
             ]
            ],
            "type": "heatmap"
           }
          ],
          "heatmapgl": [
           {
            "colorbar": {
             "outlinewidth": 0,
             "ticks": ""
            },
            "colorscale": [
             [
              0,
              "#0d0887"
             ],
             [
              0.1111111111111111,
              "#46039f"
             ],
             [
              0.2222222222222222,
              "#7201a8"
             ],
             [
              0.3333333333333333,
              "#9c179e"
             ],
             [
              0.4444444444444444,
              "#bd3786"
             ],
             [
              0.5555555555555556,
              "#d8576b"
             ],
             [
              0.6666666666666666,
              "#ed7953"
             ],
             [
              0.7777777777777778,
              "#fb9f3a"
             ],
             [
              0.8888888888888888,
              "#fdca26"
             ],
             [
              1,
              "#f0f921"
             ]
            ],
            "type": "heatmapgl"
           }
          ],
          "histogram": [
           {
            "marker": {
             "pattern": {
              "fillmode": "overlay",
              "size": 10,
              "solidity": 0.2
             }
            },
            "type": "histogram"
           }
          ],
          "histogram2d": [
           {
            "colorbar": {
             "outlinewidth": 0,
             "ticks": ""
            },
            "colorscale": [
             [
              0,
              "#0d0887"
             ],
             [
              0.1111111111111111,
              "#46039f"
             ],
             [
              0.2222222222222222,
              "#7201a8"
             ],
             [
              0.3333333333333333,
              "#9c179e"
             ],
             [
              0.4444444444444444,
              "#bd3786"
             ],
             [
              0.5555555555555556,
              "#d8576b"
             ],
             [
              0.6666666666666666,
              "#ed7953"
             ],
             [
              0.7777777777777778,
              "#fb9f3a"
             ],
             [
              0.8888888888888888,
              "#fdca26"
             ],
             [
              1,
              "#f0f921"
             ]
            ],
            "type": "histogram2d"
           }
          ],
          "histogram2dcontour": [
           {
            "colorbar": {
             "outlinewidth": 0,
             "ticks": ""
            },
            "colorscale": [
             [
              0,
              "#0d0887"
             ],
             [
              0.1111111111111111,
              "#46039f"
             ],
             [
              0.2222222222222222,
              "#7201a8"
             ],
             [
              0.3333333333333333,
              "#9c179e"
             ],
             [
              0.4444444444444444,
              "#bd3786"
             ],
             [
              0.5555555555555556,
              "#d8576b"
             ],
             [
              0.6666666666666666,
              "#ed7953"
             ],
             [
              0.7777777777777778,
              "#fb9f3a"
             ],
             [
              0.8888888888888888,
              "#fdca26"
             ],
             [
              1,
              "#f0f921"
             ]
            ],
            "type": "histogram2dcontour"
           }
          ],
          "mesh3d": [
           {
            "colorbar": {
             "outlinewidth": 0,
             "ticks": ""
            },
            "type": "mesh3d"
           }
          ],
          "parcoords": [
           {
            "line": {
             "colorbar": {
              "outlinewidth": 0,
              "ticks": ""
             }
            },
            "type": "parcoords"
           }
          ],
          "pie": [
           {
            "automargin": true,
            "type": "pie"
           }
          ],
          "scatter": [
           {
            "fillpattern": {
             "fillmode": "overlay",
             "size": 10,
             "solidity": 0.2
            },
            "type": "scatter"
           }
          ],
          "scatter3d": [
           {
            "line": {
             "colorbar": {
              "outlinewidth": 0,
              "ticks": ""
             }
            },
            "marker": {
             "colorbar": {
              "outlinewidth": 0,
              "ticks": ""
             }
            },
            "type": "scatter3d"
           }
          ],
          "scattercarpet": [
           {
            "marker": {
             "colorbar": {
              "outlinewidth": 0,
              "ticks": ""
             }
            },
            "type": "scattercarpet"
           }
          ],
          "scattergeo": [
           {
            "marker": {
             "colorbar": {
              "outlinewidth": 0,
              "ticks": ""
             }
            },
            "type": "scattergeo"
           }
          ],
          "scattergl": [
           {
            "marker": {
             "colorbar": {
              "outlinewidth": 0,
              "ticks": ""
             }
            },
            "type": "scattergl"
           }
          ],
          "scattermapbox": [
           {
            "marker": {
             "colorbar": {
              "outlinewidth": 0,
              "ticks": ""
             }
            },
            "type": "scattermapbox"
           }
          ],
          "scatterpolar": [
           {
            "marker": {
             "colorbar": {
              "outlinewidth": 0,
              "ticks": ""
             }
            },
            "type": "scatterpolar"
           }
          ],
          "scatterpolargl": [
           {
            "marker": {
             "colorbar": {
              "outlinewidth": 0,
              "ticks": ""
             }
            },
            "type": "scatterpolargl"
           }
          ],
          "scatterternary": [
           {
            "marker": {
             "colorbar": {
              "outlinewidth": 0,
              "ticks": ""
             }
            },
            "type": "scatterternary"
           }
          ],
          "surface": [
           {
            "colorbar": {
             "outlinewidth": 0,
             "ticks": ""
            },
            "colorscale": [
             [
              0,
              "#0d0887"
             ],
             [
              0.1111111111111111,
              "#46039f"
             ],
             [
              0.2222222222222222,
              "#7201a8"
             ],
             [
              0.3333333333333333,
              "#9c179e"
             ],
             [
              0.4444444444444444,
              "#bd3786"
             ],
             [
              0.5555555555555556,
              "#d8576b"
             ],
             [
              0.6666666666666666,
              "#ed7953"
             ],
             [
              0.7777777777777778,
              "#fb9f3a"
             ],
             [
              0.8888888888888888,
              "#fdca26"
             ],
             [
              1,
              "#f0f921"
             ]
            ],
            "type": "surface"
           }
          ],
          "table": [
           {
            "cells": {
             "fill": {
              "color": "#EBF0F8"
             },
             "line": {
              "color": "white"
             }
            },
            "header": {
             "fill": {
              "color": "#C8D4E3"
             },
             "line": {
              "color": "white"
             }
            },
            "type": "table"
           }
          ]
         },
         "layout": {
          "annotationdefaults": {
           "arrowcolor": "#2a3f5f",
           "arrowhead": 0,
           "arrowwidth": 1
          },
          "autotypenumbers": "strict",
          "coloraxis": {
           "colorbar": {
            "outlinewidth": 0,
            "ticks": ""
           }
          },
          "colorscale": {
           "diverging": [
            [
             0,
             "#8e0152"
            ],
            [
             0.1,
             "#c51b7d"
            ],
            [
             0.2,
             "#de77ae"
            ],
            [
             0.3,
             "#f1b6da"
            ],
            [
             0.4,
             "#fde0ef"
            ],
            [
             0.5,
             "#f7f7f7"
            ],
            [
             0.6,
             "#e6f5d0"
            ],
            [
             0.7,
             "#b8e186"
            ],
            [
             0.8,
             "#7fbc41"
            ],
            [
             0.9,
             "#4d9221"
            ],
            [
             1,
             "#276419"
            ]
           ],
           "sequential": [
            [
             0,
             "#0d0887"
            ],
            [
             0.1111111111111111,
             "#46039f"
            ],
            [
             0.2222222222222222,
             "#7201a8"
            ],
            [
             0.3333333333333333,
             "#9c179e"
            ],
            [
             0.4444444444444444,
             "#bd3786"
            ],
            [
             0.5555555555555556,
             "#d8576b"
            ],
            [
             0.6666666666666666,
             "#ed7953"
            ],
            [
             0.7777777777777778,
             "#fb9f3a"
            ],
            [
             0.8888888888888888,
             "#fdca26"
            ],
            [
             1,
             "#f0f921"
            ]
           ],
           "sequentialminus": [
            [
             0,
             "#0d0887"
            ],
            [
             0.1111111111111111,
             "#46039f"
            ],
            [
             0.2222222222222222,
             "#7201a8"
            ],
            [
             0.3333333333333333,
             "#9c179e"
            ],
            [
             0.4444444444444444,
             "#bd3786"
            ],
            [
             0.5555555555555556,
             "#d8576b"
            ],
            [
             0.6666666666666666,
             "#ed7953"
            ],
            [
             0.7777777777777778,
             "#fb9f3a"
            ],
            [
             0.8888888888888888,
             "#fdca26"
            ],
            [
             1,
             "#f0f921"
            ]
           ]
          },
          "colorway": [
           "#636efa",
           "#EF553B",
           "#00cc96",
           "#ab63fa",
           "#FFA15A",
           "#19d3f3",
           "#FF6692",
           "#B6E880",
           "#FF97FF",
           "#FECB52"
          ],
          "font": {
           "color": "#2a3f5f"
          },
          "geo": {
           "bgcolor": "white",
           "lakecolor": "white",
           "landcolor": "#E5ECF6",
           "showlakes": true,
           "showland": true,
           "subunitcolor": "white"
          },
          "hoverlabel": {
           "align": "left"
          },
          "hovermode": "closest",
          "mapbox": {
           "style": "light"
          },
          "paper_bgcolor": "white",
          "plot_bgcolor": "#E5ECF6",
          "polar": {
           "angularaxis": {
            "gridcolor": "white",
            "linecolor": "white",
            "ticks": ""
           },
           "bgcolor": "#E5ECF6",
           "radialaxis": {
            "gridcolor": "white",
            "linecolor": "white",
            "ticks": ""
           }
          },
          "scene": {
           "xaxis": {
            "backgroundcolor": "#E5ECF6",
            "gridcolor": "white",
            "gridwidth": 2,
            "linecolor": "white",
            "showbackground": true,
            "ticks": "",
            "zerolinecolor": "white"
           },
           "yaxis": {
            "backgroundcolor": "#E5ECF6",
            "gridcolor": "white",
            "gridwidth": 2,
            "linecolor": "white",
            "showbackground": true,
            "ticks": "",
            "zerolinecolor": "white"
           },
           "zaxis": {
            "backgroundcolor": "#E5ECF6",
            "gridcolor": "white",
            "gridwidth": 2,
            "linecolor": "white",
            "showbackground": true,
            "ticks": "",
            "zerolinecolor": "white"
           }
          },
          "shapedefaults": {
           "line": {
            "color": "#2a3f5f"
           }
          },
          "ternary": {
           "aaxis": {
            "gridcolor": "white",
            "linecolor": "white",
            "ticks": ""
           },
           "baxis": {
            "gridcolor": "white",
            "linecolor": "white",
            "ticks": ""
           },
           "bgcolor": "#E5ECF6",
           "caxis": {
            "gridcolor": "white",
            "linecolor": "white",
            "ticks": ""
           }
          },
          "title": {
           "x": 0.05
          },
          "xaxis": {
           "automargin": true,
           "gridcolor": "white",
           "linecolor": "white",
           "ticks": "",
           "title": {
            "standoff": 15
           },
           "zerolinecolor": "white",
           "zerolinewidth": 2
          },
          "yaxis": {
           "automargin": true,
           "gridcolor": "white",
           "linecolor": "white",
           "ticks": "",
           "title": {
            "standoff": 15
           },
           "zerolinecolor": "white",
           "zerolinewidth": 2
          }
         }
        },
        "title": {
         "text": "Comparison of Normalized Cross Sections, Mass, and Natural Frequencies"
        },
        "xaxis": {
         "anchor": "y",
         "domain": [
          0,
          1
         ],
         "title": {
          "text": "Metric"
         }
        },
        "yaxis": {
         "anchor": "x",
         "domain": [
          0,
          1
         ],
         "title": {
          "text": "Normalized Value"
         }
        }
       }
      }
     },
     "metadata": {},
     "output_type": "display_data"
    }
   ],
   "source": [
    "max_cross_sections = max(np.max(TR_cs), np.max(KN_cs))\n",
    "normalized_cross_sections_model1 = TR_cs / max_cross_sections\n",
    "normalized_cross_sections_model2 = KN_cs / max_cross_sections\n",
    "\n",
    "max_mass = max(TR_m, KN_m)\n",
    "normalized_mass_model1 = TR_m / max_mass\n",
    "normalized_mass_model2 = KN_m / max_mass\n",
    "\n",
    "max_nat_freq = max(np.max(NFTR), np.max(NFK))\n",
    "normalized_nat_freq_model1 = np.array(NFTR) / max_nat_freq\n",
    "normalized_nat_freq_model2 = np.array(NFK) / max_nat_freq\n",
    "# ------------------------------------ VIS ----------------------------------- #\n",
    "data = {\n",
    "    \"Metric\": [\"Cross Sections (Mean)\", \"Mass\", \"Nat. Freq. 1\", \"Nat. Freq. 2\", \"Nat. Freq. 3\"],\n",
    "    \"Model 1 (TRUSS1)\": [np.mean(normalized_cross_sections_model1), normalized_mass_model1] + normalized_nat_freq_model1.tolist(),\n",
    "    \"Model 2 (TRUSSKN)\": [np.mean(normalized_cross_sections_model2), normalized_mass_model2] + normalized_nat_freq_model2.tolist()\n",
    "}\n",
    "df = pd.DataFrame(data)\n",
    "\n",
    "# Create a grouped bar chart for normalized cross sections, mass, and natural frequencies using plotly\n",
    "barplot = px.bar(\n",
    "    df,\n",
    "    x='Metric',\n",
    "    y=[\"Model 1 (TRUSS1)\", \"Model 2 (TRUSSKN)\"],\n",
    "    barmode='group',\n",
    "    title='Comparison of Normalized Cross Sections, Mass, and Natural Frequencies',\n",
    "    labels={'Metric': 'Metric', 'value': 'Normalized Value', 'variable': 'Model'},\n",
    "    color_discrete_sequence=px.colors.qualitative.Set2  # Soft color palette\n",
    ")\n",
    "barplot.show()"
   ]
  }
 ],
 "metadata": {
  "kernelspec": {
   "display_name": "dsaie",
   "language": "python",
   "name": "python3"
  },
  "language_info": {
   "codemirror_mode": {
    "name": "ipython",
    "version": 3
   },
   "file_extension": ".py",
   "mimetype": "text/x-python",
   "name": "python",
   "nbconvert_exporter": "python",
   "pygments_lexer": "ipython3",
   "version": "3.12.1"
  }
 },
 "nbformat": 4,
 "nbformat_minor": 2
}
