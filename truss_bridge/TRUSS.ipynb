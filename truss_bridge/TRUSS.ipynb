{
 "cells": [
  {
   "cell_type": "markdown",
   "metadata": {},
   "source": [
    "<figure>\n",
    "  <IMG SRC=\"https://raw.githubusercontent.com/fmeer/public-files/main/TUlogo.png\" WIDTH=150 ALIGN=\"right\">\n",
    "</figure>\n",
    "\n",
    "# **CEGM2003 project: Bayesian optimization for truss structures**\n",
    "    \n",
    "In this notebook, the finite element code `pyJive` is applied to frequency analysis of a truss structure. Specifically, the `ModeShapeModule` is used to compute the natural frequencies of a 37-bar truss bridge structure. The case has been investigated in literature with multiple optimization algorithms, see [Kanarachos et al., 2017](https://dx.doi.org/10.1016/j.compstruc.2016.11.005) for a description of the case and a comparison of the performance of diffferent optimization methods. \n",
    "    \n",
    "Below, the truss is first analyzed with the default settings and then with the optimal parameters from Kanarachos. The notebook demonstrates how to run the finite element program and how to change those inputs that define the design space for the optimization problem. "
   ]
  },
  {
   "cell_type": "code",
   "execution_count": 30,
   "metadata": {},
   "outputs": [],
   "source": [
    "import numpy as np\n",
    "from sklearn.gaussian_process import GaussianProcessRegressor\n",
    "from scipy.stats import norm\n",
    "from scipy.optimize import minimize\n",
    "import sys\n",
    "import pandas as pd\n",
    "import contextlib\n",
    "import io\n",
    "\n",
    "sys.path.append(r'..\\TRUSS1\\pyJive')\n",
    "sys.path.append(r'C:\\Users\\javie\\OneDrive - Delft University of Technology\\Year 2\\Q2\\CEGM2003 - Data Science and Artificial Inteligence for engineers\\!Content\\Unit 0 - Project\\TRUSS1\\pyJive')\n",
    "\n",
    "from utils import proputils as pu\n",
    "import main\n",
    "from names import GlobNames as gn\n",
    "\n",
    "%matplotlib widget"
   ]
  },
  {
   "cell_type": "markdown",
   "metadata": {},
   "source": [
    "## Starting design\n",
    "\n",
    "The analysis is based on two input files. The main input file, `bridge_frequency.pro` contains all input parameters and other settings of the analysis. It also refers to a second file `bridge.geom`, which defines the geometry and mesh. The initial input matches the starting point of the optimization procedure following Kanarachos. "
   ]
  },
  {
   "cell_type": "code",
   "execution_count": null,
   "metadata": {},
   "outputs": [],
   "source": [
    "# Read the input file and store in props object\n",
    "props = pu.parse_file('bridge_frequency.pro')\n",
    "\n",
    "# Call the program and store output in globdat\n",
    "globdat = main.jive(props)\n",
    "\n",
    "# Write additional output\n",
    "print('Smallest three natural frequencies: ', globdat[gn.EIGENFREQS][0:3]/2/np.pi, ' Hz')"
   ]
  },
  {
   "cell_type": "markdown",
   "metadata": {},
   "source": [
    "### Optimal design from Kanarachos\n",
    "\n",
    "Now, two changes are made to the problem settings to make the analysis match the optimum solution of Kanarachos. The `props` object, which contains the information from `bridge.pro` in the form of a nested `dict` is overwritten at two of its entries.\n",
    "- **Cross sectional areas:** these are defined in `props['model']['truss']['area']`\n",
    "- **Truss geometry:** for this a separate `.geom` file has already been prepared and the program is told to use this one by overwriting the entry `props['init']['mesh']['file']`. Check the differences between the two `.geom`-files in this folder to see how the geometry is updated."
   ]
  },
  {
   "cell_type": "code",
   "execution_count": null,
   "metadata": {},
   "outputs": [],
   "source": [
    "# Overwrite relevant inputs\n",
    "props['model']['truss']['area'] = [ 40e-4, 3.1997e-4, 1.0025e-4, 1.0000e-4, 2.5875e-4, 1.0895e-4, 1.1261e-4, 2.5624e-4, 1.4121e-4, 1.5758e-4, 2.2461e-4, 1.0694e-4, 1.3193e-4, 2.3846e-4, 1.0001e-4 ]\n",
    "props['init']['mesh']['file'] = 'bridge_kanarachos.geom'\n",
    "\n",
    "# Call program with updated inputs\n",
    "globdat = main.jive(props)\n",
    "print('Smallest three natural frequencies: ', globdat[gn.EIGENFREQS][0:3]/2/np.pi, ' Hz')"
   ]
  },
  {
   "cell_type": "markdown",
   "metadata": {},
   "source": [
    "## Definitions"
   ]
  },
  {
   "cell_type": "code",
   "execution_count": 4,
   "metadata": {},
   "outputs": [],
   "source": [
    "class BayesianOptimizer():\n",
    "      \n",
    "    def __init__(self, target_func, x_init, y_init, n_iter, scale, batch_size):\n",
    "        self.x_init = x_init\n",
    "        self.y_init = y_init\n",
    "        self.target_func = target_func\n",
    "        self.n_iter = n_iter\n",
    "        self.scale = scale\n",
    "        self.batch_size = batch_size\n",
    "        self.gauss_pr = GaussianProcessRegressor()\n",
    "        self.best_samples_ = pd.DataFrame(columns = ['x', 'y', 'ei'])\n",
    "        self.distances_ = []\n",
    "\n",
    "    def _get_expected_improvement(self, x_new):\n",
    "\n",
    "        # Using estimate from Gaussian surrogate instead of actual function for \n",
    "        # a new trial data point to avoid cost \n",
    " \n",
    "        mean_y_new, sigma_y_new = self.gauss_pr.predict(np.array([x_new]), return_std=True)\n",
    "        sigma_y_new = sigma_y_new.reshape(-1,1)\n",
    "        if sigma_y_new == 0.0:\n",
    "            return 0.0\n",
    "        \n",
    "        # Using estimates from Gaussian surrogate instead of actual function for \n",
    "        # entire prior distribution to avoid cost\n",
    "        \n",
    "        mean_y = self.gauss_pr.predict(self.x_init)\n",
    "        max_mean_y = np.max(mean_y)\n",
    "        z = (mean_y_new - max_mean_y) / sigma_y_new\n",
    "        exp_imp = (mean_y_new - max_mean_y) * norm.cdf(z) + sigma_y_new * norm.pdf(z)\n",
    "        \n",
    "        return exp_imp\n",
    "    \n",
    "    def _acquisition_function(self, x):\n",
    "        return -self._get_expected_improvement(x)\n",
    "        \n",
    "    def _get_next_probable_point(self):\n",
    "            min_ei = float(sys.maxsize)\n",
    "            x_optimal = None \n",
    "                \n",
    "            # Trial with an array of random data points\n",
    "                \n",
    "            for x_start in (np.random.random((self.batch_size,self.x_init.shape[1])) * self.scale):\n",
    "                response = minimize(fun=self._acquisition_function, x0=x_start, method='L-BFGS-B')\n",
    "                # print(response.fun)\n",
    "                # if response.fun[0] < min_ei:\n",
    "                if response.fun < min_ei:\n",
    "                    # min_ei = response.fun[0]\n",
    "                    min_ei = response.fun\n",
    "                    x_optimal = response.x\n",
    "                \n",
    "                return x_optimal, min_ei\n",
    "    def _extend_prior_with_posterior_data(self, x,y):\n",
    "        self.x_init = np.append(self.x_init, np.array([x]), axis = 0)\n",
    "        self.y_init = np.append(self.y_init, np.array(y), axis = 0)\n",
    "  \n",
    "    def optimize(self):\n",
    "        y_max_ind = np.argmax(self.y_init)\n",
    "        y_max = self.y_init[y_max_ind]\n",
    "        optimal_x = self.x_init[y_max_ind]\n",
    "        optimal_ei = None\n",
    "        for i in range(self.n_iter):\n",
    "            self.gauss_pr.fit(self.x_init, self.y_init)\n",
    "            x_next, ei = self._get_next_probable_point()\n",
    "            y_next = self.target_func(np.array([x_next]))\n",
    "            self._extend_prior_with_posterior_data(x_next,y_next)\n",
    "                \n",
    "            if y_next[0] > y_max:\n",
    "                y_max = y_next[0]\n",
    "                optimal_x = x_next\n",
    "                # optimal_ei = ei[0]\n",
    "                optimal_ei = ei\n",
    "\n",
    "            if i == 0:\n",
    "                prev_x = x_next\n",
    "            else:\n",
    "                self.distances_.append(np.linalg.norm(prev_x - x_next))\n",
    "                prev_x = x_next\n",
    "                \n",
    "            self.best_samples_ = self.best_samples_.append({\"y\": y_max, \"ei\": optimal_ei},ignore_index=True)\n",
    "            \n",
    "        return optimal_x, y_max"
   ]
  },
  {
   "cell_type": "code",
   "execution_count": 5,
   "metadata": {},
   "outputs": [],
   "source": [
    "class GeometryProcessor:\n",
    "    def __init__(self, file_path, cross_sections):\n",
    "        self.file_path = file_path\n",
    "        self.nodes = {}\n",
    "        self.cross_sections = cross_sections \n",
    "        self.member_df = None\n",
    "        self.connectivity = None\n",
    "\n",
    "    def read_geom_file(self):\n",
    "        with open(self.file_path, 'r') as file:\n",
    "            lines = file.readlines()\n",
    "\n",
    "        nodes = {}\n",
    "        members = []\n",
    "        section = None\n",
    "\n",
    "        for line in lines:\n",
    "            line = line.strip()\n",
    "            if line.startswith('node:'):\n",
    "                section = 'node'\n",
    "                continue\n",
    "            elif line.startswith('member:'):\n",
    "                section = 'member'\n",
    "                continue\n",
    "\n",
    "            if section == 'node' and line:\n",
    "                parts = line.split()\n",
    "                node_number = int(parts[0])\n",
    "                node_data = tuple(map(float, parts[1:]))\n",
    "                nodes[node_number] = node_data\n",
    "            elif section == 'member' and line:\n",
    "                member_data = tuple(map(int, line.split()))\n",
    "                members.append(member_data)\n",
    "\n",
    "        self.nodes = nodes\n",
    "        self.member_df = pd.DataFrame(members, columns=['Node #1', 'Node #2', 'Number of Elements', 'Cross-section Type'])\n",
    "        self.member_df = self.member_df.drop('Number of Elements', axis=1)\n",
    "        self.connectivity = self.member_df.to_numpy()\n",
    "\n",
    "    def write_geom_file(self, output_file_path):\n",
    "        geom = 'node: node #, x-coordinate; y-coordinate\\n'\n",
    "        for node_num, coords in self.nodes.items():\n",
    "            geom += f\"{node_num} {' '.join(map(str, coords))}\\n\"\n",
    "        \n",
    "        geom += '\\nmember: Node #1; Node #2; number of elements; cross-section type\\n'\n",
    "        for row in self.connectivity:\n",
    "            geom += ' '.join(map(str, row)) + '\\n'\n",
    "\n",
    "        with open(output_file_path, 'w') as file:\n",
    "            file.write(geom)\n",
    "\n",
    "        return geom"
   ]
  },
  {
   "cell_type": "code",
   "execution_count": 28,
   "metadata": {},
   "outputs": [],
   "source": [
    "def FEMsolver(object,output_path):\n",
    "    \n",
    "    geometry = object.nodes\n",
    "    CrossSection = object.cross_sections\n",
    "\n",
    "    props['model']['truss']['area'] = CrossSection\n",
    "    geom = object.write_geom_file(output_path)\n",
    "    props['init']['mesh']['file'] = output_path\n",
    "    \n",
    "    f = io.StringIO()\n",
    "    with contextlib.redirect_stdout(f):\n",
    "        globdat = main.jive(props)\n",
    "\n",
    "    #globdat = main.jive(props)\n",
    "    \n",
    "    NFreq = globdat[gn.EIGENFREQS][0:3]/2/np.pi \n",
    "    if any(frequency < 20 for frequency in NFreq):\n",
    "        return float('inf')  # Representing an infeasible solution with an infinite penalty\n",
    "    \n",
    "    return NFreq"
   ]
  },
  {
   "cell_type": "markdown",
   "metadata": {},
   "source": [
    "## Optimisation "
   ]
  },
  {
   "cell_type": "code",
   "execution_count": 29,
   "metadata": {},
   "outputs": [
    {
     "data": {
      "application/vnd.jupyter.widget-view+json": {
       "model_id": "f31cbb86d87a444bbb2d82ef13147af5",
       "version_major": 2,
       "version_minor": 0
      },
      "image/png": "[encoded data removed]",
      "text/html": [
       "\n",
       "            <div style=\"display: inline-block;\">\n",
       "                <div class=\"jupyter-widgets widget-label\" style=\"text-align: center;\">\n",
       "                    Figure\n",
       "                </div>\n",
       "                <img src='data:image/png;base64,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' width=640.0/>\n",
       "            </div>\n",
       "        "
      ],
      "text/plain": [
       "Canvas(toolbar=Toolbar(toolitems=[('Home', 'Reset original view', 'home', 'home'), ('Back', 'Back to previous …"
      ]
     },
     "metadata": {},
     "output_type": "display_data"
    }
   ],
   "source": [
    "# -------------------------------- DEFINITIONS ------------------------------- #\n",
    "file_path = r'bridge.geom'\n",
    "output_path = 'TRUSS1.geom'\n",
    "cross_sections = [40e-4, 3.1997e-4, 1.0025e-4, 1.0000e-4, 2.5875e-4, 1.0895e-4, 1.1261e-4, 2.5624e-4, 1.4121e-4, 1.5758e-4, 2.2461e-4, 1.0694e-4, 1.3193e-4, 2.3846e-4, 1.0001e-4 ]\n",
    "\n",
    "# -------------------------------- PROCESSING -------------------------------- #\n",
    "geom_processor = GeometryProcessor(file_path,cross_sections)\n",
    "geom_processor.read_geom_file()\n",
    "node_locations = list(geom_processor.nodes.values())\n",
    "\n",
    "# print(\"Nodes locations:\", geom_processor.nodes)\n",
    "# print(\"Connectivity Matrix [Node i, Node j, Cross Section z]:\", geom_processor.connectivity)\n",
    "# print(\"Cross Sections z0 to zN\", cross_sections)\n",
    "\n",
    "x_input = geom_processor.connectivity\n",
    "x_input = x_input.astype(float)\n",
    "x_input[:, 2] = np.array([cross_sections[item] for item in geom_processor.connectivity[:,2]])\n",
    "\n",
    "x_init = np.array(x_input)  # Initial design variables (areas and joint locations)\n",
    "y_init = FEMsolver(geom_processor,output_path)  # Initial natural frequencies obtained from simulations"
   ]
  },
  {
   "cell_type": "code",
   "execution_count": 31,
   "metadata": {},
   "outputs": [
    {
     "data": {
      "application/vnd.jupyter.widget-view+json": {
       "model_id": "3f64d5aff0e342e9ac15eda6fbba7f9c",
       "version_major": 2,
       "version_minor": 0
      },
      "image/png": "[encoded data removed]",
      "text/html": [
       "\n",
       "            <div style=\"display: inline-block;\">\n",
       "                <div class=\"jupyter-widgets widget-label\" style=\"text-align: center;\">\n",
       "                    Figure\n",
       "                </div>\n",
       "                <img src='data:image/png;base64,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' width=640.0/>\n",
       "            </div>\n",
       "        "
      ],
      "text/plain": [
       "Canvas(toolbar=Toolbar(toolitems=[('Home', 'Reset original view', 'home', 'home'), ('Back', 'Back to previous …"
      ]
     },
     "metadata": {},
     "output_type": "display_data"
    },
    {
     "ename": "TypeError",
     "evalue": "'float' object is not subscriptable",
     "output_type": "error",
     "traceback": [
      "\u001b[1;31m---------------------------------------------------------------------------\u001b[0m",
      "\u001b[1;31mTypeError\u001b[0m                                 Traceback (most recent call last)",
      "Cell \u001b[1;32mIn[31], line 10\u001b[0m\n\u001b[0;32m      1\u001b[0m optimizer \u001b[38;5;241m=\u001b[39m BayesianOptimizer(\n\u001b[0;32m      2\u001b[0m     target_func\u001b[38;5;241m=\u001b[39m FEMsolver(\u001b[38;5;28mobject\u001b[39m,output_path),\n\u001b[0;32m      3\u001b[0m     x_init\u001b[38;5;241m=\u001b[39mx_init,\n\u001b[1;32m   (...)\u001b[0m\n\u001b[0;32m      7\u001b[0m     batch_size\u001b[38;5;241m=\u001b[39m\u001b[38;5;241m10\u001b[39m\n\u001b[0;32m      8\u001b[0m )\n\u001b[1;32m---> 10\u001b[0m optimal_design, max_frequency \u001b[38;5;241m=\u001b[39m \u001b[43moptimizer\u001b[49m\u001b[38;5;241;43m.\u001b[39;49m\u001b[43moptimize\u001b[49m\u001b[43m(\u001b[49m\u001b[43m)\u001b[49m\n",
      "Cell \u001b[1;32mIn[4], line 59\u001b[0m, in \u001b[0;36mBayesianOptimizer.optimize\u001b[1;34m(self)\u001b[0m\n\u001b[0;32m     57\u001b[0m \u001b[38;5;28;01mdef\u001b[39;00m \u001b[38;5;21moptimize\u001b[39m(\u001b[38;5;28mself\u001b[39m):\n\u001b[0;32m     58\u001b[0m     y_max_ind \u001b[38;5;241m=\u001b[39m np\u001b[38;5;241m.\u001b[39margmax(\u001b[38;5;28mself\u001b[39m\u001b[38;5;241m.\u001b[39my_init)\n\u001b[1;32m---> 59\u001b[0m     y_max \u001b[38;5;241m=\u001b[39m \u001b[38;5;28;43mself\u001b[39;49m\u001b[38;5;241;43m.\u001b[39;49m\u001b[43my_init\u001b[49m\u001b[43m[\u001b[49m\u001b[43my_max_ind\u001b[49m\u001b[43m]\u001b[49m\n\u001b[0;32m     60\u001b[0m     optimal_x \u001b[38;5;241m=\u001b[39m \u001b[38;5;28mself\u001b[39m\u001b[38;5;241m.\u001b[39mx_init[y_max_ind]\n\u001b[0;32m     61\u001b[0m     optimal_ei \u001b[38;5;241m=\u001b[39m \u001b[38;5;28;01mNone\u001b[39;00m\n",
      "\u001b[1;31mTypeError\u001b[0m: 'float' object is not subscriptable"
     ]
    }
   ],
   "source": [
    "optimizer = BayesianOptimizer(\n",
    "    target_func= FEMsolver(object,output_path),\n",
    "    x_init=x_init,\n",
    "    y_init=y_init,\n",
    "    n_iter=100,\n",
    "    scale=1.0,  # Adjust based on expected variation in your design variables\n",
    "    batch_size=10\n",
    ")\n",
    "\n",
    "optimal_design, max_frequency = optimizer.optimize()"
   ]
  }
 ],
 "metadata": {
  "kernelspec": {
   "display_name": "dsaie",
   "language": "python",
   "name": "python3"
  },
  "language_info": {
   "codemirror_mode": {
    "name": "ipython",
    "version": 3
   },
   "file_extension": ".py",
   "mimetype": "text/x-python",
   "name": "python",
   "nbconvert_exporter": "python",
   "pygments_lexer": "ipython3",
   "version": "3.10.8"
  }
 },
 "nbformat": 4,
 "nbformat_minor": 2
}
