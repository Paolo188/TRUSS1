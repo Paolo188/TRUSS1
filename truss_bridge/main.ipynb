{
 "cells": [
  {
   "cell_type": "markdown",
   "metadata": {},
   "source": [
    "<img \n",
    "    style=\"position: absolute; \n",
    "           left: 60%; \n",
    "           top: 0; /* Added to ensure proper positioning */\n",
    "           height: 900px; \n",
    "           width: 40%; /* Maintain the original width */\n",
    "           object-fit: cover; /* Adjust if necessary */\n",
    "           clip-path: inset(0px 50px 0px 50px round 10px);\" \n",
    "    src=\"https://www.mathworks.com/help/examples/stats/win64/ParellelBayeianOptimizationExample_01.png\" \n",
    "/>\n",
    "\n",
    "</figure>\n",
    "\n",
    "\n",
    "<h1 style=\"width: 60%; color: Orange; font-size: 40pt;\">\n",
    "    <Strong>\n",
    "        CEGM2003 project: Bayesian optimization for truss structures\n",
    "    </Strong>\n",
    "</h1>\n",
    "\n",
    "<h2 id=\"Background\"><B>\n",
    "    Background<a class=\"anchor-link\" href=\"#Background\">&#182;</a>\n",
    "    </B>\n",
    "</h2>\n",
    "<p style=\"text-align: justify; width: 60%; font-weight: normal;\">\n",
    "     Structures that make optimal use of the material they are made of reduces the cost and environmental impact of their construction as the amount of material required. Optimization of structural design is a challenging task because of the high number of design parameters and the relatively expensive evaluation of the suitability of any given design. Standard optimization techniques in high-dimensional design space require a very large number of possible designs that need to be evaluated. In structural analysis, where evaluating the objective function and checking the constraints involves the solution of a structural mechanics problem, e.g. with finite elements, this quickly becomes very expensive, even if the model is relatively simple from structural point of view. Bayesian optimization is a machine-learning-based optimization technique that aims to reduce the number of evaluations of the objective function through data-driven exploration of the design space with a probabilistic surrogate.\n",
    "</p>\n",
    "\n",
    "<h2 id=\"Background\"><B>\n",
    "    Objective & Description<a class=\"anchor-link\" href=\"#Background\">&#182;</a>\n",
    "    </B>\n",
    "</h2>\n",
    "\n",
    "<div style=\"width: 60%; border-top: 4px solid #34D058; border-left: 4px solid #34D058; background-color: #F6FFED; padding: 1em 1em 1em 1em; color: #24292E; margin: 10px 0 20px 0; box-sizing: border-box;\">\n",
    "    <div style=\"background-color: #34D058; color: white; padding: 0.2em 1em; margin: -1em -1em 0em -1em; font-size: 1.2em;\"><strong>Project Objective</strong></div>\n",
    "    <p><strong>The aim of this project is to find an optimal truss design,</strong><br>\n",
    "    this will be achieved by finding an optimal set of nodal coordinates and cross-sectional properties. The primary objective is to minimize the total weight of the structure, while satisfying structural requirements. Optionally, additional objectives can be included, e.g. on the minimization of cutoff waste when reusing components from an existing inventory of elements.</p>\n",
    "</div>"
   ]
  },
  {
   "cell_type": "markdown",
   "metadata": {},
   "source": [
    "## <strong> X | Imports</strong>"
   ]
  },
  {
   "cell_type": "code",
   "execution_count": 245,
   "metadata": {},
   "outputs": [],
   "source": [
    "import numpy as np\n",
    "from sklearn.gaussian_process import GaussianProcessRegressor\n",
    "from sklearn.gaussian_process.kernels import ConstantKernel, ExpSineSquared, Matern, RBF, RationalQuadratic\n",
    "\n",
    "from scipy.stats import norm\n",
    "from scipy.optimize import minimize\n",
    "from sklearn.preprocessing import MinMaxScaler, StandardScaler\n",
    "from tabulate import tabulate\n",
    "import torch\n",
    "import sys\n",
    "import pandas as pd\n",
    "import os\n",
    "\n",
    "import io\n",
    "from contextlib import redirect_stdout\n",
    "\n",
    "sys.path.append('../pyJive/')\n",
    "from utils import proputils as pu\n",
    "from names import GlobNames as gn\n",
    "import main"
   ]
  },
  {
   "cell_type": "code",
   "execution_count": 2,
   "metadata": {},
   "outputs": [
    {
     "name": "stdout",
     "output_type": "stream",
     "text": [
      "Using device: cpu\n"
     ]
    }
   ],
   "source": [
    "# Check if CUDA is available, otherwise use CPU\n",
    "device = torch.device('cuda' if torch.cuda.is_available() else 'cpu')\n",
    "print(f'Using device: {device}')"
   ]
  },
  {
   "cell_type": "markdown",
   "metadata": {},
   "source": [
    "## <strong> X | Classes & Dependencies</strong>"
   ]
  },
  {
   "cell_type": "code",
   "execution_count": 522,
   "metadata": {},
   "outputs": [],
   "source": [
    "class TRUSS():\n",
    "    def __init__(self, file_path, output_path, violation_penalty, scalers , bounds, imag_threshold = 3,freq_constraints= [20,40,60], mass_weight = 1, freq_weight = 1):\n",
    "        # ------------------------------ DO NOT CHANGE  ------------------------------ #\n",
    "        self.read_file_path = file_path\n",
    "        self.write_file_path = output_path\n",
    "        self.nodes = {} \n",
    "        self.connectivity = None\n",
    "\n",
    "        self.scaler_y = scalers[0]\n",
    "        self.scaler_a = scalers[1]\n",
    "        self.bounds = bounds\n",
    "        # --------------------------------- ATRIBUTES -------------------------------- #\n",
    "        self.member_df = None\n",
    "        self.y_coordinates =  None  \n",
    "        self.x_coordinates =  None \n",
    "        self.cross_sections = None\n",
    "        self.lengths = None\n",
    "        self.max_mass = 0\n",
    "\n",
    "        self.density = 7850 # kg/m^3 As per Garnachos\n",
    "        self.violation_penalty = violation_penalty\n",
    "        self.freq_constraints = freq_constraints\n",
    "        self.mass_weight = mass_weight\n",
    "        self.freq_weight = freq_weight\n",
    "\n",
    "        self.temporary = None\n",
    "    \n",
    "    # -------------------------- Import & Writing Files -------------------------- #\n",
    "    def read_geom_file(self):\n",
    "        path = os.path.normpath(os.path.join(read_file_path,'bridge.geom'))\n",
    "        with open(path, 'r') as file:\n",
    "            lines = file.readlines()\n",
    "\n",
    "        nodes = {}\n",
    "        members = []\n",
    "        section = None\n",
    "\n",
    "        for line in lines:\n",
    "            line = line.strip()\n",
    "            if line.startswith('node:'):\n",
    "                section = 'node'\n",
    "                continue\n",
    "            elif line.startswith('member:'):\n",
    "                section = 'member'\n",
    "                continue\n",
    "\n",
    "            if section == 'node' and line:\n",
    "                parts = line.split()\n",
    "                node_number = int(parts[0])\n",
    "                node_data = tuple(map(float, parts[1:]))\n",
    "                nodes[node_number] = node_data\n",
    "            elif section == 'member' and line:\n",
    "                member_data = tuple(map(int, line.split()))\n",
    "                members.append(member_data)\n",
    "\n",
    "        self.nodes = nodes\n",
    "        self.member_df = pd.DataFrame(members, columns=['Node #1', 'Node #2', 'Number of Elements', 'Cross-section Type'])\n",
    "        \n",
    "        connectivity = self.member_df.to_numpy()\n",
    "        self.connectivity = connectivity[:,:2]\n",
    "        self.y_coordinates = np.array([value[1] for _ , value in self.nodes.items()])\n",
    "        self.x_coordinates = np.array([value[0] for _ , value in self.nodes.items()])\n",
    "    \n",
    "    def get_write_geom_file(self,path_): \n",
    "        path = os.path.normpath(os.path.join(path_,'TRUSS.geom'))\n",
    "        file = open(path)\n",
    "\n",
    "        for i, (x, _) in self.nodes.items():\n",
    "            self.nodes[i] = (x, self.y_coordinates[i])\n",
    "\n",
    "        geom = 'node: node #, x-coordinate; y-coordinate\\n'\n",
    "        for node_num, coords in self.nodes.items():\n",
    "            geom += f\"{node_num} {' '.join(map(str, coords))}\\n\"\n",
    "        \n",
    "        connectivity = self.member_df.to_numpy()\n",
    "        geom += '\\nmember: Node #1; Node #2; number of elements; cross-section type\\n'\n",
    "        for row in connectivity:\n",
    "            geom += ' '.join(map(str, row)) + '\\n'\n",
    "\n",
    "        output_file_path = os.path.normpath(os.path.join(self.read_file_path,'TRUSS.geom'))\n",
    "        with open(output_file_path, 'w') as file:\n",
    "            file.write(geom)\n",
    "            \n",
    "        return file.name\n",
    "    \n",
    "    def fit_scalers(self, initial_data):\n",
    "        y_data = initial_data[:5].reshape(1, -1).T\n",
    "        a_data = initial_data[5:].reshape(1, -1).T\n",
    "        self.scaler_y.fit(y_data)\n",
    "        self.scaler_a.fit(a_data)\n",
    "\n",
    "    def scaler(self, mode, x_values, scaler_type):\n",
    "        if scaler_type == 'y':\n",
    "            scaler = self.scaler_y\n",
    "        elif scaler_type == 'a':\n",
    "            scaler = self.scaler_a\n",
    "        \n",
    "        x_values = x_values.reshape(1,-1).T\n",
    "        if mode == 'scale':\n",
    "            scaled_values = scaler.transform(x_values)\n",
    "        elif mode == 'descale':\n",
    "            scaled_values = scaler.inverse_transform(x_values)\n",
    "        \n",
    "        return scaled_values.flatten()\n",
    "    # ---------------------------------------------------------------------------- #\n",
    "    #                                TARGET FUNCTION                               #\n",
    "    # ---------------------------------------------------------------------------- #\n",
    "    def loss_function(self, x_list):\n",
    "        \"\"\"\n",
    "        Calculate the loss for a given set of design parameters.\n",
    "        Parameters:\n",
    "        x_list (list): A list of design parameters.\n",
    "        Returns:\n",
    "        float: The calculated loss based on mass, frequency constraints, and imaginary penalties.\n",
    "        \"\"\"\n",
    "        A_list, y_list = self.areas_coordinates_write_split(x_list)\n",
    "        \n",
    "        mass_truss = self.mass_truss(A_list, y_list)\n",
    "        self.max_mass = max(self.max_mass, mass_truss)\n",
    "        \n",
    "        freq1, freq2, freq3 = self.eigenfrequencies(A_list)\n",
    "        frequencies = [freq1, freq2, freq3]\n",
    "\n",
    "        freq_penalty = 0\n",
    "        for f, t in zip(frequencies, self.freq_constraints):\n",
    "            diff = f - t\n",
    "            penalty_factor = 1 if diff >= 0 else self.violation_penalty  # Steeper penalty if below the threshold\n",
    "            freq_penalty += penalty_factor * (diff**2 / t**2)\n",
    "            \n",
    "        imag_parts = np.abs(np.sum(np.imag(frequencies)))\n",
    "        excess_imag = max(0, imag_parts - self.imag_threshold)\n",
    "        max_expected_exp_penalty = np.exp(1) - 1  # Adjust based on the maximum expected penalty\n",
    "        \n",
    "        # Calculate the normalized losses\n",
    "        normalized_mass = mass_truss / self.max_mass\n",
    "        normalized_freq_penalty = freq_penalty / len(self.freq_constraints)\n",
    "        normalized_imag_penalty = (np.exp(excess_imag) - 1) / max_expected_exp_penalty\n",
    "        \n",
    "        # Compute total loss\n",
    "        LOSS = (self.mass_weight * normalized_mass +\n",
    "                self.freq_weight * normalized_freq_penalty +\n",
    "                normalized_imag_penalty).real\n",
    "\n",
    "        # Check for constraint violations\n",
    "        constraint_violation = normalized_freq_penalty + normalized_imag_penalty\n",
    "        \n",
    "        # -------------------------- Optimisation monitoring ------------------------- #\n",
    "        optmonitor_data = [\n",
    "            [\"Metric\",\"Total Loss\", \"Natural Frequencies\", \"Mass of Truss\", \"Normalized Mass Loss\", \"Frequency Penalty\", \"Constraint Violation Level\"],\n",
    "            [\"Value\",LOSS, frequencies, mass_truss, normalized_mass, normalized_freq_penalty, constraint_violation]\n",
    "        ]\n",
    "        print(tabulate(optmonitor_data, headers=\"firstrow\", tablefmt=\"grid\"))\n",
    "        # -------------------------- Error Handling ------------------------- #\n",
    "        error_messages = []\n",
    "        if mass_truss < 0:\n",
    "            error_messages.append(f\"Negative Mass Detected: {mass_truss}\")\n",
    "        if freq_penalty < 0:\n",
    "            error_messages.append(f\"Negative Frequency Penalty Detected: {freq_penalty}. Frequencies: {frequencies}\")\n",
    "        if error_messages:\n",
    "            full_error_message = \"Loss Function Errors Detected:\\n\" + \"\\n\".join(error_messages)\n",
    "            raise LossFunctionException(full_error_message) \n",
    "        return LOSS\n",
    "\n",
    "    # ----------------------------- SUPPORT FUNCTIONS ---------------------------- #\n",
    "    def eigenfrequencies(self,A_list):\n",
    "        path = os.path.normpath(os.path.join(read_file_path,'bridge_frequency.pro'))\n",
    "        \n",
    "        props = pu.parse_file(path)\n",
    "        props['model']['truss']['area'] = A_list\n",
    "        props['init']['mesh']['file'] = self.get_write_geom_file(self.read_file_path)\n",
    "        \n",
    "        # Call the program and store output in globdat\n",
    "        trap = io.StringIO()\n",
    "        with redirect_stdout(trap):\n",
    "            globdat = main.jive(props)\n",
    "        \n",
    "        return (globdat[gn.EIGENFREQS][0:3]/2/np.pi)\n",
    "\n",
    "    def mass_truss(self,areas, y_list):\n",
    "        x_coordinates = self.x_coordinates\n",
    "        y_coordinates = self.y_coordinates\n",
    "        # --------------------------- calculate the y coordinates -------------------------- #\n",
    "        for i in range(1, 6):\n",
    "            y_coordinates[2 * i] = y_list[i-1]\n",
    "            y_coordinates[20 - 2*i] = y_list[i-1]\n",
    "        self.y_coordinates = y_coordinates\n",
    "        # --------------------------- calculate the lengths -------------------------- #\n",
    "        coordinates = list(zip(x_coordinates, y_coordinates))\n",
    "        lengths = np.zeros(self.member_df.iloc[:,2].sum()) # Number of Elements\n",
    "        for i, (node1, node2) in enumerate(self.connectivity):\n",
    "            x1, y1 = coordinates[node1]\n",
    "            x2, y2 = coordinates[node2]\n",
    "            lengths[i] =  np.sqrt((x2 - x1) ** 2 + (y2 - y1) ** 2)\n",
    "        # --------------------------- calculate the areas -------------------------- #\n",
    "        n_elements = self.member_df.iloc[:,2].sum()\n",
    "        areas_i = np.zeros(n_elements)\n",
    "        cross_section_number = self.member_df.iloc[:,-1] \n",
    "        \n",
    "        for i,item in enumerate(cross_section_number):\n",
    "            if i == 15: \n",
    "                areas_i[i] = 1e-4\n",
    "            else:\n",
    "                areas_i[i] = areas[item]\n",
    "        self.cross_sections = areas[:15]\n",
    "        self.lengths = areas_i\n",
    "        # --------------------------- calculate the mass -------------------------- #\n",
    "        volumes = lengths * areas_i\n",
    "        total_volume = np.sum(volumes)\n",
    "        mass = total_volume * self.density\n",
    "\n",
    "        return mass\n",
    "    \n",
    "    def calculate_length(self,node1, node2, coordinates):\n",
    "        x1, y1 = coordinates[node1]\n",
    "        x2, y2 = coordinates[node2]\n",
    "        length =  np.sqrt((x2 - x1) ** 2 + (y2 - y1) ** 2)\n",
    "        return length\n",
    "    # ----------------------------------- OTHER ---------------------------------- #\n",
    "    def Initial_guess(self):\n",
    "        y_bound = self.bounds[0]\n",
    "        A_bound = self.bounds[1]\n",
    "        y = np.random.uniform(y_bound[0], y_bound[1], 5)\n",
    "        Areas = np.random.uniform(A_bound[0], A_bound[1], 15)\n",
    "        x_list = np.append(y, Areas)\n",
    "        return x_list \n",
    "    \n",
    "    def areas_coordinates_write_split(self, x_list):        \n",
    "        '''\n",
    "        Splits the input vector into the areas and the y coordinates and updates attribute y_coordinates\n",
    "        '''\n",
    "        y_coordinates = self.y_coordinates\n",
    "        areas = x_list[5:]\n",
    "        y_coords = x_list[:5]\n",
    "        for i in range(1, 6):\n",
    "            y_coordinates[2 * i] = y_coords[i-1]\n",
    "            y_coordinates[20 - 2 * i] = y_coords[i-1]\n",
    "        self.y_coordinates = y_coordinates # Update\n",
    "        \n",
    "        return areas, y_coords"
   ]
  },
  {
   "cell_type": "code",
   "execution_count": 511,
   "metadata": {},
   "outputs": [],
   "source": [
    "class BayesianOptimizer():\n",
    "      \n",
    "    def __init__(self, target_func, x_init, y_init, n_iter, batch_size, bounds):\n",
    "        self.x_init = x_init\n",
    "        self.y_init = y_init\n",
    "        self.target_func = target_func\n",
    "        self.n_iter = n_iter\n",
    "        self.batch_size = batch_size\n",
    "        self.bounds = bounds\n",
    "        self.boundsmm = [(0,1),(0,1)] # Bounds consistent with Minmax scaling \n",
    "        self.x_bounds = [self.boundsmm[0]] * 5 + [self.boundsmm[1]] * 15 \n",
    "        self.best_samples_ = pd.DataFrame(columns = ['x', 'y', 'ei'])\n",
    "        self.distances_ = []\n",
    "        self.uncertainty = []\n",
    "        self.y_loss = []\n",
    "\n",
    "        self.temporary = None\n",
    "        \n",
    "        matern_length_scale_bounds = (1e-3, 1e10)\n",
    "        initial_length_scale = np.ones(20)\n",
    "        kernel = ConstantKernel(1.0) * Matern(length_scale=initial_length_scale, length_scale_bounds=matern_length_scale_bounds, nu=0.5)\n",
    "\n",
    "        self.gauss_pr =  GaussianProcessRegressor(kernel=kernel, n_restarts_optimizer=10)\n",
    "\n",
    "    def _acquisition_function(self, x):\n",
    "        return -self._get_expected_improvement(x)\n",
    "    \n",
    "    def _get_expected_improvement(self, x_new):\n",
    "        '''\n",
    "        Calculates the expected improvement at a given point x_new\n",
    "        '''\n",
    "        mean_y_new, sigma_y_new = self.gauss_pr.predict(np.array(x_new).reshape(1, -1), return_std=True)\n",
    "        if sigma_y_new[0] == 0.0:\n",
    "            return 0.0\n",
    "        \n",
    "        min_mean_y = self.y_min\n",
    "        z = (min_mean_y - mean_y_new) / sigma_y_new        \n",
    "        exp_imp = (min_mean_y - mean_y_new) * norm.cdf(z) + sigma_y_new * norm.pdf(z)\n",
    "        return exp_imp\n",
    "  \n",
    "    def _get_next_probable_point(self):\n",
    "        '''\n",
    "        We only standardise the data after the minimisation so the LOSS FUNCTION operates with standard scales\n",
    "        ### FIX , Before We were only returning if better this does not allow the gaussian process to understand the data as well\n",
    "        '''\n",
    "        x_optimal = None\n",
    "        x_next_sc = None\n",
    "        max_acq_value = float('inf')\n",
    "\n",
    "        for _ in range(self.batch_size):\n",
    "            x_start = self.next_guess()  # Random starting point for exploration \n",
    "            x_start_sc = self.scaler(x_start, 'scale')       \n",
    "\n",
    "            res = minimize(fun=self._acquisition_function, x0=x_start_sc, bounds = self.x_bounds, method='L-BFGS-B')\n",
    "            # --------------------------------- Normalise -------------------------------- #\n",
    "            if res.fun < max_acq_value:\n",
    "                max_acq_value = res.fun\n",
    "                x_next_sc = res.x\n",
    "                x_optimal = self.scaler(x_next_sc, 'descale')\n",
    "\n",
    "        return x_optimal, x_next_sc, -max_acq_value  #Note: Negative min neg acq function\n",
    "    \n",
    "    def _extend_prior_with_posterior_data(self, x,y):\n",
    "        self.x_init = np.append(self.x_init, np.array([x]), axis = 0)\n",
    "        self.y_init = np.append(self.y_init, np.array([y]), axis = 0)\n",
    "  \n",
    "    def optimize(self):\n",
    "        '''\n",
    "        Optimize the target function using the Gaussian Process Regressor.\n",
    "\n",
    "        Returns:\n",
    "        - optimal_x: The optimal input values that minimize the target function.\n",
    "        - y_min: The minimum value of the target function.\n",
    "        '''\n",
    "        # Initialize the Gaussian Process Regressor with the best guess\n",
    "        y_min_ind = np.argmin(self.y_init)\n",
    "        y_min = self.y_min = self.y_init[y_min_ind] \n",
    "        optimal_x = self.x_init[y_min_ind]\n",
    "        optimal_ei = None\n",
    "\n",
    "        if isinstance(self.y_init, list):\n",
    "            self.y_init = np.array(self.y_init)\n",
    "        \n",
    "        for i in range(self.n_iter):\n",
    "            print(f'Iteration: {i} Best loss = {y_min:.2f}\\n')\n",
    "            self.gauss_pr.fit(self.x_init, self.y_init)\n",
    "            x_next ,x_next_sc, ei = self._get_next_probable_point()\n",
    "            y_next = self.target_func(np.array(x_next)) ## Call loss Function\n",
    "            self._extend_prior_with_posterior_data(x_next_sc,y_next)\n",
    "            if ((y_next < y_min) & (y_next > 0)):\n",
    "                y_min = self.y_min = y_next\n",
    "                optimal_x = x_next\n",
    "                optimal_ei = ei\n",
    "\n",
    "            if i == 0:\n",
    "                prev_x = x_next\n",
    "            else:\n",
    "                self.distances_.append(norm(prev_x - x_next))\n",
    "                prev_x = x_next\n",
    "\n",
    "            self.best_samples_ = pd.concat((self.best_samples_, pd.DataFrame({\"x\": [optimal_x],\"y\": [y_min], \"ei\": [optimal_ei]})), ignore_index=True) \n",
    "        return optimal_x, y_min\n",
    "\n",
    "    def next_guess(self):\n",
    "        y_bound = self.bounds[0]\n",
    "        A_bound = self.bounds[1]\n",
    "        y = np.random.uniform(y_bound[0], y_bound[1], 5)\n",
    "        Areas = np.random.uniform(A_bound[0], A_bound[1], 15)\n",
    "        x_list = np.append(y, Areas)\n",
    "        return x_list\n",
    "    \n",
    "    def scaler(self, x, mode):\n",
    "        y_coords = x[:5]\n",
    "        y_coords_sc = SC_wrapper(mode, y_coords, 'y')\n",
    "        areas = x[5:]\n",
    "        areas_sc = SC_wrapper(mode, areas, 'a')\n",
    "        x_out = np.concatenate([y_coords_sc, areas_sc])\n",
    "        return x_out "
   ]
  },
  {
   "cell_type": "code",
   "execution_count": 381,
   "metadata": {},
   "outputs": [],
   "source": [
    "# ------------------------------ OTHER FUNCTIONS ----------------------------- #\n",
    "## WRAPPER FUNCTIONS TO CALL OBJECT AND OPTIMISATION METHODS\n",
    "def LF_wrapper(x):\n",
    "    return TRUSS1.loss_function(x)       \n",
    "\n",
    "def SC_wrapper(mode,x,scaler):\n",
    "    return TRUSS1.scaler(mode,x, scaler)\n",
    "\n",
    "## CATCH OPTIMISATION EXCEPTIONS\n",
    "class LossFunctionException(Exception):\n",
    "    pass\n",
    "\n",
    "## VISUALISATION & RESULTS\n",
    "def final_results(x_list, Area_lower=4e-3):\n",
    "    '''FIX THIS'''\n",
    "    A_list = x_list[5:]\n",
    "    A_list = np.append([Area_lower], A_list)\n",
    "    y_list = x_list[0:5]\n",
    "\n",
    "    if constraint(A_list, y_list) != 0:\n",
    "        print(f'The constraints for the natural frequencies are not met')\n",
    "    else:\n",
    "        print(f'The constraints of the natural frequencies are met')\n",
    "\n",
    "    mass = mass_TRUSS(A_list, y_list)\n",
    "    eigenfrequencies = eigenfrequencies(A_list, y_list)\n",
    "\n",
    "    return mass, eigenfrequencies\n",
    "\n",
    "def plot_truss(file_path, OBJECT, cross_sections):\n",
    "    # Read the input file and store in props object\n",
    "    path = os.path.normpath(os.path.join(file_path,'bridge_frequency_plot.pro'))\n",
    "    \n",
    "    props = pu.parse_file(path)\n",
    "    props['model']['truss']['area'] = cross_sections\n",
    "    props['init']['mesh']['file'] = OBJECT.get_write_geom_file(file_path)\n",
    "\n",
    "    # Call the program and store output in globdat\n",
    "    trap = io.StringIO()\n",
    "    with redirect_stdout(trap):\n",
    "        globdat = main.jive(props)"
   ]
  },
  {
   "cell_type": "markdown",
   "metadata": {},
   "source": [
    "## <strong> 1 | Initialisation</strong>"
   ]
  },
  {
   "cell_type": "code",
   "execution_count": 513,
   "metadata": {},
   "outputs": [],
   "source": [
    "# -------------------------------- Definitions ------------------------------- #\n",
    "read_file_path = '../truss_bridge/data'\n",
    "write_file_path =  '../truss_bridge/data/@TRUSS'\n",
    "violation_factor = 10\n",
    "freq_constraints = [20,40,60]\n",
    "mass_weight = 1\n",
    "freq_weight = 4\n",
    "A_bound = (0.001, 0.01)\n",
    "y_bound = (0.5, 2)\n",
    "mm_scaler_y = MinMaxScaler()\n",
    "mm_scaler_a = MinMaxScaler()\n",
    "\n",
    "bounds = [y_bound, A_bound]\n",
    "scalers = [mm_scaler_y,mm_scaler_a]\n",
    "\n",
    "TRUSS1 = TRUSS(read_file_path,\n",
    "                write_file_path,\n",
    "                violation_factor,\n",
    "                scalers,\n",
    "                bounds,\n",
    "                imag_threshold= imag_threshold,\n",
    "                freq_constraints= freq_constraints, \n",
    "                mass_weight= mass_weight, \n",
    "                freq_weight= freq_weight)\n",
    "TRUSS1.read_geom_file()\n",
    "# -------------------------------- initiation -------------------------------- #\n",
    "n_samples = 25 #Large Number to fit the scaler adequately\n",
    "x_list = []\n",
    "y_list = []\n",
    "x_list_sc = []\n",
    "\n",
    "for _ in range(n_samples):\n",
    "    x_values = TRUSS1.Initial_guess()\n",
    "    x_list.append(x_values)\n",
    " \n",
    "trap = io.StringIO()\n",
    "with redirect_stdout(trap):\n",
    "    for x in x_list:\n",
    "        LOSS = TRUSS1.loss_function(x)\n",
    "        y_list.append(LOSS)\n",
    "\n",
    "# ---------------------- scaling and fitting the scalers --------------------- #\n",
    "y_values = np.linspace(y_bound[0], y_bound[1], 5) # Fit scalers according to bounds\n",
    "a_values = np.linspace(A_bound[0], A_bound[1], 15)\n",
    "x_values = np.concatenate([y_values, a_values])\n",
    "x_values_reshaped = x_values\n",
    "TRUSS1.fit_scalers(x_values_reshaped)\n",
    "\n",
    "for item in x_list:\n",
    "    y_coords = item[:5]\n",
    "    y_coords_sc = SC_wrapper('scale', y_coords, 'y')\n",
    "    areas = item[5:]\n",
    "    areas_sc = SC_wrapper('scale', areas, 'a')\n",
    "    x_out = np.concatenate([y_coords_sc, areas_sc])\n",
    "    x_list_sc.append(x_out)"
   ]
  },
  {
   "cell_type": "markdown",
   "metadata": {},
   "source": [
    "## <strong> 2 | Optimisation </strong>"
   ]
  },
  {
   "cell_type": "code",
   "execution_count": 524,
   "metadata": {},
   "outputs": [
    {
     "data": {
      "text/plain": [
       "array([0.20893461, 0.87118023, 0.83954851, 1.        , 0.27854562,\n",
       "       0.20628025, 0.03275041, 0.87583309, 0.13027752, 0.48919393,\n",
       "       0.        , 0.78618509, 0.91264633, 0.52576173, 0.51823454,\n",
       "       0.3605838 , 0.05069595, 0.45731783, 0.42678192, 0.06867201])"
      ]
     },
     "execution_count": 524,
     "metadata": {},
     "output_type": "execute_result"
    }
   ],
   "source": [
    "TRUSS1_bopt.x_init[-1]"
   ]
  },
  {
   "cell_type": "code",
   "execution_count": 520,
   "metadata": {},
   "outputs": [
    {
     "name": "stdout",
     "output_type": "stream",
     "text": [
      "Iteration: 0 Best loss = 1.94\n",
      "\n",
      "+----------+--------------+------------------------------------------------------------+-----------------+------------------------+---------------------+------------------------------+\n",
      "| Metric   |   Total Loss | Natural Frequencies                                        |   Mass of Truss |   Normalized Mass Loss |   Frequency Penalty |   Constraint Violation Level |\n",
      "+==========+==============+============================================================+=================+========================+=====================+==============================+\n",
      "| Value    |      2.54919 | [20.309904254760276, 68.39610017551675, 79.34096261279623] |         2577.39 |               0.869187 |            0.202704 |                     0.202704 |\n",
      "+----------+--------------+------------------------------------------------------------+-----------------+------------------------+---------------------+------------------------------+\n",
      "Iteration: 1 Best loss = 1.94\n",
      "\n",
      "+----------+--------------+------------------------------------------------------------+-----------------+------------------------+---------------------+------------------------------+\n",
      "| Metric   |   Total Loss | Natural Frequencies                                        |   Mass of Truss |   Normalized Mass Loss |   Frequency Penalty |   Constraint Violation Level |\n",
      "+==========+==============+============================================================+=================+========================+=====================+==============================+\n",
      "| Value    |      1.14163 | [23.357597377654788, 54.471965259754114, 68.4624661881755] |         1338.82 |               0.451497 |           0.0596583 |                    0.0596583 |\n",
      "+----------+--------------+------------------------------------------------------------+-----------------+------------------------+---------------------+------------------------------+\n",
      "Iteration: 2 Best loss = 1.14\n",
      "\n",
      "+----------+--------------+------------------------------------------------------------+-----------------+------------------------+---------------------+------------------------------+\n",
      "| Metric   |   Total Loss | Natural Frequencies                                        |   Mass of Truss |   Normalized Mass Loss |   Frequency Penalty |   Constraint Violation Level |\n",
      "+==========+==============+============================================================+=================+========================+=====================+==============================+\n",
      "| Value    |      4.24304 | [11.84738084084957, 32.85932123919997, 47.537824302336055] |          1523.3 |                0.51371 |            0.803906 |                     0.803906 |\n",
      "+----------+--------------+------------------------------------------------------------+-----------------+------------------------+---------------------+------------------------------+\n",
      "Iteration: 3 Best loss = 1.14\n",
      "\n"
     ]
    },
    {
     "name": "stderr",
     "output_type": "stream",
     "text": [
      "c:\\Program Files\\Python310\\@Environments\\TUD-JF\\lib\\site-packages\\sklearn\\gaussian_process\\kernels.py:434: ConvergenceWarning: The optimal value found for dimension 0 of parameter k2__length_scale is close to the specified upper bound 10000000000.0. Increasing the bound and calling fit again may find a better value.\n",
      "  warnings.warn(\n",
      "c:\\Program Files\\Python310\\@Environments\\TUD-JF\\lib\\site-packages\\sklearn\\gaussian_process\\kernels.py:434: ConvergenceWarning: The optimal value found for dimension 1 of parameter k2__length_scale is close to the specified upper bound 10000000000.0. Increasing the bound and calling fit again may find a better value.\n",
      "  warnings.warn(\n",
      "c:\\Program Files\\Python310\\@Environments\\TUD-JF\\lib\\site-packages\\sklearn\\gaussian_process\\kernels.py:434: ConvergenceWarning: The optimal value found for dimension 10 of parameter k2__length_scale is close to the specified upper bound 10000000000.0. Increasing the bound and calling fit again may find a better value.\n",
      "  warnings.warn(\n",
      "c:\\Program Files\\Python310\\@Environments\\TUD-JF\\lib\\site-packages\\sklearn\\gaussian_process\\kernels.py:434: ConvergenceWarning: The optimal value found for dimension 13 of parameter k2__length_scale is close to the specified upper bound 10000000000.0. Increasing the bound and calling fit again may find a better value.\n",
      "  warnings.warn(\n",
      "c:\\Program Files\\Python310\\@Environments\\TUD-JF\\lib\\site-packages\\sklearn\\gaussian_process\\kernels.py:434: ConvergenceWarning: The optimal value found for dimension 16 of parameter k2__length_scale is close to the specified upper bound 10000000000.0. Increasing the bound and calling fit again may find a better value.\n",
      "  warnings.warn(\n"
     ]
    },
    {
     "name": "stdout",
     "output_type": "stream",
     "text": [
      "+----------+--------------+-----------------------------------------------------------+-----------------+------------------------+---------------------+------------------------------+\n",
      "| Metric   |   Total Loss | Natural Frequencies                                       |   Mass of Truss |   Normalized Mass Loss |   Frequency Penalty |   Constraint Violation Level |\n",
      "+==========+==============+===========================================================+=================+========================+=====================+==============================+\n",
      "| Value    |      4.31954 | [10.747502433480628, 34.7725024791416, 53.81590166767706] |         1625.81 |               0.548279 |            0.805747 |                     0.805747 |\n",
      "+----------+--------------+-----------------------------------------------------------+-----------------+------------------------+---------------------+------------------------------+\n",
      "Iteration: 4 Best loss = 1.14\n",
      "\n"
     ]
    },
    {
     "name": "stderr",
     "output_type": "stream",
     "text": [
      "c:\\Program Files\\Python310\\@Environments\\TUD-JF\\lib\\site-packages\\sklearn\\gaussian_process\\kernels.py:434: ConvergenceWarning: The optimal value found for dimension 0 of parameter k2__length_scale is close to the specified upper bound 10000000000.0. Increasing the bound and calling fit again may find a better value.\n",
      "  warnings.warn(\n",
      "c:\\Program Files\\Python310\\@Environments\\TUD-JF\\lib\\site-packages\\sklearn\\gaussian_process\\kernels.py:434: ConvergenceWarning: The optimal value found for dimension 1 of parameter k2__length_scale is close to the specified upper bound 10000000000.0. Increasing the bound and calling fit again may find a better value.\n",
      "  warnings.warn(\n",
      "c:\\Program Files\\Python310\\@Environments\\TUD-JF\\lib\\site-packages\\sklearn\\gaussian_process\\kernels.py:434: ConvergenceWarning: The optimal value found for dimension 3 of parameter k2__length_scale is close to the specified upper bound 10000000000.0. Increasing the bound and calling fit again may find a better value.\n",
      "  warnings.warn(\n",
      "c:\\Program Files\\Python310\\@Environments\\TUD-JF\\lib\\site-packages\\sklearn\\gaussian_process\\kernels.py:434: ConvergenceWarning: The optimal value found for dimension 9 of parameter k2__length_scale is close to the specified upper bound 10000000000.0. Increasing the bound and calling fit again may find a better value.\n",
      "  warnings.warn(\n",
      "c:\\Program Files\\Python310\\@Environments\\TUD-JF\\lib\\site-packages\\sklearn\\gaussian_process\\kernels.py:434: ConvergenceWarning: The optimal value found for dimension 10 of parameter k2__length_scale is close to the specified upper bound 10000000000.0. Increasing the bound and calling fit again may find a better value.\n",
      "  warnings.warn(\n",
      "c:\\Program Files\\Python310\\@Environments\\TUD-JF\\lib\\site-packages\\sklearn\\gaussian_process\\kernels.py:434: ConvergenceWarning: The optimal value found for dimension 12 of parameter k2__length_scale is close to the specified upper bound 10000000000.0. Increasing the bound and calling fit again may find a better value.\n",
      "  warnings.warn(\n",
      "c:\\Program Files\\Python310\\@Environments\\TUD-JF\\lib\\site-packages\\sklearn\\gaussian_process\\kernels.py:434: ConvergenceWarning: The optimal value found for dimension 14 of parameter k2__length_scale is close to the specified upper bound 10000000000.0. Increasing the bound and calling fit again may find a better value.\n",
      "  warnings.warn(\n",
      "c:\\Program Files\\Python310\\@Environments\\TUD-JF\\lib\\site-packages\\sklearn\\gaussian_process\\kernels.py:434: ConvergenceWarning: The optimal value found for dimension 15 of parameter k2__length_scale is close to the specified upper bound 10000000000.0. Increasing the bound and calling fit again may find a better value.\n",
      "  warnings.warn(\n",
      "c:\\Program Files\\Python310\\@Environments\\TUD-JF\\lib\\site-packages\\sklearn\\gaussian_process\\kernels.py:434: ConvergenceWarning: The optimal value found for dimension 17 of parameter k2__length_scale is close to the specified upper bound 10000000000.0. Increasing the bound and calling fit again may find a better value.\n",
      "  warnings.warn(\n",
      "c:\\Program Files\\Python310\\@Environments\\TUD-JF\\lib\\site-packages\\sklearn\\gaussian_process\\kernels.py:434: ConvergenceWarning: The optimal value found for dimension 18 of parameter k2__length_scale is close to the specified upper bound 10000000000.0. Increasing the bound and calling fit again may find a better value.\n",
      "  warnings.warn(\n"
     ]
    },
    {
     "name": "stdout",
     "output_type": "stream",
     "text": [
      "+----------+--------------+---------------------------------------------------------+-----------------+------------------------+---------------------+------------------------------+\n",
      "| Metric   |   Total Loss | Natural Frequencies                                     |   Mass of Truss |   Normalized Mass Loss |   Frequency Penalty |   Constraint Violation Level |\n",
      "+==========+==============+=========================================================+=================+========================+=====================+==============================+\n",
      "| Value    |      5.52591 | [8.551322005249302, 40.014878329923, 53.54787730159803] |         1486.58 |               0.501326 |             1.13081 |                      1.13081 |\n",
      "+----------+--------------+---------------------------------------------------------+-----------------+------------------------+---------------------+------------------------------+\n",
      "Iteration: 5 Best loss = 1.14\n",
      "\n"
     ]
    },
    {
     "name": "stderr",
     "output_type": "stream",
     "text": [
      "c:\\Program Files\\Python310\\@Environments\\TUD-JF\\lib\\site-packages\\sklearn\\gaussian_process\\kernels.py:434: ConvergenceWarning: The optimal value found for dimension 0 of parameter k2__length_scale is close to the specified upper bound 10000000000.0. Increasing the bound and calling fit again may find a better value.\n",
      "  warnings.warn(\n",
      "c:\\Program Files\\Python310\\@Environments\\TUD-JF\\lib\\site-packages\\sklearn\\gaussian_process\\kernels.py:434: ConvergenceWarning: The optimal value found for dimension 1 of parameter k2__length_scale is close to the specified upper bound 10000000000.0. Increasing the bound and calling fit again may find a better value.\n",
      "  warnings.warn(\n",
      "c:\\Program Files\\Python310\\@Environments\\TUD-JF\\lib\\site-packages\\sklearn\\gaussian_process\\kernels.py:434: ConvergenceWarning: The optimal value found for dimension 3 of parameter k2__length_scale is close to the specified upper bound 10000000000.0. Increasing the bound and calling fit again may find a better value.\n",
      "  warnings.warn(\n",
      "c:\\Program Files\\Python310\\@Environments\\TUD-JF\\lib\\site-packages\\sklearn\\gaussian_process\\kernels.py:434: ConvergenceWarning: The optimal value found for dimension 15 of parameter k2__length_scale is close to the specified upper bound 10000000000.0. Increasing the bound and calling fit again may find a better value.\n",
      "  warnings.warn(\n"
     ]
    },
    {
     "name": "stdout",
     "output_type": "stream",
     "text": [
      "+----------+--------------+-------------------------------------------------------------+-----------------+------------------------+---------------------+------------------------------+\n",
      "| Metric   |   Total Loss | Natural Frequencies                                         |   Mass of Truss |   Normalized Mass Loss |   Frequency Penalty |   Constraint Violation Level |\n",
      "+==========+==============+=============================================================+=================+========================+=====================+==============================+\n",
      "| Value    |      2.47736 | [13.756114672532112, 51.068505050247154, 57.07695674231577] |         1548.01 |               0.522042 |            0.358319 |                     0.358319 |\n",
      "+----------+--------------+-------------------------------------------------------------+-----------------+------------------------+---------------------+------------------------------+\n",
      "Iteration: 6 Best loss = 1.14\n",
      "\n",
      "+----------+--------------+-----------------------------------------------------------+-----------------+------------------------+---------------------+------------------------------+\n",
      "| Metric   |   Total Loss | Natural Frequencies                                       |   Mass of Truss |   Normalized Mass Loss |   Frequency Penalty |   Constraint Violation Level |\n",
      "+==========+==============+===========================================================+=================+========================+=====================+==============================+\n",
      "| Value    |      1.30383 | [20.97798026767568, 50.24895261397068, 67.32350214100737] |         1769.15 |                0.59662 |           0.0276467 |                    0.0276467 |\n",
      "+----------+--------------+-----------------------------------------------------------+-----------------+------------------------+---------------------+------------------------------+\n",
      "Iteration: 7 Best loss = 1.14\n",
      "\n",
      "+----------+--------------+-------------------------------------------------------------+-----------------+------------------------+---------------------+------------------------------+\n",
      "| Metric   |   Total Loss | Natural Frequencies                                         |   Mass of Truss |   Normalized Mass Loss |   Frequency Penalty |   Constraint Violation Level |\n",
      "+==========+==============+=============================================================+=================+========================+=====================+==============================+\n",
      "| Value    |      1.40168 | [21.478459117934005, 40.742546373019074, 68.04408863697823] |         2031.18 |               0.684985 |          0.00792783 |                   0.00792783 |\n",
      "+----------+--------------+-------------------------------------------------------------+-----------------+------------------------+---------------------+------------------------------+\n",
      "Iteration: 8 Best loss = 1.14\n",
      "\n",
      "+----------+--------------+------------------------------------------------------------+-----------------+------------------------+---------------------+------------------------------+\n",
      "| Metric   |   Total Loss | Natural Frequencies                                        |   Mass of Truss |   Normalized Mass Loss |   Frequency Penalty |   Constraint Violation Level |\n",
      "+==========+==============+============================================================+=================+========================+=====================+==============================+\n",
      "| Value    |      1.38464 | [24.859261192429873, 52.795219295987884, 64.2200690510908] |         1724.18 |               0.581455 |           0.0554338 |                    0.0554338 |\n",
      "+----------+--------------+------------------------------------------------------------+-----------------+------------------------+---------------------+------------------------------+\n",
      "Iteration: 9 Best loss = 1.14\n",
      "\n"
     ]
    },
    {
     "name": "stderr",
     "output_type": "stream",
     "text": [
      "c:\\Program Files\\Python310\\@Environments\\TUD-JF\\lib\\site-packages\\sklearn\\gaussian_process\\kernels.py:434: ConvergenceWarning: The optimal value found for dimension 0 of parameter k2__length_scale is close to the specified upper bound 10000000000.0. Increasing the bound and calling fit again may find a better value.\n",
      "  warnings.warn(\n",
      "c:\\Program Files\\Python310\\@Environments\\TUD-JF\\lib\\site-packages\\sklearn\\gaussian_process\\kernels.py:434: ConvergenceWarning: The optimal value found for dimension 1 of parameter k2__length_scale is close to the specified upper bound 10000000000.0. Increasing the bound and calling fit again may find a better value.\n",
      "  warnings.warn(\n",
      "c:\\Program Files\\Python310\\@Environments\\TUD-JF\\lib\\site-packages\\sklearn\\gaussian_process\\kernels.py:434: ConvergenceWarning: The optimal value found for dimension 3 of parameter k2__length_scale is close to the specified upper bound 10000000000.0. Increasing the bound and calling fit again may find a better value.\n",
      "  warnings.warn(\n",
      "c:\\Program Files\\Python310\\@Environments\\TUD-JF\\lib\\site-packages\\sklearn\\gaussian_process\\kernels.py:434: ConvergenceWarning: The optimal value found for dimension 12 of parameter k2__length_scale is close to the specified upper bound 10000000000.0. Increasing the bound and calling fit again may find a better value.\n",
      "  warnings.warn(\n",
      "c:\\Program Files\\Python310\\@Environments\\TUD-JF\\lib\\site-packages\\sklearn\\gaussian_process\\kernels.py:434: ConvergenceWarning: The optimal value found for dimension 15 of parameter k2__length_scale is close to the specified upper bound 10000000000.0. Increasing the bound and calling fit again may find a better value.\n",
      "  warnings.warn(\n"
     ]
    },
    {
     "name": "stdout",
     "output_type": "stream",
     "text": [
      "+----------+--------------+------------------------------------------------------------+-----------------+------------------------+---------------------+------------------------------+\n",
      "| Metric   |   Total Loss | Natural Frequencies                                        |   Mass of Truss |   Normalized Mass Loss |   Frequency Penalty |   Constraint Violation Level |\n",
      "+==========+==============+============================================================+=================+========================+=====================+==============================+\n",
      "| Value    |      1.97273 | [16.17369154348137, 43.174177225556804, 53.69271747710364] |         1970.39 |               0.664485 |            0.160939 |                     0.160939 |\n",
      "+----------+--------------+------------------------------------------------------------+-----------------+------------------------+---------------------+------------------------------+\n",
      "Iteration: 10 Best loss = 1.14\n",
      "\n",
      "+----------+--------------+-------------------------------------------------------------+-----------------+------------------------+---------------------+------------------------------+\n",
      "| Metric   |   Total Loss | Natural Frequencies                                         |   Mass of Truss |   Normalized Mass Loss |   Frequency Penalty |   Constraint Violation Level |\n",
      "+==========+==============+=============================================================+=================+========================+=====================+==============================+\n",
      "| Value    |      1.93367 | [15.715515765641028, 43.623189029476315, 72.07281972462498] |         1863.47 |               0.628428 |            0.169204 |                     0.169204 |\n",
      "+----------+--------------+-------------------------------------------------------------+-----------------+------------------------+---------------------+------------------------------+\n",
      "Iteration: 11 Best loss = 1.14\n",
      "\n",
      "+----------+--------------+------------------------------------------------------------+-----------------+------------------------+---------------------+------------------------------+\n",
      "| Metric   |   Total Loss | Natural Frequencies                                        |   Mass of Truss |   Normalized Mass Loss |   Frequency Penalty |   Constraint Violation Level |\n",
      "+==========+==============+============================================================+=================+========================+=====================+==============================+\n",
      "| Value    |      4.53369 | [10.987875200426949, 54.70895049369177, 70.16922662373797] |         2383.82 |               0.803909 |            0.731469 |                     0.731469 |\n",
      "+----------+--------------+------------------------------------------------------------+-----------------+------------------------+---------------------+------------------------------+\n",
      "Iteration: 12 Best loss = 1.14\n",
      "\n"
     ]
    },
    {
     "name": "stderr",
     "output_type": "stream",
     "text": [
      "c:\\Program Files\\Python310\\@Environments\\TUD-JF\\lib\\site-packages\\sklearn\\gaussian_process\\kernels.py:434: ConvergenceWarning: The optimal value found for dimension 1 of parameter k2__length_scale is close to the specified upper bound 10000000000.0. Increasing the bound and calling fit again may find a better value.\n",
      "  warnings.warn(\n",
      "c:\\Program Files\\Python310\\@Environments\\TUD-JF\\lib\\site-packages\\sklearn\\gaussian_process\\kernels.py:434: ConvergenceWarning: The optimal value found for dimension 9 of parameter k2__length_scale is close to the specified upper bound 10000000000.0. Increasing the bound and calling fit again may find a better value.\n",
      "  warnings.warn(\n",
      "c:\\Program Files\\Python310\\@Environments\\TUD-JF\\lib\\site-packages\\sklearn\\gaussian_process\\kernels.py:434: ConvergenceWarning: The optimal value found for dimension 12 of parameter k2__length_scale is close to the specified upper bound 10000000000.0. Increasing the bound and calling fit again may find a better value.\n",
      "  warnings.warn(\n",
      "c:\\Program Files\\Python310\\@Environments\\TUD-JF\\lib\\site-packages\\sklearn\\gaussian_process\\kernels.py:434: ConvergenceWarning: The optimal value found for dimension 16 of parameter k2__length_scale is close to the specified upper bound 10000000000.0. Increasing the bound and calling fit again may find a better value.\n",
      "  warnings.warn(\n"
     ]
    },
    {
     "name": "stdout",
     "output_type": "stream",
     "text": [
      "+----------+--------------+-------------------------------------------------------------+-----------------+------------------------+---------------------+------------------------------+\n",
      "| Metric   |   Total Loss | Natural Frequencies                                         |   Mass of Truss |   Normalized Mass Loss |   Frequency Penalty |   Constraint Violation Level |\n",
      "+==========+==============+=============================================================+=================+========================+=====================+==============================+\n",
      "| Value    |      2.20499 | [15.419076196667314, 42.412715322171714, 52.00334586022921] |         1873.77 |               0.631901 |            0.235296 |                     0.235296 |\n",
      "+----------+--------------+-------------------------------------------------------------+-----------------+------------------------+---------------------+------------------------------+\n",
      "Iteration: 13 Best loss = 1.14\n",
      "\n",
      "+----------+--------------+------------------------------------------------------------+-----------------+------------------------+---------------------+------------------------------+\n",
      "| Metric   |   Total Loss | Natural Frequencies                                        |   Mass of Truss |   Normalized Mass Loss |   Frequency Penalty |   Constraint Violation Level |\n",
      "+==========+==============+============================================================+=================+========================+=====================+==============================+\n",
      "| Value    |      1.45012 | [22.550938209419655, 53.42281577627135, 59.36159729180948] |         1893.01 |               0.638387 |           0.0433359 |                    0.0433359 |\n",
      "+----------+--------------+------------------------------------------------------------+-----------------+------------------------+---------------------+------------------------------+\n",
      "Iteration: 14 Best loss = 1.14\n",
      "\n",
      "+----------+--------------+-------------------------------------------------------------+-----------------+------------------------+---------------------+------------------------------+\n",
      "| Metric   |   Total Loss | Natural Frequencies                                         |   Mass of Truss |   Normalized Mass Loss |   Frequency Penalty |   Constraint Violation Level |\n",
      "+==========+==============+=============================================================+=================+========================+=====================+==============================+\n",
      "| Value    |      3.38409 | [12.651227044011659, 57.918157337719535, 71.07653113755293] |         1884.36 |               0.635473 |            0.528285 |                     0.528285 |\n",
      "+----------+--------------+-------------------------------------------------------------+-----------------+------------------------+---------------------+------------------------------+\n",
      "Iteration: 15 Best loss = 1.14\n",
      "\n"
     ]
    },
    {
     "name": "stderr",
     "output_type": "stream",
     "text": [
      "c:\\Program Files\\Python310\\@Environments\\TUD-JF\\lib\\site-packages\\sklearn\\gaussian_process\\kernels.py:434: ConvergenceWarning: The optimal value found for dimension 0 of parameter k2__length_scale is close to the specified upper bound 10000000000.0. Increasing the bound and calling fit again may find a better value.\n",
      "  warnings.warn(\n",
      "c:\\Program Files\\Python310\\@Environments\\TUD-JF\\lib\\site-packages\\sklearn\\gaussian_process\\kernels.py:434: ConvergenceWarning: The optimal value found for dimension 15 of parameter k2__length_scale is close to the specified upper bound 10000000000.0. Increasing the bound and calling fit again may find a better value.\n",
      "  warnings.warn(\n",
      "c:\\Program Files\\Python310\\@Environments\\TUD-JF\\lib\\site-packages\\sklearn\\gaussian_process\\kernels.py:434: ConvergenceWarning: The optimal value found for dimension 16 of parameter k2__length_scale is close to the specified upper bound 10000000000.0. Increasing the bound and calling fit again may find a better value.\n",
      "  warnings.warn(\n"
     ]
    },
    {
     "name": "stdout",
     "output_type": "stream",
     "text": [
      "+----------+--------------+-------------------------------------------------------------+-----------------+------------------------+---------------------+------------------------------+\n",
      "| Metric   |   Total Loss | Natural Frequencies                                         |   Mass of Truss |   Normalized Mass Loss |   Frequency Penalty |   Constraint Violation Level |\n",
      "+==========+==============+=============================================================+=================+========================+=====================+==============================+\n",
      "| Value    |       8.4436 | [5.6964863723403205, 35.20916888722359, 58.255417376160096] |          2107.4 |               0.710688 |             1.75556 |                      1.75556 |\n",
      "+----------+--------------+-------------------------------------------------------------+-----------------+------------------------+---------------------+------------------------------+\n",
      "Iteration: 16 Best loss = 1.14\n",
      "\n",
      "+----------+--------------+-----------------------------------------------------------+-----------------+------------------------+---------------------+------------------------------+\n",
      "| Metric   |   Total Loss | Natural Frequencies                                       |   Mass of Truss |   Normalized Mass Loss |   Frequency Penalty |   Constraint Violation Level |\n",
      "+==========+==============+===========================================================+=================+========================+=====================+==============================+\n",
      "| Value    |      1.48369 | [23.04317493671382, 46.52929093788311, 70.83963366941998] |         2036.83 |               0.686889 |           0.0274784 |                    0.0274784 |\n",
      "+----------+--------------+-----------------------------------------------------------+-----------------+------------------------+---------------------+------------------------------+\n",
      "Iteration: 17 Best loss = 1.14\n",
      "\n",
      "+----------+--------------+-------------------------------------------------------------+-----------------+------------------------+---------------------+------------------------------+\n",
      "| Metric   |   Total Loss | Natural Frequencies                                         |   Mass of Truss |   Normalized Mass Loss |   Frequency Penalty |   Constraint Violation Level |\n",
      "+==========+==============+=============================================================+=================+========================+=====================+==============================+\n",
      "| Value    |      5.51281 | [10.841211432935376, 28.665743327655864, 58.93109363806232] |         2434.39 |               0.820962 |            0.967723 |                     0.967723 |\n",
      "+----------+--------------+-------------------------------------------------------------+-----------------+------------------------+---------------------+------------------------------+\n",
      "Iteration: 18 Best loss = 1.14\n",
      "\n",
      "+----------+--------------+-----------------------------------------------------------+-----------------+------------------------+---------------------+------------------------------+\n",
      "| Metric   |   Total Loss | Natural Frequencies                                       |   Mass of Truss |   Normalized Mass Loss |   Frequency Penalty |   Constraint Violation Level |\n",
      "+==========+==============+===========================================================+=================+========================+=====================+==============================+\n",
      "| Value    |      6.21803 | [7.67647097606925, 41.74550598016883, 53.715390378278585] |         1492.87 |               0.503449 |             1.30278 |                      1.30278 |\n",
      "+----------+--------------+-----------------------------------------------------------+-----------------+------------------------+---------------------+------------------------------+\n",
      "Iteration: 19 Best loss = 1.14\n",
      "\n",
      "+----------+--------------+------------------------------------------------------------+-----------------+------------------------+---------------------+------------------------------+\n",
      "| Metric   |   Total Loss | Natural Frequencies                                        |   Mass of Truss |   Normalized Mass Loss |   Frequency Penalty |   Constraint Violation Level |\n",
      "+==========+==============+============================================================+=================+========================+=====================+==============================+\n",
      "| Value    |      3.21752 | [12.162963940682749, 44.26295589610349, 63.10383672061113] |         1707.28 |               0.575754 |            0.516504 |                     0.516504 |\n",
      "+----------+--------------+------------------------------------------------------------+-----------------+------------------------+---------------------+------------------------------+\n"
     ]
    }
   ],
   "source": [
    "TRUSS1_bopt = BayesianOptimizer(target_func=LF_wrapper, x_init=x_list_sc, y_init=y_list, n_iter=20, batch_size=100, bounds=bounds)\n",
    "optimal_x, y_max = TRUSS1_bopt.optimize()"
   ]
  },
  {
   "cell_type": "markdown",
   "metadata": {},
   "source": [
    "## <strong> 3 | Visulisation & Results </strong>"
   ]
  },
  {
   "cell_type": "code",
   "execution_count": 196,
   "metadata": {},
   "outputs": [
    {
     "data": {
      "text/plain": [
       "x     [-0.7601142665754779, 2.439898242265184, 0.323...\n",
       "y                               (1.3614033294242944+0j)\n",
       "ei                                              1.51731\n",
       "Name: 0, dtype: object"
      ]
     },
     "execution_count": 196,
     "metadata": {},
     "output_type": "execute_result"
    }
   ],
   "source": [
    "TRUSS1_bopt.best_samples_.iloc[0]"
   ]
  },
  {
   "cell_type": "markdown",
   "metadata": {},
   "source": [
    "## <strong> XX | Demo 0 </strong>"
   ]
  },
  {
   "cell_type": "code",
   "execution_count": 238,
   "metadata": {},
   "outputs": [
    {
     "name": "stdout",
     "output_type": "stream",
     "text": [
      "Iteration: 0 Best loss = 0.80\n",
      "\n"
     ]
    },
    {
     "name": "stderr",
     "output_type": "stream",
     "text": [
      "c:\\Program Files\\Python310\\@Environments\\TUD-JF\\lib\\site-packages\\sklearn\\gaussian_process\\kernels.py:430: ConvergenceWarning: The optimal value found for dimension 13 of parameter k2__length_scale is close to the specified upper bound 10000000000.0. Increasing the bound and calling fit again may find a better value.\n",
      "  \"better value.\" % (dim, hyp.name, hyp.bounds[dim][0]),\n"
     ]
    },
    {
     "name": "stdout",
     "output_type": "stream",
     "text": [
      "+----------+--------------+-------------------------------------------------------------+-----------------+------------------------+---------------------+--------------------------+------------------------------+\n",
      "| Metric   |   Total Loss | Natural Frequencies                                         |   Mass of Truss |   Normalized Mass Loss |   Frequency Penalty |   Imaginary Part Penalty |   Constraint Violation Level |\n",
      "+==========+==============+=============================================================+=================+========================+=====================+==========================+==============================+\n",
      "| Value    |      16.7334 | [6.767225014673432, 15.291208275591426, 23.967045625312604] |         11349.7 |                      1 |             3.93334 |                        0 |                      3.93334 |\n",
      "+----------+--------------+-------------------------------------------------------------+-----------------+------------------------+---------------------+--------------------------+------------------------------+\n",
      "Iteration: 1 Best loss = 0.80\n",
      "\n",
      "+----------+--------------+-------------------------------------------------------------+-----------------+------------------------+---------------------+--------------------------+------------------------------+\n",
      "| Metric   |   Total Loss | Natural Frequencies                                         |   Mass of Truss |   Normalized Mass Loss |   Frequency Penalty |   Imaginary Part Penalty |   Constraint Violation Level |\n",
      "+==========+==============+=============================================================+=================+========================+=====================+==========================+==============================+\n",
      "| Value    |      18.1561 | [4.170174381245901, 13.795443598030577, 29.613137243469016] |         7503.57 |               0.661123 |             4.37374 |                        0 |                      4.37374 |\n",
      "+----------+--------------+-------------------------------------------------------------+-----------------+------------------------+---------------------+--------------------------+------------------------------+\n",
      "Iteration: 2 Best loss = 0.80\n",
      "\n"
     ]
    },
    {
     "name": "stderr",
     "output_type": "stream",
     "text": [
      "c:\\Program Files\\Python310\\@Environments\\TUD-JF\\lib\\site-packages\\sklearn\\gaussian_process\\kernels.py:430: ConvergenceWarning: The optimal value found for dimension 5 of parameter k2__length_scale is close to the specified upper bound 10000000000.0. Increasing the bound and calling fit again may find a better value.\n",
      "  \"better value.\" % (dim, hyp.name, hyp.bounds[dim][0]),\n"
     ]
    },
    {
     "name": "stdout",
     "output_type": "stream",
     "text": [
      "+----------+--------------+-------------------------------------------------------------+-----------------+------------------------+---------------------+--------------------------+------------------------------+\n",
      "| Metric   |   Total Loss | Natural Frequencies                                         |   Mass of Truss |   Normalized Mass Loss |   Frequency Penalty |   Imaginary Part Penalty |   Constraint Violation Level |\n",
      "+==========+==============+=============================================================+=================+========================+=====================+==========================+==============================+\n",
      "| Value    |     0.707662 | [17.308558980002683, 46.295120831849786, 53.92495510103823] |         3365.04 |               0.296486 |            0.102794 |                        0 |                     0.102794 |\n",
      "+----------+--------------+-------------------------------------------------------------+-----------------+------------------------+---------------------+--------------------------+------------------------------+\n",
      "Iteration: 3 Best loss = 0.71\n",
      "\n",
      "+----------+--------------+------------------------------------------------------------+-----------------+------------------------+---------------------+--------------------------+------------------------------+\n",
      "| Metric   |   Total Loss | Natural Frequencies                                        |   Mass of Truss |   Normalized Mass Loss |   Frequency Penalty |   Imaginary Part Penalty |   Constraint Violation Level |\n",
      "+==========+==============+============================================================+=================+========================+=====================+==========================+==============================+\n",
      "| Value    |     0.497173 | [24.326335489478357, 53.56768973442838, 74.74982683677945] |         2279.07 |               0.200804 |           0.0740923 |                        0 |                    0.0740923 |\n",
      "+----------+--------------+------------------------------------------------------------+-----------------+------------------------+---------------------+--------------------------+------------------------------+\n",
      "Iteration: 4 Best loss = 0.50\n",
      "\n",
      "+----------+--------------+-----------------------------------------------------------+-----------------+------------------------+---------------------+--------------------------+------------------------------+\n",
      "| Metric   |   Total Loss | Natural Frequencies                                       |   Mass of Truss |   Normalized Mass Loss |   Frequency Penalty |   Imaginary Part Penalty |   Constraint Violation Level |\n",
      "+==========+==============+===========================================================+=================+========================+=====================+==========================+==============================+\n",
      "| Value    |      3.21108 | [10.704454896465187, 40.02048963364989, 65.0667664733869] |         3647.07 |               0.321336 |            0.722437 |                        0 |                     0.722437 |\n",
      "+----------+--------------+-----------------------------------------------------------+-----------------+------------------------+---------------------+--------------------------+------------------------------+\n",
      "Iteration: 5 Best loss = 0.50\n",
      "\n",
      "+----------+--------------+--------------------------------------------------------------+-----------------+------------------------+---------------------+--------------------------+------------------------------+\n",
      "| Metric   |   Total Loss | Natural Frequencies                                          |   Mass of Truss |   Normalized Mass Loss |   Frequency Penalty |   Imaginary Part Penalty |   Constraint Violation Level |\n",
      "+==========+==============+==============================================================+=================+========================+=====================+==========================+==============================+\n",
      "| Value    |      20.2149 | [2.2756928026263794, 13.111623505906653, 31.482887406535045] |         8017.12 |               0.706371 |             4.87713 |                        0 |                      4.87713 |\n",
      "+----------+--------------+--------------------------------------------------------------+-----------------+------------------------+---------------------+--------------------------+------------------------------+\n",
      "Iteration: 6 Best loss = 0.50\n",
      "\n",
      "+----------+--------------+-----------------------------------------------------------+-----------------+------------------------+---------------------+--------------------------+------------------------------+\n",
      "| Metric   |   Total Loss | Natural Frequencies                                       |   Mass of Truss |   Normalized Mass Loss |   Frequency Penalty |   Imaginary Part Penalty |   Constraint Violation Level |\n",
      "+==========+==============+===========================================================+=================+========================+=====================+==========================+==============================+\n",
      "| Value    |      20.0943 | [4.216817135224215, 13.642179091600864, 21.2899286357474] |         5122.01 |               0.451289 |             4.91074 |                        0 |                      4.91074 |\n",
      "+----------+--------------+-----------------------------------------------------------+-----------------+------------------------+---------------------+--------------------------+------------------------------+\n",
      "Iteration: 7 Best loss = 0.50\n",
      "\n",
      "+----------+--------------+------------------------------------------------------------+-----------------+------------------------+---------------------+--------------------------+------------------------------+\n",
      "| Metric   |   Total Loss | Natural Frequencies                                        |   Mass of Truss |   Normalized Mass Loss |   Frequency Penalty |   Imaginary Part Penalty |   Constraint Violation Level |\n",
      "+==========+==============+============================================================+=================+========================+=====================+==========================+==============================+\n",
      "| Value    |      4.81757 | [9.134357927183396, 36.196650297457325, 46.31236554403898] |         768.683 |              0.0677269 |             1.18746 |                        0 |                      1.18746 |\n",
      "+----------+--------------+------------------------------------------------------------+-----------------+------------------------+---------------------+--------------------------+------------------------------+\n",
      "Iteration: 8 Best loss = 0.50\n",
      "\n",
      "+----------+--------------+------------------------------------------------------------+-----------------+------------------------+---------------------+--------------------------+------------------------------+\n",
      "| Metric   |   Total Loss | Natural Frequencies                                        |   Mass of Truss |   Normalized Mass Loss |   Frequency Penalty |   Imaginary Part Penalty |   Constraint Violation Level |\n",
      "+==========+==============+============================================================+=================+========================+=====================+==========================+==============================+\n",
      "| Value    |     0.776701 | [16.116747569408005, 45.24967784813071, 74.64500010063881] |         1948.12 |               0.171645 |            0.151264 |                        0 |                     0.151264 |\n",
      "+----------+--------------+------------------------------------------------------------+-----------------+------------------------+---------------------+--------------------------+------------------------------+\n",
      "Iteration: 9 Best loss = 0.50\n",
      "\n",
      "+----------+--------------+------------------------------------------------------------+-----------------+------------------------+---------------------+--------------------------+------------------------------+\n",
      "| Metric   |   Total Loss | Natural Frequencies                                        |   Mass of Truss |   Normalized Mass Loss |   Frequency Penalty |   Imaginary Part Penalty |   Constraint Violation Level |\n",
      "+==========+==============+============================================================+=================+========================+=====================+==========================+==============================+\n",
      "| Value    |      4.93487 | [10.816204751385852, 26.05376330721094, 53.78913314455917] |         4083.42 |               0.359781 |             1.14377 |                        0 |                      1.14377 |\n",
      "+----------+--------------+------------------------------------------------------------+-----------------+------------------------+---------------------+--------------------------+------------------------------+\n",
      "Iteration: 10 Best loss = 0.50\n",
      "\n",
      "+----------+--------------+--------------------------------------------------------------+-----------------+------------------------+---------------------+--------------------------+------------------------------+\n",
      "| Metric   |   Total Loss | Natural Frequencies                                          |   Mass of Truss |   Normalized Mass Loss |   Frequency Penalty |   Imaginary Part Penalty |   Constraint Violation Level |\n",
      "+==========+==============+==============================================================+=================+========================+=====================+==========================+==============================+\n",
      "| Value    |      20.3908 | [2.9625868042315227, 12.160222693552226, 30.025486530296543] |         10539.3 |               0.928597 |             4.86556 |                        0 |                      4.86556 |\n",
      "+----------+--------------+--------------------------------------------------------------+-----------------+------------------------+---------------------+--------------------------+------------------------------+\n",
      "Iteration: 11 Best loss = 0.50\n",
      "\n"
     ]
    },
    {
     "name": "stderr",
     "output_type": "stream",
     "text": [
      "c:\\Program Files\\Python310\\@Environments\\TUD-JF\\lib\\site-packages\\sklearn\\gaussian_process\\kernels.py:430: ConvergenceWarning: The optimal value found for dimension 0 of parameter k2__length_scale is close to the specified upper bound 10000000000.0. Increasing the bound and calling fit again may find a better value.\n",
      "  \"better value.\" % (dim, hyp.name, hyp.bounds[dim][0]),\n",
      "c:\\Program Files\\Python310\\@Environments\\TUD-JF\\lib\\site-packages\\sklearn\\gaussian_process\\kernels.py:430: ConvergenceWarning: The optimal value found for dimension 7 of parameter k2__length_scale is close to the specified upper bound 10000000000.0. Increasing the bound and calling fit again may find a better value.\n",
      "  \"better value.\" % (dim, hyp.name, hyp.bounds[dim][0]),\n"
     ]
    },
    {
     "name": "stdout",
     "output_type": "stream",
     "text": [
      "+----------+--------------+-----------------------------------------------------------+-----------------+------------------------+---------------------+--------------------------+------------------------------+\n",
      "| Metric   |   Total Loss | Natural Frequencies                                       |   Mass of Truss |   Normalized Mass Loss |   Frequency Penalty |   Imaginary Part Penalty |   Constraint Violation Level |\n",
      "+==========+==============+===========================================================+=================+========================+=====================+==========================+==============================+\n",
      "| Value    |      13.7842 | [5.051882271614813, 18.40554884605641, 35.66214247797545] |         2907.83 |               0.256203 |             3.38201 |                        0 |                      3.38201 |\n",
      "+----------+--------------+-----------------------------------------------------------+-----------------+------------------------+---------------------+--------------------------+------------------------------+\n",
      "Iteration: 12 Best loss = 0.50\n",
      "\n",
      "+----------+--------------+-------------------------------------------------------------+-----------------+------------------------+---------------------+--------------------------+------------------------------+\n",
      "| Metric   |   Total Loss | Natural Frequencies                                         |   Mass of Truss |   Normalized Mass Loss |   Frequency Penalty |   Imaginary Part Penalty |   Constraint Violation Level |\n",
      "+==========+==============+=============================================================+=================+========================+=====================+==========================+==============================+\n",
      "| Value    |     0.488697 | [21.325850102373558, 52.911044937773184, 81.29631630192989] |         1996.98 |                0.17595 |           0.0781868 |                        0 |                    0.0781868 |\n",
      "+----------+--------------+-------------------------------------------------------------+-----------------+------------------------+---------------------+--------------------------+------------------------------+\n",
      "Iteration: 13 Best loss = 0.49\n",
      "\n",
      "+----------+--------------+------------------------------------------------------------+-----------------+------------------------+---------------------+--------------------------+------------------------------+\n",
      "| Metric   |   Total Loss | Natural Frequencies                                        |   Mass of Truss |   Normalized Mass Loss |   Frequency Penalty |   Imaginary Part Penalty |   Constraint Violation Level |\n",
      "+==========+==============+============================================================+=================+========================+=====================+==========================+==============================+\n",
      "| Value    |      3.29291 | [12.856077507264358, 29.75985664485284, 51.90278644680178] |         5391.69 |                0.47505 |            0.704465 |                        0 |                     0.704465 |\n",
      "+----------+--------------+------------------------------------------------------------+-----------------+------------------------+---------------------+--------------------------+------------------------------+\n",
      "Iteration: 14 Best loss = 0.49\n",
      "\n",
      "+----------+--------------+-----------------------------------------------------------+-----------------+------------------------+---------------------+--------------------------+------------------------------+\n",
      "| Metric   |   Total Loss | Natural Frequencies                                       |   Mass of Truss |   Normalized Mass Loss |   Frequency Penalty |   Imaginary Part Penalty |   Constraint Violation Level |\n",
      "+==========+==============+===========================================================+=================+========================+=====================+==========================+==============================+\n",
      "| Value    |      1.40421 | [15.912410306096774, 64.79665527507372, 82.0147001451492] |          1763.4 |               0.155369 |             0.31221 |                        0 |                      0.31221 |\n",
      "+----------+--------------+-----------------------------------------------------------+-----------------+------------------------+---------------------+--------------------------+------------------------------+\n",
      "Iteration: 15 Best loss = 0.49\n",
      "\n",
      "+----------+--------------+------------------------------------------------------------+-----------------+------------------------+---------------------+--------------------------+------------------------------+\n",
      "| Metric   |   Total Loss | Natural Frequencies                                        |   Mass of Truss |   Normalized Mass Loss |   Frequency Penalty |   Imaginary Part Penalty |   Constraint Violation Level |\n",
      "+==========+==============+============================================================+=================+========================+=====================+==========================+==============================+\n",
      "| Value    |     0.868526 | [15.999201649353651, 39.52815838300495, 52.13084570045556] |         1177.85 |               0.103778 |            0.191187 |                        0 |                     0.191187 |\n",
      "+----------+--------------+------------------------------------------------------------+-----------------+------------------------+---------------------+--------------------------+------------------------------+\n",
      "Iteration: 16 Best loss = 0.49\n",
      "\n"
     ]
    },
    {
     "name": "stderr",
     "output_type": "stream",
     "text": [
      "c:\\Program Files\\Python310\\@Environments\\TUD-JF\\lib\\site-packages\\sklearn\\gaussian_process\\kernels.py:430: ConvergenceWarning: The optimal value found for dimension 0 of parameter k2__length_scale is close to the specified upper bound 10000000000.0. Increasing the bound and calling fit again may find a better value.\n",
      "  \"better value.\" % (dim, hyp.name, hyp.bounds[dim][0]),\n"
     ]
    },
    {
     "name": "stdout",
     "output_type": "stream",
     "text": [
      "+----------+--------------+-----------------------------------------------------------+-----------------+------------------------+---------------------+--------------------------+------------------------------+\n",
      "| Metric   |   Total Loss | Natural Frequencies                                       |   Mass of Truss |   Normalized Mass Loss |   Frequency Penalty |   Imaginary Part Penalty |   Constraint Violation Level |\n",
      "+==========+==============+===========================================================+=================+========================+=====================+==========================+==============================+\n",
      "| Value    |      9.23005 | [6.404394256392112, 24.04689429307897, 48.67411986826752] |         5365.66 |               0.472757 |             2.18932 |                        0 |                      2.18932 |\n",
      "+----------+--------------+-----------------------------------------------------------+-----------------+------------------------+---------------------+--------------------------+------------------------------+\n",
      "Iteration: 17 Best loss = 0.49\n",
      "\n"
     ]
    },
    {
     "name": "stderr",
     "output_type": "stream",
     "text": [
      "c:\\Program Files\\Python310\\@Environments\\TUD-JF\\lib\\site-packages\\sklearn\\gaussian_process\\kernels.py:430: ConvergenceWarning: The optimal value found for dimension 8 of parameter k2__length_scale is close to the specified upper bound 10000000000.0. Increasing the bound and calling fit again may find a better value.\n",
      "  \"better value.\" % (dim, hyp.name, hyp.bounds[dim][0]),\n"
     ]
    },
    {
     "name": "stdout",
     "output_type": "stream",
     "text": [
      "+----------+--------------+--------------------------------------------------------------+-----------------+------------------------+---------------------+--------------------------+------------------------------+\n",
      "| Metric   |   Total Loss | Natural Frequencies                                          |   Mass of Truss |   Normalized Mass Loss |   Frequency Penalty |   Imaginary Part Penalty |   Constraint Violation Level |\n",
      "+==========+==============+==============================================================+=================+========================+=====================+==========================+==============================+\n",
      "| Value    |      1.75505 | [13.553764928755278, 37.106520421874784, 52.883386608673014] |         1277.71 |               0.112576 |             0.41062 |                        0 |                      0.41062 |\n",
      "+----------+--------------+--------------------------------------------------------------+-----------------+------------------------+---------------------+--------------------------+------------------------------+\n",
      "Iteration: 18 Best loss = 0.49\n",
      "\n",
      "+----------+--------------+-------------------------------------------------------------+-----------------+------------------------+---------------------+--------------------------+------------------------------+\n",
      "| Metric   |   Total Loss | Natural Frequencies                                         |   Mass of Truss |   Normalized Mass Loss |   Frequency Penalty |   Imaginary Part Penalty |   Constraint Violation Level |\n",
      "+==========+==============+=============================================================+=================+========================+=====================+==========================+==============================+\n",
      "| Value    |     0.919233 | [15.577618632381128, 36.566885704814545, 56.81335370473284] |         1492.36 |               0.131489 |            0.196936 |                        0 |                     0.196936 |\n",
      "+----------+--------------+-------------------------------------------------------------+-----------------+------------------------+---------------------+--------------------------+------------------------------+\n",
      "Iteration: 19 Best loss = 0.49\n",
      "\n"
     ]
    },
    {
     "name": "stderr",
     "output_type": "stream",
     "text": [
      "c:\\Program Files\\Python310\\@Environments\\TUD-JF\\lib\\site-packages\\sklearn\\gaussian_process\\kernels.py:430: ConvergenceWarning: The optimal value found for dimension 12 of parameter k2__length_scale is close to the specified upper bound 10000000000.0. Increasing the bound and calling fit again may find a better value.\n",
      "  \"better value.\" % (dim, hyp.name, hyp.bounds[dim][0]),\n"
     ]
    },
    {
     "name": "stdout",
     "output_type": "stream",
     "text": [
      "+----------+--------------+-------------------------------------------------------------+-----------------+------------------------+---------------------+--------------------------+------------------------------+\n",
      "| Metric   |   Total Loss | Natural Frequencies                                         |   Mass of Truss |   Normalized Mass Loss |   Frequency Penalty |   Imaginary Part Penalty |   Constraint Violation Level |\n",
      "+==========+==============+=============================================================+=================+========================+=====================+==========================+==============================+\n",
      "| Value    |      9.07875 | [3.8776085508389353, 55.075658542394564, 68.05751614609541] |         2280.38 |                0.20092 |             2.21946 |                        0 |                      2.21946 |\n",
      "+----------+--------------+-------------------------------------------------------------+-----------------+------------------------+---------------------+--------------------------+------------------------------+\n",
      "Iteration: 20 Best loss = 0.49\n",
      "\n",
      "+----------+--------------+-----------------------------------------------------------+-----------------+------------------------+---------------------+--------------------------+------------------------------+\n",
      "| Metric   |   Total Loss | Natural Frequencies                                       |   Mass of Truss |   Normalized Mass Loss |   Frequency Penalty |   Imaginary Part Penalty |   Constraint Violation Level |\n",
      "+==========+==============+===========================================================+=================+========================+=====================+==========================+==============================+\n",
      "| Value    |     0.319265 | [24.44503182292064, 45.29848599417907, 77.77427926889567] |         1282.52 |                  0.113 |           0.0515663 |                        0 |                    0.0515663 |\n",
      "+----------+--------------+-----------------------------------------------------------+-----------------+------------------------+---------------------+--------------------------+------------------------------+\n",
      "Iteration: 21 Best loss = 0.32\n",
      "\n"
     ]
    },
    {
     "name": "stderr",
     "output_type": "stream",
     "text": [
      "c:\\Program Files\\Python310\\@Environments\\TUD-JF\\lib\\site-packages\\sklearn\\gaussian_process\\kernels.py:430: ConvergenceWarning: The optimal value found for dimension 6 of parameter k2__length_scale is close to the specified upper bound 10000000000.0. Increasing the bound and calling fit again may find a better value.\n",
      "  \"better value.\" % (dim, hyp.name, hyp.bounds[dim][0]),\n",
      "c:\\Program Files\\Python310\\@Environments\\TUD-JF\\lib\\site-packages\\sklearn\\gaussian_process\\kernels.py:430: ConvergenceWarning: The optimal value found for dimension 16 of parameter k2__length_scale is close to the specified upper bound 10000000000.0. Increasing the bound and calling fit again may find a better value.\n",
      "  \"better value.\" % (dim, hyp.name, hyp.bounds[dim][0]),\n"
     ]
    },
    {
     "name": "stdout",
     "output_type": "stream",
     "text": [
      "+----------+--------------+-------------------------------------------------------------+-----------------+------------------------+---------------------+--------------------------+------------------------------+\n",
      "| Metric   |   Total Loss | Natural Frequencies                                         |   Mass of Truss |   Normalized Mass Loss |   Frequency Penalty |   Imaginary Part Penalty |   Constraint Violation Level |\n",
      "+==========+==============+=============================================================+=================+========================+=====================+==========================+==============================+\n",
      "| Value    |      5.03186 | [11.161734605107469, 27.182462995316897, 44.26071610422961] |         1605.42 |                0.14145 |              1.2226 |                        0 |                       1.2226 |\n",
      "+----------+--------------+-------------------------------------------------------------+-----------------+------------------------+---------------------+--------------------------+------------------------------+\n",
      "Iteration: 22 Best loss = 0.32\n",
      "\n"
     ]
    },
    {
     "name": "stderr",
     "output_type": "stream",
     "text": [
      "c:\\Program Files\\Python310\\@Environments\\TUD-JF\\lib\\site-packages\\sklearn\\gaussian_process\\kernels.py:430: ConvergenceWarning: The optimal value found for dimension 7 of parameter k2__length_scale is close to the specified upper bound 10000000000.0. Increasing the bound and calling fit again may find a better value.\n",
      "  \"better value.\" % (dim, hyp.name, hyp.bounds[dim][0]),\n",
      "c:\\Program Files\\Python310\\@Environments\\TUD-JF\\lib\\site-packages\\sklearn\\gaussian_process\\kernels.py:430: ConvergenceWarning: The optimal value found for dimension 9 of parameter k2__length_scale is close to the specified upper bound 10000000000.0. Increasing the bound and calling fit again may find a better value.\n",
      "  \"better value.\" % (dim, hyp.name, hyp.bounds[dim][0]),\n",
      "c:\\Program Files\\Python310\\@Environments\\TUD-JF\\lib\\site-packages\\sklearn\\gaussian_process\\kernels.py:430: ConvergenceWarning: The optimal value found for dimension 10 of parameter k2__length_scale is close to the specified upper bound 10000000000.0. Increasing the bound and calling fit again may find a better value.\n",
      "  \"better value.\" % (dim, hyp.name, hyp.bounds[dim][0]),\n",
      "c:\\Program Files\\Python310\\@Environments\\TUD-JF\\lib\\site-packages\\sklearn\\gaussian_process\\kernels.py:430: ConvergenceWarning: The optimal value found for dimension 16 of parameter k2__length_scale is close to the specified upper bound 10000000000.0. Increasing the bound and calling fit again may find a better value.\n",
      "  \"better value.\" % (dim, hyp.name, hyp.bounds[dim][0]),\n"
     ]
    },
    {
     "name": "stdout",
     "output_type": "stream",
     "text": [
      "+----------+--------------+------------------------------------------------------------+-----------------+------------------------+---------------------+--------------------------+------------------------------+\n",
      "| Metric   |   Total Loss | Natural Frequencies                                        |   Mass of Truss |   Normalized Mass Loss |   Frequency Penalty |   Imaginary Part Penalty |   Constraint Violation Level |\n",
      "+==========+==============+============================================================+=================+========================+=====================+==========================+==============================+\n",
      "| Value    |      17.1336 | [3.929346466898654, 9.784495501559313, 59.508713472680945] |         10392.7 |               0.915676 |             4.05447 |                        0 |                      4.05447 |\n",
      "+----------+--------------+------------------------------------------------------------+-----------------+------------------------+---------------------+--------------------------+------------------------------+\n",
      "Iteration: 23 Best loss = 0.32\n",
      "\n"
     ]
    },
    {
     "name": "stderr",
     "output_type": "stream",
     "text": [
      "c:\\Program Files\\Python310\\@Environments\\TUD-JF\\lib\\site-packages\\sklearn\\gaussian_process\\kernels.py:430: ConvergenceWarning: The optimal value found for dimension 11 of parameter k2__length_scale is close to the specified upper bound 10000000000.0. Increasing the bound and calling fit again may find a better value.\n",
      "  \"better value.\" % (dim, hyp.name, hyp.bounds[dim][0]),\n"
     ]
    },
    {
     "name": "stdout",
     "output_type": "stream",
     "text": [
      "+----------+--------------+-----------------------------------------------------------+-----------------+------------------------+---------------------+--------------------------+------------------------------+\n",
      "| Metric   |   Total Loss | Natural Frequencies                                       |   Mass of Truss |   Normalized Mass Loss |   Frequency Penalty |   Imaginary Part Penalty |   Constraint Violation Level |\n",
      "+==========+==============+===========================================================+=================+========================+=====================+==========================+==============================+\n",
      "| Value    |      4.49016 | [8.598462917208284, 42.99152547842351, 56.06982960137002] |         1047.86 |              0.0923247 |             1.09946 |                        0 |                      1.09946 |\n",
      "+----------+--------------+-----------------------------------------------------------+-----------------+------------------------+---------------------+--------------------------+------------------------------+\n",
      "Iteration: 24 Best loss = 0.32\n",
      "\n",
      "+----------+--------------+-------------------------------------------------------------+-----------------+------------------------+---------------------+--------------------------+------------------------------+\n",
      "| Metric   |   Total Loss | Natural Frequencies                                         |   Mass of Truss |   Normalized Mass Loss |   Frequency Penalty |   Imaginary Part Penalty |   Constraint Violation Level |\n",
      "+==========+==============+=============================================================+=================+========================+=====================+==========================+==============================+\n",
      "| Value    |     0.466841 | [22.658027862582028, 53.791597383273576, 72.35582613900263] |         2590.47 |               0.228241 |           0.0596501 |                        0 |                    0.0596501 |\n",
      "+----------+--------------+-------------------------------------------------------------+-----------------+------------------------+---------------------+--------------------------+------------------------------+\n",
      "Iteration: 25 Best loss = 0.32\n",
      "\n",
      "+----------+--------------+-------------------------------------------------------------+-----------------+------------------------+---------------------+--------------------------+------------------------------+\n",
      "| Metric   |   Total Loss | Natural Frequencies                                         |   Mass of Truss |   Normalized Mass Loss |   Frequency Penalty |   Imaginary Part Penalty |   Constraint Violation Level |\n",
      "+==========+==============+=============================================================+=================+========================+=====================+==========================+==============================+\n",
      "| Value    |      3.19232 | [14.76439349593781, 24.984348419816563, 57.552331709922655] |         4284.48 |               0.377496 |            0.703706 |                        0 |                     0.703706 |\n",
      "+----------+--------------+-------------------------------------------------------------+-----------------+------------------------+---------------------+--------------------------+------------------------------+\n",
      "Iteration: 26 Best loss = 0.32\n",
      "\n",
      "+----------+--------------+-----------------------------------------------------------+-----------------+------------------------+---------------------+--------------------------+------------------------------+\n",
      "| Metric   |   Total Loss | Natural Frequencies                                       |   Mass of Truss |   Normalized Mass Loss |   Frequency Penalty |   Imaginary Part Penalty |   Constraint Violation Level |\n",
      "+==========+==============+===========================================================+=================+========================+=====================+==========================+==============================+\n",
      "| Value    |      2.16228 | [13.30559016474703, 35.58630256172522, 50.78257004181684] |         2172.66 |               0.191428 |            0.492712 |                        0 |                     0.492712 |\n",
      "+----------+--------------+-----------------------------------------------------------+-----------------+------------------------+---------------------+--------------------------+------------------------------+\n",
      "Iteration: 27 Best loss = 0.32\n",
      "\n"
     ]
    },
    {
     "name": "stderr",
     "output_type": "stream",
     "text": [
      "c:\\Program Files\\Python310\\@Environments\\TUD-JF\\lib\\site-packages\\sklearn\\gaussian_process\\kernels.py:430: ConvergenceWarning: The optimal value found for dimension 9 of parameter k2__length_scale is close to the specified upper bound 10000000000.0. Increasing the bound and calling fit again may find a better value.\n",
      "  \"better value.\" % (dim, hyp.name, hyp.bounds[dim][0]),\n"
     ]
    },
    {
     "name": "stdout",
     "output_type": "stream",
     "text": [
      "+----------+--------------+------------------------------------------------------------+-----------------+------------------------+---------------------+--------------------------+------------------------------+\n",
      "| Metric   |   Total Loss | Natural Frequencies                                        |   Mass of Truss |   Normalized Mass Loss |   Frequency Penalty |   Imaginary Part Penalty |   Constraint Violation Level |\n",
      "+==========+==============+============================================================+=================+========================+=====================+==========================+==============================+\n",
      "| Value    |     0.574311 | [22.432522292782842, 57.37741257907098, 77.53636603486015] |          2145.6 |               0.189044 |           0.0963168 |                        0 |                    0.0963168 |\n",
      "+----------+--------------+------------------------------------------------------------+-----------------+------------------------+---------------------+--------------------------+------------------------------+\n",
      "Iteration: 28 Best loss = 0.32\n",
      "\n",
      "+----------+--------------+------------------------------------------------------------+-----------------+------------------------+---------------------+--------------------------+------------------------------+\n",
      "| Metric   |   Total Loss | Natural Frequencies                                        |   Mass of Truss |   Normalized Mass Loss |   Frequency Penalty |   Imaginary Part Penalty |   Constraint Violation Level |\n",
      "+==========+==============+============================================================+=================+========================+=====================+==========================+==============================+\n",
      "| Value    |      13.4624 | [7.550388893469288, 19.81434713801652, 27.547950239693048] |         13686.4 |                      1 |             3.11561 |                        0 |                      3.11561 |\n",
      "+----------+--------------+------------------------------------------------------------+-----------------+------------------------+---------------------+--------------------------+------------------------------+\n",
      "Iteration: 29 Best loss = 0.32\n",
      "\n",
      "+----------+--------------+-------------------------------------------------------------+-----------------+------------------------+---------------------+--------------------------+------------------------------+\n",
      "| Metric   |   Total Loss | Natural Frequencies                                         |   Mass of Truss |   Normalized Mass Loss |   Frequency Penalty |   Imaginary Part Penalty |   Constraint Violation Level |\n",
      "+==========+==============+=============================================================+=================+========================+=====================+==========================+==============================+\n",
      "| Value    |        8.441 | [5.184925267357223, 29.086214660010995, 61.662190199515265] |         1795.25 |               0.131171 |             2.07746 |                        0 |                      2.07746 |\n",
      "+----------+--------------+-------------------------------------------------------------+-----------------+------------------------+---------------------+--------------------------+------------------------------+\n",
      "Iteration: 30 Best loss = 0.32\n",
      "\n"
     ]
    },
    {
     "name": "stderr",
     "output_type": "stream",
     "text": [
      "c:\\Program Files\\Python310\\@Environments\\TUD-JF\\lib\\site-packages\\sklearn\\gaussian_process\\kernels.py:430: ConvergenceWarning: The optimal value found for dimension 5 of parameter k2__length_scale is close to the specified upper bound 10000000000.0. Increasing the bound and calling fit again may find a better value.\n",
      "  \"better value.\" % (dim, hyp.name, hyp.bounds[dim][0]),\n"
     ]
    },
    {
     "name": "stdout",
     "output_type": "stream",
     "text": [
      "+----------+--------------+----------------------------------------------------------+-----------------+------------------------+---------------------+--------------------------+------------------------------+\n",
      "| Metric   |   Total Loss | Natural Frequencies                                      |   Mass of Truss |   Normalized Mass Loss |   Frequency Penalty |   Imaginary Part Penalty |   Constraint Violation Level |\n",
      "+==========+==============+==========================================================+=================+========================+=====================+==========================+==============================+\n",
      "| Value    |     0.433361 | [20.90898613393924, 56.7163641174171, 74.98358784108673] |         1568.35 |               0.114592 |           0.0796923 |                        0 |                    0.0796923 |\n",
      "+----------+--------------+----------------------------------------------------------+-----------------+------------------------+---------------------+--------------------------+------------------------------+\n",
      "Iteration: 31 Best loss = 0.32\n",
      "\n",
      "+----------+--------------+------------------------------------------------------------+-----------------+------------------------+---------------------+--------------------------+------------------------------+\n",
      "| Metric   |   Total Loss | Natural Frequencies                                        |   Mass of Truss |   Normalized Mass Loss |   Frequency Penalty |   Imaginary Part Penalty |   Constraint Violation Level |\n",
      "+==========+==============+============================================================+=================+========================+=====================+==========================+==============================+\n",
      "| Value    |      6.37088 | [8.903322543081243, 27.754077827534065, 66.70426785876626] |         17293.5 |                      1 |             1.34272 |                        0 |                      1.34272 |\n",
      "+----------+--------------+------------------------------------------------------------+-----------------+------------------------+---------------------+--------------------------+------------------------------+\n",
      "Iteration: 32 Best loss = 0.32\n",
      "\n"
     ]
    },
    {
     "name": "stderr",
     "output_type": "stream",
     "text": [
      "c:\\Program Files\\Python310\\@Environments\\TUD-JF\\lib\\site-packages\\sklearn\\gaussian_process\\kernels.py:430: ConvergenceWarning: The optimal value found for dimension 19 of parameter k2__length_scale is close to the specified upper bound 10000000000.0. Increasing the bound and calling fit again may find a better value.\n",
      "  \"better value.\" % (dim, hyp.name, hyp.bounds[dim][0]),\n"
     ]
    },
    {
     "name": "stdout",
     "output_type": "stream",
     "text": [
      "+----------+--------------+-------------------------------------------------------------+-----------------+------------------------+---------------------+--------------------------+------------------------------+\n",
      "| Metric   |   Total Loss | Natural Frequencies                                         |   Mass of Truss |   Normalized Mass Loss |   Frequency Penalty |   Imaginary Part Penalty |   Constraint Violation Level |\n",
      "+==========+==============+=============================================================+=================+========================+=====================+==========================+==============================+\n",
      "| Value    |     0.677519 | [15.693232809992326, 40.08351178870988, 58.835710924925955] |         937.612 |              0.0542176 |            0.155825 |                        0 |                     0.155825 |\n",
      "+----------+--------------+-------------------------------------------------------------+-----------------+------------------------+---------------------+--------------------------+------------------------------+\n",
      "Iteration: 33 Best loss = 0.32\n",
      "\n"
     ]
    },
    {
     "name": "stderr",
     "output_type": "stream",
     "text": [
      "c:\\Program Files\\Python310\\@Environments\\TUD-JF\\lib\\site-packages\\sklearn\\gaussian_process\\kernels.py:430: ConvergenceWarning: The optimal value found for dimension 0 of parameter k2__length_scale is close to the specified upper bound 10000000000.0. Increasing the bound and calling fit again may find a better value.\n",
      "  \"better value.\" % (dim, hyp.name, hyp.bounds[dim][0]),\n",
      "c:\\Program Files\\Python310\\@Environments\\TUD-JF\\lib\\site-packages\\sklearn\\gaussian_process\\kernels.py:430: ConvergenceWarning: The optimal value found for dimension 14 of parameter k2__length_scale is close to the specified upper bound 10000000000.0. Increasing the bound and calling fit again may find a better value.\n",
      "  \"better value.\" % (dim, hyp.name, hyp.bounds[dim][0]),\n"
     ]
    },
    {
     "name": "stdout",
     "output_type": "stream",
     "text": [
      "+----------+--------------+-------------------------------------------------------------+-----------------+------------------------+---------------------+--------------------------+------------------------------+\n",
      "| Metric   |   Total Loss | Natural Frequencies                                         |   Mass of Truss |   Normalized Mass Loss |   Frequency Penalty |   Imaginary Part Penalty |   Constraint Violation Level |\n",
      "+==========+==============+=============================================================+=================+========================+=====================+==========================+==============================+\n",
      "| Value    |      19.5633 | [3.7527774851238855, 15.299035686257737, 21.70641547580905] |         4300.21 |                0.24866 |             4.82867 |                        0 |                      4.82867 |\n",
      "+----------+--------------+-------------------------------------------------------------+-----------------+------------------------+---------------------+--------------------------+------------------------------+\n",
      "Iteration: 34 Best loss = 0.32\n",
      "\n"
     ]
    },
    {
     "name": "stderr",
     "output_type": "stream",
     "text": [
      "c:\\Program Files\\Python310\\@Environments\\TUD-JF\\lib\\site-packages\\sklearn\\gaussian_process\\kernels.py:430: ConvergenceWarning: The optimal value found for dimension 0 of parameter k2__length_scale is close to the specified upper bound 10000000000.0. Increasing the bound and calling fit again may find a better value.\n",
      "  \"better value.\" % (dim, hyp.name, hyp.bounds[dim][0]),\n"
     ]
    },
    {
     "name": "stdout",
     "output_type": "stream",
     "text": [
      "+----------+--------------+-------------------------------------------------------------+-----------------+------------------------+---------------------+--------------------------+------------------------------+\n",
      "| Metric   |   Total Loss | Natural Frequencies                                         |   Mass of Truss |   Normalized Mass Loss |   Frequency Penalty |   Imaginary Part Penalty |   Constraint Violation Level |\n",
      "+==========+==============+=============================================================+=================+========================+=====================+==========================+==============================+\n",
      "| Value    |      16.5769 | [3.4039160312735404, 17.529557815029207, 33.52690148739543] |         10247.2 |               0.592544 |             3.99608 |                        0 |                      3.99608 |\n",
      "+----------+--------------+-------------------------------------------------------------+-----------------+------------------------+---------------------+--------------------------+------------------------------+\n",
      "Iteration: 35 Best loss = 0.32\n",
      "\n",
      "+----------+--------------+------------------------------------------------------------+-----------------+------------------------+---------------------+--------------------------+------------------------------+\n",
      "| Metric   |   Total Loss | Natural Frequencies                                        |   Mass of Truss |   Normalized Mass Loss |   Frequency Penalty |   Imaginary Part Penalty |   Constraint Violation Level |\n",
      "+==========+==============+============================================================+=================+========================+=====================+==========================+==============================+\n",
      "| Value    |     0.142288 | [20.01369793255953, 45.940167340952385, 62.10469227122401] |         1923.77 |               0.111242 |          0.00776148 |                        0 |                   0.00776148 |\n",
      "+----------+--------------+------------------------------------------------------------+-----------------+------------------------+---------------------+--------------------------+------------------------------+\n",
      "Iteration: 36 Best loss = 0.14\n",
      "\n"
     ]
    },
    {
     "name": "stderr",
     "output_type": "stream",
     "text": [
      "c:\\Program Files\\Python310\\@Environments\\TUD-JF\\lib\\site-packages\\sklearn\\gaussian_process\\kernels.py:430: ConvergenceWarning: The optimal value found for dimension 0 of parameter k2__length_scale is close to the specified upper bound 10000000000.0. Increasing the bound and calling fit again may find a better value.\n",
      "  \"better value.\" % (dim, hyp.name, hyp.bounds[dim][0]),\n",
      "c:\\Program Files\\Python310\\@Environments\\TUD-JF\\lib\\site-packages\\sklearn\\gaussian_process\\kernels.py:430: ConvergenceWarning: The optimal value found for dimension 7 of parameter k2__length_scale is close to the specified upper bound 10000000000.0. Increasing the bound and calling fit again may find a better value.\n",
      "  \"better value.\" % (dim, hyp.name, hyp.bounds[dim][0]),\n",
      "c:\\Program Files\\Python310\\@Environments\\TUD-JF\\lib\\site-packages\\sklearn\\gaussian_process\\kernels.py:430: ConvergenceWarning: The optimal value found for dimension 14 of parameter k2__length_scale is close to the specified upper bound 10000000000.0. Increasing the bound and calling fit again may find a better value.\n",
      "  \"better value.\" % (dim, hyp.name, hyp.bounds[dim][0]),\n"
     ]
    },
    {
     "name": "stdout",
     "output_type": "stream",
     "text": [
      "+----------+--------------+------------------------------------------------------------+-----------------+------------------------+---------------------+--------------------------+------------------------------+\n",
      "| Metric   |   Total Loss | Natural Frequencies                                        |   Mass of Truss |   Normalized Mass Loss |   Frequency Penalty |   Imaginary Part Penalty |   Constraint Violation Level |\n",
      "+==========+==============+============================================================+=================+========================+=====================+==========================+==============================+\n",
      "| Value    |      8.95354 | [7.417768323462324, 28.63401506134253, 35.340668189946854] |         6013.85 |               0.347752 |             2.15145 |                        0 |                      2.15145 |\n",
      "+----------+--------------+------------------------------------------------------------+-----------------+------------------------+---------------------+--------------------------+------------------------------+\n",
      "Iteration: 37 Best loss = 0.14\n",
      "\n"
     ]
    },
    {
     "name": "stderr",
     "output_type": "stream",
     "text": [
      "c:\\Program Files\\Python310\\@Environments\\TUD-JF\\lib\\site-packages\\sklearn\\gaussian_process\\kernels.py:430: ConvergenceWarning: The optimal value found for dimension 6 of parameter k2__length_scale is close to the specified upper bound 10000000000.0. Increasing the bound and calling fit again may find a better value.\n",
      "  \"better value.\" % (dim, hyp.name, hyp.bounds[dim][0]),\n",
      "c:\\Program Files\\Python310\\@Environments\\TUD-JF\\lib\\site-packages\\sklearn\\gaussian_process\\kernels.py:430: ConvergenceWarning: The optimal value found for dimension 15 of parameter k2__length_scale is close to the specified upper bound 10000000000.0. Increasing the bound and calling fit again may find a better value.\n",
      "  \"better value.\" % (dim, hyp.name, hyp.bounds[dim][0]),\n"
     ]
    },
    {
     "name": "stdout",
     "output_type": "stream",
     "text": [
      "+----------+--------------+-----------------------------------------------------------+-----------------+------------------------+---------------------+--------------------------+------------------------------+\n",
      "| Metric   |   Total Loss | Natural Frequencies                                       |   Mass of Truss |   Normalized Mass Loss |   Frequency Penalty |   Imaginary Part Penalty |   Constraint Violation Level |\n",
      "+==========+==============+===========================================================+=================+========================+=====================+==========================+==============================+\n",
      "| Value    |     0.720376 | [17.503106304937035, 59.9890053173414, 74.84327802766427] |         1694.63 |              0.0979922 |            0.155596 |                        0 |                     0.155596 |\n",
      "+----------+--------------+-----------------------------------------------------------+-----------------+------------------------+---------------------+--------------------------+------------------------------+\n",
      "Iteration: 38 Best loss = 0.14\n",
      "\n",
      "+----------+--------------+------------------------------------------------------------+-----------------+------------------------+---------------------+--------------------------+------------------------------+\n",
      "| Metric   |   Total Loss | Natural Frequencies                                        |   Mass of Truss |   Normalized Mass Loss |   Frequency Penalty |   Imaginary Part Penalty |   Constraint Violation Level |\n",
      "+==========+==============+============================================================+=================+========================+=====================+==========================+==============================+\n",
      "| Value    |     0.995517 | [15.369187264230852, 37.87917190255108, 53.28384237113791] |         1317.04 |              0.0761582 |             0.22984 |                        0 |                      0.22984 |\n",
      "+----------+--------------+------------------------------------------------------------+-----------------+------------------------+---------------------+--------------------------+------------------------------+\n",
      "Iteration: 39 Best loss = 0.14\n",
      "\n"
     ]
    },
    {
     "name": "stderr",
     "output_type": "stream",
     "text": [
      "c:\\Program Files\\Python310\\@Environments\\TUD-JF\\lib\\site-packages\\sklearn\\gaussian_process\\kernels.py:430: ConvergenceWarning: The optimal value found for dimension 16 of parameter k2__length_scale is close to the specified upper bound 10000000000.0. Increasing the bound and calling fit again may find a better value.\n",
      "  \"better value.\" % (dim, hyp.name, hyp.bounds[dim][0]),\n"
     ]
    },
    {
     "name": "stdout",
     "output_type": "stream",
     "text": [
      "+----------+--------------+------------------------------------------------------------+-----------------+------------------------+---------------------+--------------------------+------------------------------+\n",
      "| Metric   |   Total Loss | Natural Frequencies                                        |   Mass of Truss |   Normalized Mass Loss |   Frequency Penalty |   Imaginary Part Penalty |   Constraint Violation Level |\n",
      "+==========+==============+============================================================+=================+========================+=====================+==========================+==============================+\n",
      "| Value    |      10.6389 | [7.349020340515394, 19.958832879100175, 38.03139166862151] |         2930.06 |               0.169431 |             2.61736 |                        0 |                      2.61736 |\n",
      "+----------+--------------+------------------------------------------------------------+-----------------+------------------------+---------------------+--------------------------+------------------------------+\n",
      "Iteration: 40 Best loss = 0.14\n",
      "\n",
      "+----------+--------------+------------------------------------------------------------+-----------------+------------------------+---------------------+--------------------------+------------------------------+\n",
      "| Metric   |   Total Loss | Natural Frequencies                                        |   Mass of Truss |   Normalized Mass Loss |   Frequency Penalty |   Imaginary Part Penalty |   Constraint Violation Level |\n",
      "+==========+==============+============================================================+=================+========================+=====================+==========================+==============================+\n",
      "| Value    |     0.813906 | [19.990747125201217, 67.52552781503155, 76.61289675613926] |         1388.78 |              0.0803063 |              0.1834 |                        0 |                       0.1834 |\n",
      "+----------+--------------+------------------------------------------------------------+-----------------+------------------------+---------------------+--------------------------+------------------------------+\n",
      "Iteration: 41 Best loss = 0.14\n",
      "\n"
     ]
    },
    {
     "name": "stderr",
     "output_type": "stream",
     "text": [
      "c:\\Program Files\\Python310\\@Environments\\TUD-JF\\lib\\site-packages\\sklearn\\gaussian_process\\kernels.py:430: ConvergenceWarning: The optimal value found for dimension 6 of parameter k2__length_scale is close to the specified upper bound 10000000000.0. Increasing the bound and calling fit again may find a better value.\n",
      "  \"better value.\" % (dim, hyp.name, hyp.bounds[dim][0]),\n",
      "c:\\Program Files\\Python310\\@Environments\\TUD-JF\\lib\\site-packages\\sklearn\\gaussian_process\\kernels.py:430: ConvergenceWarning: The optimal value found for dimension 7 of parameter k2__length_scale is close to the specified upper bound 10000000000.0. Increasing the bound and calling fit again may find a better value.\n",
      "  \"better value.\" % (dim, hyp.name, hyp.bounds[dim][0]),\n"
     ]
    },
    {
     "name": "stdout",
     "output_type": "stream",
     "text": [
      "+----------+--------------+-------------------------------------------------------------+-----------------+------------------------+---------------------+--------------------------+------------------------------+\n",
      "| Metric   |   Total Loss | Natural Frequencies                                         |   Mass of Truss |   Normalized Mass Loss |   Frequency Penalty |   Imaginary Part Penalty |   Constraint Violation Level |\n",
      "+==========+==============+=============================================================+=================+========================+=====================+==========================+==============================+\n",
      "| Value    |      1.74196 | [13.580192036579716, 37.13786268274324, 51.690493834979364] |         763.727 |              0.0441626 |            0.424449 |                        0 |                     0.424449 |\n",
      "+----------+--------------+-------------------------------------------------------------+-----------------+------------------------+---------------------+--------------------------+------------------------------+\n",
      "Iteration: 42 Best loss = 0.14\n",
      "\n",
      "+----------+--------------+-----------------------------------------------------------+-----------------+------------------------+---------------------+--------------------------+------------------------------+\n",
      "| Metric   |   Total Loss | Natural Frequencies                                       |   Mass of Truss |   Normalized Mass Loss |   Frequency Penalty |   Imaginary Part Penalty |   Constraint Violation Level |\n",
      "+==========+==============+===========================================================+=================+========================+=====================+==========================+==============================+\n",
      "| Value    |       14.974 | [5.089089930329284, 19.18152547156488, 28.72299041055281] |         5671.14 |               0.327935 |             3.66152 |                        0 |                      3.66152 |\n",
      "+----------+--------------+-----------------------------------------------------------+-----------------+------------------------+---------------------+--------------------------+------------------------------+\n",
      "Iteration: 43 Best loss = 0.14\n",
      "\n",
      "+----------+--------------+--------------------------------------------------------------+-----------------+------------------------+---------------------+--------------------------+------------------------------+\n",
      "| Metric   |   Total Loss | Natural Frequencies                                          |   Mass of Truss |   Normalized Mass Loss |   Frequency Penalty |   Imaginary Part Penalty |   Constraint Violation Level |\n",
      "+==========+==============+==============================================================+=================+========================+=====================+==========================+==============================+\n",
      "| Value    |      3.50497 | [10.196714537404814, 37.754401241175465, 54.963290215449554] |         2862.22 |               0.165509 |            0.834865 |                        0 |                     0.834865 |\n",
      "+----------+--------------+--------------------------------------------------------------+-----------------+------------------------+---------------------+--------------------------+------------------------------+\n",
      "Iteration: 44 Best loss = 0.14\n",
      "\n",
      "+----------+--------------+-----------------------------------------------------------+-----------------+------------------------+---------------------+--------------------------+------------------------------+\n",
      "| Metric   |   Total Loss | Natural Frequencies                                       |   Mass of Truss |   Normalized Mass Loss |   Frequency Penalty |   Imaginary Part Penalty |   Constraint Violation Level |\n",
      "+==========+==============+===========================================================+=================+========================+=====================+==========================+==============================+\n",
      "| Value    |     0.343411 | [18.3105530023012, 54.824718651116115, 61.35196328873388] |         1114.55 |              0.0644491 |           0.0697404 |                        0 |                    0.0697404 |\n",
      "+----------+--------------+-----------------------------------------------------------+-----------------+------------------------+---------------------+--------------------------+------------------------------+\n",
      "Iteration: 45 Best loss = 0.14\n",
      "\n",
      "+----------+--------------+----------------------------------------------------------+-----------------+------------------------+---------------------+--------------------------+------------------------------+\n",
      "| Metric   |   Total Loss | Natural Frequencies                                      |   Mass of Truss |   Normalized Mass Loss |   Frequency Penalty |   Imaginary Part Penalty |   Constraint Violation Level |\n",
      "+==========+==============+==========================================================+=================+========================+=====================+==========================+==============================+\n",
      "| Value    |      5.54362 | [7.322880551331181, 50.50000456388172, 64.8500130410601] |         1488.13 |              0.0860513 |             1.36439 |                        0 |                      1.36439 |\n",
      "+----------+--------------+----------------------------------------------------------+-----------------+------------------------+---------------------+--------------------------+------------------------------+\n",
      "Iteration: 46 Best loss = 0.14\n",
      "\n",
      "+----------+--------------+-------------------------------------------------------------+-----------------+------------------------+---------------------+--------------------------+------------------------------+\n",
      "| Metric   |   Total Loss | Natural Frequencies                                         |   Mass of Truss |   Normalized Mass Loss |   Frequency Penalty |   Imaginary Part Penalty |   Constraint Violation Level |\n",
      "+==========+==============+=============================================================+=================+========================+=====================+==========================+==============================+\n",
      "| Value    |      1.06738 | [16.345724731288616, 36.13518041684326, 49.448387781286996] |          1477.3 |              0.0854249 |            0.245489 |                        0 |                     0.245489 |\n",
      "+----------+--------------+-------------------------------------------------------------+-----------------+------------------------+---------------------+--------------------------+------------------------------+\n",
      "Iteration: 47 Best loss = 0.14\n",
      "\n",
      "+----------+--------------+------------------------------------------------------------+-----------------+------------------------+---------------------+--------------------------+------------------------------+\n",
      "| Metric   |   Total Loss | Natural Frequencies                                        |   Mass of Truss |   Normalized Mass Loss |   Frequency Penalty |   Imaginary Part Penalty |   Constraint Violation Level |\n",
      "+==========+==============+============================================================+=================+========================+=====================+==========================+==============================+\n",
      "| Value    |      0.24965 | [21.254365706443856, 50.56855556458225, 73.90816436360416] |            1378 |              0.0796831 |           0.0424917 |                        0 |                    0.0424917 |\n",
      "+----------+--------------+------------------------------------------------------------+-----------------+------------------------+---------------------+--------------------------+------------------------------+\n",
      "Iteration: 48 Best loss = 0.14\n",
      "\n"
     ]
    },
    {
     "name": "stderr",
     "output_type": "stream",
     "text": [
      "c:\\Program Files\\Python310\\@Environments\\TUD-JF\\lib\\site-packages\\sklearn\\gaussian_process\\kernels.py:430: ConvergenceWarning: The optimal value found for dimension 18 of parameter k2__length_scale is close to the specified upper bound 10000000000.0. Increasing the bound and calling fit again may find a better value.\n",
      "  \"better value.\" % (dim, hyp.name, hyp.bounds[dim][0]),\n"
     ]
    },
    {
     "name": "stdout",
     "output_type": "stream",
     "text": [
      "+----------+--------------+----------------------------------------------------------+-----------------+------------------------+---------------------+--------------------------+------------------------------+\n",
      "| Metric   |   Total Loss | Natural Frequencies                                      |   Mass of Truss |   Normalized Mass Loss |   Frequency Penalty |   Imaginary Part Penalty |   Constraint Violation Level |\n",
      "+==========+==============+==========================================================+=================+========================+=====================+==========================+==============================+\n",
      "| Value    |     0.271757 | [18.037648967711, 48.040236500238215, 58.71933201832229] |         1443.16 |              0.0834511 |           0.0470766 |                        0 |                    0.0470766 |\n",
      "+----------+--------------+----------------------------------------------------------+-----------------+------------------------+---------------------+--------------------------+------------------------------+\n",
      "Iteration: 49 Best loss = 0.14\n",
      "\n",
      "+----------+--------------+------------------------------------------------------------+-----------------+------------------------+---------------------+--------------------------+------------------------------+\n",
      "| Metric   |   Total Loss | Natural Frequencies                                        |   Mass of Truss |   Normalized Mass Loss |   Frequency Penalty |   Imaginary Part Penalty |   Constraint Violation Level |\n",
      "+==========+==============+============================================================+=================+========================+=====================+==========================+==============================+\n",
      "| Value    |      13.7026 | [4.363606463914039, 17.60285921919359, 44.070639709059506] |         7481.61 |               0.432625 |             3.31749 |                        0 |                      3.31749 |\n",
      "+----------+--------------+------------------------------------------------------------+-----------------+------------------------+---------------------+--------------------------+------------------------------+\n",
      "Iteration: 50 Best loss = 0.14\n",
      "\n",
      "+----------+--------------+-------------------------------------------------------------+-----------------+------------------------+---------------------+--------------------------+------------------------------+\n",
      "| Metric   |   Total Loss | Natural Frequencies                                         |   Mass of Truss |   Normalized Mass Loss |   Frequency Penalty |   Imaginary Part Penalty |   Constraint Violation Level |\n",
      "+==========+==============+=============================================================+=================+========================+=====================+==========================+==============================+\n",
      "| Value    |      3.39834 | [11.380963687451109, 30.196486838198364, 56.47505849571167] |         1299.68 |               0.075154 |            0.830797 |                        0 |                     0.830797 |\n",
      "+----------+--------------+-------------------------------------------------------------+-----------------+------------------------+---------------------+--------------------------+------------------------------+\n",
      "Iteration: 51 Best loss = 0.14\n",
      "\n"
     ]
    },
    {
     "name": "stderr",
     "output_type": "stream",
     "text": [
      "c:\\Program Files\\Python310\\@Environments\\TUD-JF\\lib\\site-packages\\sklearn\\gaussian_process\\kernels.py:430: ConvergenceWarning: The optimal value found for dimension 6 of parameter k2__length_scale is close to the specified upper bound 10000000000.0. Increasing the bound and calling fit again may find a better value.\n",
      "  \"better value.\" % (dim, hyp.name, hyp.bounds[dim][0]),\n"
     ]
    },
    {
     "name": "stdout",
     "output_type": "stream",
     "text": [
      "+----------+--------------+------------------------------------------------------------+-----------------+------------------------+---------------------+--------------------------+------------------------------+\n",
      "| Metric   |   Total Loss | Natural Frequencies                                        |   Mass of Truss |   Normalized Mass Loss |   Frequency Penalty |   Imaginary Part Penalty |   Constraint Violation Level |\n",
      "+==========+==============+============================================================+=================+========================+=====================+==========================+==============================+\n",
      "| Value    |      5.32472 | [10.843703307868847, 29.27753075520878, 39.91210237868098] |         1340.19 |              0.0774968 |              1.3118 |                        0 |                       1.3118 |\n",
      "+----------+--------------+------------------------------------------------------------+-----------------+------------------------+---------------------+--------------------------+------------------------------+\n",
      "Iteration: 52 Best loss = 0.14\n",
      "\n"
     ]
    },
    {
     "name": "stderr",
     "output_type": "stream",
     "text": [
      "c:\\Program Files\\Python310\\@Environments\\TUD-JF\\lib\\site-packages\\sklearn\\gaussian_process\\kernels.py:430: ConvergenceWarning: The optimal value found for dimension 9 of parameter k2__length_scale is close to the specified upper bound 10000000000.0. Increasing the bound and calling fit again may find a better value.\n",
      "  \"better value.\" % (dim, hyp.name, hyp.bounds[dim][0]),\n"
     ]
    },
    {
     "name": "stdout",
     "output_type": "stream",
     "text": [
      "+----------+--------------+--------------------------------------------------------------+-----------------+------------------------+---------------------+--------------------------+------------------------------+\n",
      "| Metric   |   Total Loss | Natural Frequencies                                          |   Mass of Truss |   Normalized Mass Loss |   Frequency Penalty |   Imaginary Part Penalty |   Constraint Violation Level |\n",
      "+==========+==============+==============================================================+=================+========================+=====================+==========================+==============================+\n",
      "| Value    |      22.4135 | [2.6884415708699145, 12.547076640240366, 20.689527161487096] |         7261.53 |               0.419899 |             5.49839 |                        0 |                      5.49839 |\n",
      "+----------+--------------+--------------------------------------------------------------+-----------------+------------------------+---------------------+--------------------------+------------------------------+\n",
      "Iteration: 53 Best loss = 0.14\n",
      "\n",
      "+----------+--------------+------------------------------------------------------------+-----------------+------------------------+---------------------+--------------------------+------------------------------+\n",
      "| Metric   |   Total Loss | Natural Frequencies                                        |   Mass of Truss |   Normalized Mass Loss |   Frequency Penalty |   Imaginary Part Penalty |   Constraint Violation Level |\n",
      "+==========+==============+============================================================+=================+========================+=====================+==========================+==============================+\n",
      "| Value    |      1.49112 | [13.75253404910288, 40.14565111639084, 59.493184068843156] |         3270.67 |               0.189127 |            0.325499 |                        0 |                     0.325499 |\n",
      "+----------+--------------+------------------------------------------------------------+-----------------+------------------------+---------------------+--------------------------+------------------------------+\n",
      "Iteration: 54 Best loss = 0.14\n",
      "\n",
      "+----------+--------------+------------------------------------------------------------+-----------------+------------------------+---------------------+--------------------------+------------------------------+\n",
      "| Metric   |   Total Loss | Natural Frequencies                                        |   Mass of Truss |   Normalized Mass Loss |   Frequency Penalty |   Imaginary Part Penalty |   Constraint Violation Level |\n",
      "+==========+==============+============================================================+=================+========================+=====================+==========================+==============================+\n",
      "| Value    |     0.564734 | [16.863220616917268, 49.02600830817695, 69.79119196988674] |         2306.21 |               0.133357 |            0.107844 |                        0 |                     0.107844 |\n",
      "+----------+--------------+------------------------------------------------------------+-----------------+------------------------+---------------------+--------------------------+------------------------------+\n",
      "Iteration: 55 Best loss = 0.14\n",
      "\n",
      "+----------+--------------+------------------------------------------------------------+-----------------+------------------------+---------------------+--------------------------+------------------------------+\n",
      "| Metric   |   Total Loss | Natural Frequencies                                        |   Mass of Truss |   Normalized Mass Loss |   Frequency Penalty |   Imaginary Part Penalty |   Constraint Violation Level |\n",
      "+==========+==============+============================================================+=================+========================+=====================+==========================+==============================+\n",
      "| Value    |      1.81969 | [13.901940046891484, 36.58315835354875, 49.22929218185059] |         919.856 |              0.0531908 |            0.441624 |                        0 |                     0.441624 |\n",
      "+----------+--------------+------------------------------------------------------------+-----------------+------------------------+---------------------+--------------------------+------------------------------+\n",
      "Iteration: 56 Best loss = 0.14\n",
      "\n",
      "+----------+--------------+------------------------------------------------------------+-----------------+------------------------+---------------------+--------------------------+------------------------------+\n",
      "| Metric   |   Total Loss | Natural Frequencies                                        |   Mass of Truss |   Normalized Mass Loss |   Frequency Penalty |   Imaginary Part Penalty |   Constraint Violation Level |\n",
      "+==========+==============+============================================================+=================+========================+=====================+==========================+==============================+\n",
      "| Value    |      2.99297 | [12.082740614805907, 33.62577252902615, 50.27014159094379] |         3706.32 |               0.214319 |            0.694663 |                        0 |                     0.694663 |\n",
      "+----------+--------------+------------------------------------------------------------+-----------------+------------------------+---------------------+--------------------------+------------------------------+\n",
      "Iteration: 57 Best loss = 0.14\n",
      "\n",
      "+----------+--------------+------------------------------------------------------------+-----------------+------------------------+---------------------+--------------------------+------------------------------+\n",
      "| Metric   |   Total Loss | Natural Frequencies                                        |   Mass of Truss |   Normalized Mass Loss |   Frequency Penalty |   Imaginary Part Penalty |   Constraint Violation Level |\n",
      "+==========+==============+============================================================+=================+========================+=====================+==========================+==============================+\n",
      "| Value    |     0.177794 | [18.121809316079332, 39.45142924524414, 61.24867354726145] |         987.838 |              0.0571219 |            0.030168 |                        0 |                     0.030168 |\n",
      "+----------+--------------+------------------------------------------------------------+-----------------+------------------------+---------------------+--------------------------+------------------------------+\n",
      "Iteration: 58 Best loss = 0.14\n",
      "\n",
      "+----------+--------------+-----------------------------------------------------------+-----------------+------------------------+---------------------+--------------------------+------------------------------+\n",
      "| Metric   |   Total Loss | Natural Frequencies                                       |   Mass of Truss |   Normalized Mass Loss |   Frequency Penalty |   Imaginary Part Penalty |   Constraint Violation Level |\n",
      "+==========+==============+===========================================================+=================+========================+=====================+==========================+==============================+\n",
      "| Value    |     0.356472 | [18.36587369178845, 35.33375367473842, 59.96418157296781] |         1487.35 |               0.086006 |           0.0676165 |                        0 |                    0.0676165 |\n",
      "+----------+--------------+-----------------------------------------------------------+-----------------+------------------------+---------------------+--------------------------+------------------------------+\n",
      "Iteration: 59 Best loss = 0.14\n",
      "\n",
      "+----------+--------------+------------------------------------------------------------+-----------------+------------------------+---------------------+--------------------------+------------------------------+\n",
      "| Metric   |   Total Loss | Natural Frequencies                                        |   Mass of Truss |   Normalized Mass Loss |   Frequency Penalty |   Imaginary Part Penalty |   Constraint Violation Level |\n",
      "+==========+==============+============================================================+=================+========================+=====================+==========================+==============================+\n",
      "| Value    |     0.165545 | [18.63928395113042, 38.08690573734472, 62.662971754572034] |         1222.66 |              0.0707006 |            0.023711 |                        0 |                     0.023711 |\n",
      "+----------+--------------+------------------------------------------------------------+-----------------+------------------------+---------------------+--------------------------+------------------------------+\n",
      "Iteration: 60 Best loss = 0.14\n",
      "\n",
      "+----------+--------------+-----------------------------------------------------------+-----------------+------------------------+---------------------+--------------------------+------------------------------+\n",
      "| Metric   |   Total Loss | Natural Frequencies                                       |   Mass of Truss |   Normalized Mass Loss |   Frequency Penalty |   Imaginary Part Penalty |   Constraint Violation Level |\n",
      "+==========+==============+===========================================================+=================+========================+=====================+==========================+==============================+\n",
      "| Value    |      1.75696 | [13.612301228483389, 35.76829846347386, 53.3254576925934] |         1429.29 |              0.0826491 |            0.418579 |                        0 |                     0.418579 |\n",
      "+----------+--------------+-----------------------------------------------------------+-----------------+------------------------+---------------------+--------------------------+------------------------------+\n",
      "Iteration: 61 Best loss = 0.14\n",
      "\n"
     ]
    },
    {
     "name": "stderr",
     "output_type": "stream",
     "text": [
      "c:\\Program Files\\Python310\\@Environments\\TUD-JF\\lib\\site-packages\\sklearn\\gaussian_process\\kernels.py:430: ConvergenceWarning: The optimal value found for dimension 15 of parameter k2__length_scale is close to the specified upper bound 10000000000.0. Increasing the bound and calling fit again may find a better value.\n",
      "  \"better value.\" % (dim, hyp.name, hyp.bounds[dim][0]),\n"
     ]
    },
    {
     "name": "stdout",
     "output_type": "stream",
     "text": [
      "+----------+--------------+-----------------------------------------------------------+-----------------+------------------------+---------------------+--------------------------+------------------------------+\n",
      "| Metric   |   Total Loss | Natural Frequencies                                       |   Mass of Truss |   Normalized Mass Loss |   Frequency Penalty |   Imaginary Part Penalty |   Constraint Violation Level |\n",
      "+==========+==============+===========================================================+=================+========================+=====================+==========================+==============================+\n",
      "| Value    |     0.491249 | [18.967162567278244, 58.8864034825624, 73.86273144639665] |         1509.16 |              0.0872674 |            0.100995 |                        0 |                     0.100995 |\n",
      "+----------+--------------+-----------------------------------------------------------+-----------------+------------------------+---------------------+--------------------------+------------------------------+\n",
      "Iteration: 62 Best loss = 0.14\n",
      "\n",
      "+----------+--------------+-------------------------------------------------------------+-----------------+------------------------+---------------------+--------------------------+------------------------------+\n",
      "| Metric   |   Total Loss | Natural Frequencies                                         |   Mass of Truss |   Normalized Mass Loss |   Frequency Penalty |   Imaginary Part Penalty |   Constraint Violation Level |\n",
      "+==========+==============+=============================================================+=================+========================+=====================+==========================+==============================+\n",
      "| Value    |     0.891848 | [16.586762152882198, 32.88222999356522, 60.130528051148175] |         1406.19 |              0.0813129 |            0.202634 |                        0 |                     0.202634 |\n",
      "+----------+--------------+-------------------------------------------------------------+-----------------+------------------------+---------------------+--------------------------+------------------------------+\n",
      "Iteration: 63 Best loss = 0.14\n",
      "\n",
      "+----------+--------------+--------------------------------------------------------------+-----------------+------------------------+---------------------+--------------------------+------------------------------+\n",
      "| Metric   |   Total Loss | Natural Frequencies                                          |   Mass of Truss |   Normalized Mass Loss |   Frequency Penalty |   Imaginary Part Penalty |   Constraint Violation Level |\n",
      "+==========+==============+==============================================================+=================+========================+=====================+==========================+==============================+\n",
      "| Value    |      2.41698 | [12.090989948475974, 50.604782726823196, 53.658690756637405] |         1543.37 |              0.0892456 |            0.581933 |                        0 |                     0.581933 |\n",
      "+----------+--------------+--------------------------------------------------------------+-----------------+------------------------+---------------------+--------------------------+------------------------------+\n",
      "Iteration: 64 Best loss = 0.14\n",
      "\n",
      "+----------+--------------+------------------------------------------------------------+-----------------+------------------------+---------------------+--------------------------+------------------------------+\n",
      "| Metric   |   Total Loss | Natural Frequencies                                        |   Mass of Truss |   Normalized Mass Loss |   Frequency Penalty |   Imaginary Part Penalty |   Constraint Violation Level |\n",
      "+==========+==============+============================================================+=================+========================+=====================+==========================+==============================+\n",
      "| Value    |       1.0936 | [16.820481653380025, 64.06571264560182, 82.17810040248874] |          1587.9 |              0.0918205 |            0.250446 |                        0 |                     0.250446 |\n",
      "+----------+--------------+------------------------------------------------------------+-----------------+------------------------+---------------------+--------------------------+------------------------------+\n",
      "Iteration: 65 Best loss = 0.14\n",
      "\n",
      "+----------+--------------+------------------------------------------------------------+-----------------+------------------------+---------------------+--------------------------+------------------------------+\n",
      "| Metric   |   Total Loss | Natural Frequencies                                        |   Mass of Truss |   Normalized Mass Loss |   Frequency Penalty |   Imaginary Part Penalty |   Constraint Violation Level |\n",
      "+==========+==============+============================================================+=================+========================+=====================+==========================+==============================+\n",
      "| Value    |     0.500384 | [16.781625457922367, 42.37580950705472, 60.24902606543013] |         2600.82 |               0.150393 |           0.0874978 |                        0 |                    0.0874978 |\n",
      "+----------+--------------+------------------------------------------------------------+-----------------+------------------------+---------------------+--------------------------+------------------------------+\n",
      "Iteration: 66 Best loss = 0.14\n",
      "\n"
     ]
    },
    {
     "name": "stderr",
     "output_type": "stream",
     "text": [
      "c:\\Program Files\\Python310\\@Environments\\TUD-JF\\lib\\site-packages\\sklearn\\gaussian_process\\kernels.py:430: ConvergenceWarning: The optimal value found for dimension 0 of parameter k2__length_scale is close to the specified upper bound 10000000000.0. Increasing the bound and calling fit again may find a better value.\n",
      "  \"better value.\" % (dim, hyp.name, hyp.bounds[dim][0]),\n"
     ]
    },
    {
     "name": "stdout",
     "output_type": "stream",
     "text": [
      "+----------+--------------+------------------------------------------------------------+-----------------+------------------------+---------------------+--------------------------+------------------------------+\n",
      "| Metric   |   Total Loss | Natural Frequencies                                        |   Mass of Truss |   Normalized Mass Loss |   Frequency Penalty |   Imaginary Part Penalty |   Constraint Violation Level |\n",
      "+==========+==============+============================================================+=================+========================+=====================+==========================+==============================+\n",
      "| Value    |     0.459559 | [21.512783684033177, 50.89099707247598, 83.75453881397897] |         2491.89 |               0.144094 |           0.0788663 |                        0 |                    0.0788663 |\n",
      "+----------+--------------+------------------------------------------------------------+-----------------+------------------------+---------------------+--------------------------+------------------------------+\n",
      "Iteration: 67 Best loss = 0.14\n",
      "\n",
      "+----------+--------------+---------------------------------------------------------+-----------------+------------------------+---------------------+--------------------------+------------------------------+\n",
      "| Metric   |   Total Loss | Natural Frequencies                                     |   Mass of Truss |   Normalized Mass Loss |   Frequency Penalty |   Imaginary Part Penalty |   Constraint Violation Level |\n",
      "+==========+==============+=========================================================+=================+========================+=====================+==========================+==============================+\n",
      "| Value    |      1.72871 | [14.065088920656468, 34.1656669190324, 52.655941826001] |         1231.06 |              0.0711862 |            0.414382 |                        0 |                     0.414382 |\n",
      "+----------+--------------+---------------------------------------------------------+-----------------+------------------------+---------------------+--------------------------+------------------------------+\n",
      "Iteration: 68 Best loss = 0.14\n",
      "\n",
      "+----------+--------------+------------------------------------------------------------+-----------------+------------------------+---------------------+--------------------------+------------------------------+\n",
      "| Metric   |   Total Loss | Natural Frequencies                                        |   Mass of Truss |   Normalized Mass Loss |   Frequency Penalty |   Imaginary Part Penalty |   Constraint Violation Level |\n",
      "+==========+==============+============================================================+=================+========================+=====================+==========================+==============================+\n",
      "| Value    |     0.553899 | [18.390135974990816, 37.0307716091313, 51.114521365743315] |         1757.49 |               0.101627 |            0.113068 |                        0 |                     0.113068 |\n",
      "+----------+--------------+------------------------------------------------------------+-----------------+------------------------+---------------------+--------------------------+------------------------------+\n",
      "Iteration: 69 Best loss = 0.14\n",
      "\n",
      "+----------+--------------+------------------------------------------------------------+-----------------+------------------------+---------------------+--------------------------+------------------------------+\n",
      "| Metric   |   Total Loss | Natural Frequencies                                        |   Mass of Truss |   Normalized Mass Loss |   Frequency Penalty |   Imaginary Part Penalty |   Constraint Violation Level |\n",
      "+==========+==============+============================================================+=================+========================+=====================+==========================+==============================+\n",
      "| Value    |      0.31424 | [17.431164276387566, 41.46242146496792, 58.52177088981776] |         1459.59 |               0.084401 |           0.0574598 |                        0 |                    0.0574598 |\n",
      "+----------+--------------+------------------------------------------------------------+-----------------+------------------------+---------------------+--------------------------+------------------------------+\n",
      "Iteration: 70 Best loss = 0.14\n",
      "\n"
     ]
    },
    {
     "name": "stderr",
     "output_type": "stream",
     "text": [
      "c:\\Program Files\\Python310\\@Environments\\TUD-JF\\lib\\site-packages\\sklearn\\gaussian_process\\kernels.py:430: ConvergenceWarning: The optimal value found for dimension 0 of parameter k2__length_scale is close to the specified upper bound 10000000000.0. Increasing the bound and calling fit again may find a better value.\n",
      "  \"better value.\" % (dim, hyp.name, hyp.bounds[dim][0]),\n",
      "c:\\Program Files\\Python310\\@Environments\\TUD-JF\\lib\\site-packages\\sklearn\\gaussian_process\\kernels.py:430: ConvergenceWarning: The optimal value found for dimension 1 of parameter k2__length_scale is close to the specified upper bound 10000000000.0. Increasing the bound and calling fit again may find a better value.\n",
      "  \"better value.\" % (dim, hyp.name, hyp.bounds[dim][0]),\n",
      "c:\\Program Files\\Python310\\@Environments\\TUD-JF\\lib\\site-packages\\sklearn\\gaussian_process\\kernels.py:430: ConvergenceWarning: The optimal value found for dimension 7 of parameter k2__length_scale is close to the specified upper bound 10000000000.0. Increasing the bound and calling fit again may find a better value.\n",
      "  \"better value.\" % (dim, hyp.name, hyp.bounds[dim][0]),\n",
      "c:\\Program Files\\Python310\\@Environments\\TUD-JF\\lib\\site-packages\\sklearn\\gaussian_process\\kernels.py:430: ConvergenceWarning: The optimal value found for dimension 8 of parameter k2__length_scale is close to the specified upper bound 10000000000.0. Increasing the bound and calling fit again may find a better value.\n",
      "  \"better value.\" % (dim, hyp.name, hyp.bounds[dim][0]),\n",
      "c:\\Program Files\\Python310\\@Environments\\TUD-JF\\lib\\site-packages\\sklearn\\gaussian_process\\kernels.py:430: ConvergenceWarning: The optimal value found for dimension 16 of parameter k2__length_scale is close to the specified upper bound 10000000000.0. Increasing the bound and calling fit again may find a better value.\n",
      "  \"better value.\" % (dim, hyp.name, hyp.bounds[dim][0]),\n",
      "c:\\Program Files\\Python310\\@Environments\\TUD-JF\\lib\\site-packages\\sklearn\\gaussian_process\\kernels.py:430: ConvergenceWarning: The optimal value found for dimension 18 of parameter k2__length_scale is close to the specified upper bound 10000000000.0. Increasing the bound and calling fit again may find a better value.\n",
      "  \"better value.\" % (dim, hyp.name, hyp.bounds[dim][0]),\n"
     ]
    },
    {
     "name": "stdout",
     "output_type": "stream",
     "text": [
      "+----------+--------------+--------------------------------------------------------------+-----------------+------------------------+---------------------+--------------------------+------------------------------+\n",
      "| Metric   |   Total Loss | Natural Frequencies                                          |   Mass of Truss |   Normalized Mass Loss |   Frequency Penalty |   Imaginary Part Penalty |   Constraint Violation Level |\n",
      "+==========+==============+==============================================================+=================+========================+=====================+==========================+==============================+\n",
      "| Value    |      1.91013 | [15.490032685514823, 37.120791346073354, 42.723566650762955] |         996.011 |              0.0575945 |            0.463135 |                        0 |                     0.463135 |\n",
      "+----------+--------------+--------------------------------------------------------------+-----------------+------------------------+---------------------+--------------------------+------------------------------+\n",
      "Iteration: 71 Best loss = 0.14\n",
      "\n"
     ]
    },
    {
     "name": "stderr",
     "output_type": "stream",
     "text": [
      "c:\\Program Files\\Python310\\@Environments\\TUD-JF\\lib\\site-packages\\sklearn\\gaussian_process\\kernels.py:430: ConvergenceWarning: The optimal value found for dimension 11 of parameter k2__length_scale is close to the specified upper bound 10000000000.0. Increasing the bound and calling fit again may find a better value.\n",
      "  \"better value.\" % (dim, hyp.name, hyp.bounds[dim][0]),\n"
     ]
    },
    {
     "name": "stdout",
     "output_type": "stream",
     "text": [
      "+----------+--------------+-------------------------------------------------------------+-----------------+------------------------+---------------------+--------------------------+------------------------------+\n",
      "| Metric   |   Total Loss | Natural Frequencies                                         |   Mass of Truss |   Normalized Mass Loss |   Frequency Penalty |   Imaginary Part Penalty |   Constraint Violation Level |\n",
      "+==========+==============+=============================================================+=================+========================+=====================+==========================+==============================+\n",
      "| Value    |     0.132462 | [20.609442623208743, 43.64512018972794, 61.235589326689016] |         2068.06 |               0.119586 |          0.00321898 |                        0 |                   0.00321898 |\n",
      "+----------+--------------+-------------------------------------------------------------+-----------------+------------------------+---------------------+--------------------------+------------------------------+\n",
      "Iteration: 72 Best loss = 0.13\n",
      "\n"
     ]
    },
    {
     "name": "stderr",
     "output_type": "stream",
     "text": [
      "c:\\Program Files\\Python310\\@Environments\\TUD-JF\\lib\\site-packages\\sklearn\\gaussian_process\\kernels.py:430: ConvergenceWarning: The optimal value found for dimension 0 of parameter k2__length_scale is close to the specified upper bound 10000000000.0. Increasing the bound and calling fit again may find a better value.\n",
      "  \"better value.\" % (dim, hyp.name, hyp.bounds[dim][0]),\n"
     ]
    },
    {
     "name": "stdout",
     "output_type": "stream",
     "text": [
      "+----------+--------------+------------------------------------------------------------+-----------------+------------------------+---------------------+--------------------------+------------------------------+\n",
      "| Metric   |   Total Loss | Natural Frequencies                                        |   Mass of Truss |   Normalized Mass Loss |   Frequency Penalty |   Imaginary Part Penalty |   Constraint Violation Level |\n",
      "+==========+==============+============================================================+=================+========================+=====================+==========================+==============================+\n",
      "| Value    |      1.48265 | [15.178673731135294, 34.171921744942885, 50.4313735526288] |         1481.21 |              0.0856514 |             0.34925 |                        0 |                      0.34925 |\n",
      "+----------+--------------+------------------------------------------------------------+-----------------+------------------------+---------------------+--------------------------+------------------------------+\n",
      "Iteration: 73 Best loss = 0.13\n",
      "\n",
      "+----------+--------------+----------------------------------------------------------+-----------------+------------------------+---------------------+--------------------------+------------------------------+\n",
      "| Metric   |   Total Loss | Natural Frequencies                                      |   Mass of Truss |   Normalized Mass Loss |   Frequency Penalty |   Imaginary Part Penalty |   Constraint Violation Level |\n",
      "+==========+==============+==========================================================+=================+========================+=====================+==========================+==============================+\n",
      "| Value    |     0.437436 | [17.46961522766314, 43.79991348632608, 65.3496654389927] |         3482.49 |               0.201376 |           0.0590152 |                        0 |                    0.0590152 |\n",
      "+----------+--------------+----------------------------------------------------------+-----------------+------------------------+---------------------+--------------------------+------------------------------+\n",
      "Iteration: 74 Best loss = 0.13\n",
      "\n",
      "+----------+--------------+-------------------------------------------------------------+-----------------+------------------------+---------------------+--------------------------+------------------------------+\n",
      "| Metric   |   Total Loss | Natural Frequencies                                         |   Mass of Truss |   Normalized Mass Loss |   Frequency Penalty |   Imaginary Part Penalty |   Constraint Violation Level |\n",
      "+==========+==============+=============================================================+=================+========================+=====================+==========================+==============================+\n",
      "| Value    |     0.113247 | [20.455633324448804, 46.35530177250403, 61.657530259061396] |          1346.8 |              0.0778791 |          0.00884195 |                        0 |                   0.00884195 |\n",
      "+----------+--------------+-------------------------------------------------------------+-----------------+------------------------+---------------------+--------------------------+------------------------------+\n",
      "Iteration: 75 Best loss = 0.11\n",
      "\n"
     ]
    },
    {
     "name": "stderr",
     "output_type": "stream",
     "text": [
      "c:\\Program Files\\Python310\\@Environments\\TUD-JF\\lib\\site-packages\\sklearn\\gaussian_process\\kernels.py:430: ConvergenceWarning: The optimal value found for dimension 14 of parameter k2__length_scale is close to the specified upper bound 10000000000.0. Increasing the bound and calling fit again may find a better value.\n",
      "  \"better value.\" % (dim, hyp.name, hyp.bounds[dim][0]),\n"
     ]
    },
    {
     "name": "stdout",
     "output_type": "stream",
     "text": [
      "+----------+--------------+-------------------------------------------------------------+-----------------+------------------------+---------------------+--------------------------+------------------------------+\n",
      "| Metric   |   Total Loss | Natural Frequencies                                         |   Mass of Truss |   Normalized Mass Loss |   Frequency Penalty |   Imaginary Part Penalty |   Constraint Violation Level |\n",
      "+==========+==============+=============================================================+=================+========================+=====================+==========================+==============================+\n",
      "| Value    |      22.9278 | [3.044276951509358, 12.313892095550173, 18.046398487183577] |         7574.68 |               0.438007 |             5.62245 |                        0 |                      5.62245 |\n",
      "+----------+--------------+-------------------------------------------------------------+-----------------+------------------------+---------------------+--------------------------+------------------------------+\n",
      "Iteration: 76 Best loss = 0.11\n",
      "\n"
     ]
    },
    {
     "name": "stderr",
     "output_type": "stream",
     "text": [
      "c:\\Program Files\\Python310\\@Environments\\TUD-JF\\lib\\site-packages\\sklearn\\gaussian_process\\kernels.py:430: ConvergenceWarning: The optimal value found for dimension 5 of parameter k2__length_scale is close to the specified upper bound 10000000000.0. Increasing the bound and calling fit again may find a better value.\n",
      "  \"better value.\" % (dim, hyp.name, hyp.bounds[dim][0]),\n"
     ]
    },
    {
     "name": "stdout",
     "output_type": "stream",
     "text": [
      "+----------+--------------+----------------------------------------------------------+-----------------+------------------------+---------------------+--------------------------+------------------------------+\n",
      "| Metric   |   Total Loss | Natural Frequencies                                      |   Mass of Truss |   Normalized Mass Loss |   Frequency Penalty |   Imaginary Part Penalty |   Constraint Violation Level |\n",
      "+==========+==============+==========================================================+=================+========================+=====================+==========================+==============================+\n",
      "| Value    |     0.664945 | [20.44106585199701, 60.5124205852125, 84.70599173995397] |         1514.82 |              0.0875947 |            0.144338 |                        0 |                     0.144338 |\n",
      "+----------+--------------+----------------------------------------------------------+-----------------+------------------------+---------------------+--------------------------+------------------------------+\n",
      "Iteration: 77 Best loss = 0.11\n",
      "\n",
      "+----------+--------------+------------------------------------------------------------+-----------------+------------------------+---------------------+--------------------------+------------------------------+\n",
      "| Metric   |   Total Loss | Natural Frequencies                                        |   Mass of Truss |   Normalized Mass Loss |   Frequency Penalty |   Imaginary Part Penalty |   Constraint Violation Level |\n",
      "+==========+==============+============================================================+=================+========================+=====================+==========================+==============================+\n",
      "| Value    |      14.6294 | [3.887174520856261, 21.656392027474133, 32.49353396980832] |         6380.84 |               0.368973 |              3.5651 |                        0 |                       3.5651 |\n",
      "+----------+--------------+------------------------------------------------------------+-----------------+------------------------+---------------------+--------------------------+------------------------------+\n",
      "Iteration: 78 Best loss = 0.11\n",
      "\n"
     ]
    },
    {
     "name": "stderr",
     "output_type": "stream",
     "text": [
      "c:\\Program Files\\Python310\\@Environments\\TUD-JF\\lib\\site-packages\\sklearn\\gaussian_process\\kernels.py:430: ConvergenceWarning: The optimal value found for dimension 5 of parameter k2__length_scale is close to the specified upper bound 10000000000.0. Increasing the bound and calling fit again may find a better value.\n",
      "  \"better value.\" % (dim, hyp.name, hyp.bounds[dim][0]),\n"
     ]
    },
    {
     "name": "stdout",
     "output_type": "stream",
     "text": [
      "+----------+--------------+------------------------------------------------------------+-----------------+------------------------+---------------------+--------------------------+------------------------------+\n",
      "| Metric   |   Total Loss | Natural Frequencies                                        |   Mass of Truss |   Normalized Mass Loss |   Frequency Penalty |   Imaginary Part Penalty |   Constraint Violation Level |\n",
      "+==========+==============+============================================================+=================+========================+=====================+==========================+==============================+\n",
      "| Value    |      2.14978 | [12.625868534767866, 54.33395420993257, 73.29462666508576] |         1738.16 |               0.100509 |            0.512319 |                        0 |                     0.512319 |\n",
      "+----------+--------------+------------------------------------------------------------+-----------------+------------------------+---------------------+--------------------------+------------------------------+\n",
      "Iteration: 79 Best loss = 0.11\n",
      "\n",
      "+----------+--------------+-----------------------------------------------------------+-----------------+------------------------+---------------------+--------------------------+------------------------------+\n",
      "| Metric   |   Total Loss | Natural Frequencies                                       |   Mass of Truss |   Normalized Mass Loss |   Frequency Penalty |   Imaginary Part Penalty |   Constraint Violation Level |\n",
      "+==========+==============+===========================================================+=================+========================+=====================+==========================+==============================+\n",
      "| Value    |     0.282835 | [22.262314120898274, 55.24439863821648, 66.8782242709225] |         944.107 |              0.0545932 |           0.0570605 |                        0 |                    0.0570605 |\n",
      "+----------+--------------+-----------------------------------------------------------+-----------------+------------------------+---------------------+--------------------------+------------------------------+\n",
      "Iteration: 80 Best loss = 0.11\n",
      "\n"
     ]
    },
    {
     "name": "stderr",
     "output_type": "stream",
     "text": [
      "c:\\Program Files\\Python310\\@Environments\\TUD-JF\\lib\\site-packages\\sklearn\\gaussian_process\\kernels.py:430: ConvergenceWarning: The optimal value found for dimension 11 of parameter k2__length_scale is close to the specified upper bound 10000000000.0. Increasing the bound and calling fit again may find a better value.\n",
      "  \"better value.\" % (dim, hyp.name, hyp.bounds[dim][0]),\n"
     ]
    },
    {
     "name": "stdout",
     "output_type": "stream",
     "text": [
      "+----------+--------------+------------------------------------------------------------+-----------------+------------------------+---------------------+--------------------------+------------------------------+\n",
      "| Metric   |   Total Loss | Natural Frequencies                                        |   Mass of Truss |   Normalized Mass Loss |   Frequency Penalty |   Imaginary Part Penalty |   Constraint Violation Level |\n",
      "+==========+==============+============================================================+=================+========================+=====================+==========================+==============================+\n",
      "| Value    |      16.9395 | [5.716815677581404, 17.109606167932256, 21.39906144525267] |          4394.1 |                0.25409 |             4.17134 |                        0 |                      4.17134 |\n",
      "+----------+--------------+------------------------------------------------------------+-----------------+------------------------+---------------------+--------------------------+------------------------------+\n",
      "Iteration: 81 Best loss = 0.11\n",
      "\n"
     ]
    },
    {
     "name": "stderr",
     "output_type": "stream",
     "text": [
      "c:\\Program Files\\Python310\\@Environments\\TUD-JF\\lib\\site-packages\\sklearn\\gaussian_process\\kernels.py:430: ConvergenceWarning: The optimal value found for dimension 18 of parameter k2__length_scale is close to the specified upper bound 10000000000.0. Increasing the bound and calling fit again may find a better value.\n",
      "  \"better value.\" % (dim, hyp.name, hyp.bounds[dim][0]),\n"
     ]
    },
    {
     "name": "stdout",
     "output_type": "stream",
     "text": [
      "+----------+--------------+------------------------------------------------------------+-----------------+------------------------+---------------------+--------------------------+------------------------------+\n",
      "| Metric   |   Total Loss | Natural Frequencies                                        |   Mass of Truss |   Normalized Mass Loss |   Frequency Penalty |   Imaginary Part Penalty |   Constraint Violation Level |\n",
      "+==========+==============+============================================================+=================+========================+=====================+==========================+==============================+\n",
      "| Value    |     0.906553 | [15.234457852738178, 41.00028318583746, 62.38351403140815] |         2535.26 |               0.146602 |            0.189988 |                        0 |                     0.189988 |\n",
      "+----------+--------------+------------------------------------------------------------+-----------------+------------------------+---------------------+--------------------------+------------------------------+\n",
      "Iteration: 82 Best loss = 0.11\n",
      "\n",
      "+----------+--------------+-----------------------------------------------------------+-----------------+------------------------+---------------------+--------------------------+------------------------------+\n",
      "| Metric   |   Total Loss | Natural Frequencies                                       |   Mass of Truss |   Normalized Mass Loss |   Frequency Penalty |   Imaginary Part Penalty |   Constraint Violation Level |\n",
      "+==========+==============+===========================================================+=================+========================+=====================+==========================+==============================+\n",
      "| Value    |      15.3501 | [4.95819350037102, 18.703180450379445, 29.31261591447549] |         9352.73 |               0.540823 |             3.70233 |                        0 |                      3.70233 |\n",
      "+----------+--------------+-----------------------------------------------------------+-----------------+------------------------+---------------------+--------------------------+------------------------------+\n",
      "Iteration: 83 Best loss = 0.11\n",
      "\n"
     ]
    },
    {
     "name": "stderr",
     "output_type": "stream",
     "text": [
      "c:\\Program Files\\Python310\\@Environments\\TUD-JF\\lib\\site-packages\\sklearn\\gaussian_process\\kernels.py:430: ConvergenceWarning: The optimal value found for dimension 6 of parameter k2__length_scale is close to the specified upper bound 10000000000.0. Increasing the bound and calling fit again may find a better value.\n",
      "  \"better value.\" % (dim, hyp.name, hyp.bounds[dim][0]),\n",
      "c:\\Program Files\\Python310\\@Environments\\TUD-JF\\lib\\site-packages\\sklearn\\gaussian_process\\kernels.py:430: ConvergenceWarning: The optimal value found for dimension 11 of parameter k2__length_scale is close to the specified upper bound 10000000000.0. Increasing the bound and calling fit again may find a better value.\n",
      "  \"better value.\" % (dim, hyp.name, hyp.bounds[dim][0]),\n",
      "c:\\Program Files\\Python310\\@Environments\\TUD-JF\\lib\\site-packages\\sklearn\\gaussian_process\\kernels.py:430: ConvergenceWarning: The optimal value found for dimension 18 of parameter k2__length_scale is close to the specified upper bound 10000000000.0. Increasing the bound and calling fit again may find a better value.\n",
      "  \"better value.\" % (dim, hyp.name, hyp.bounds[dim][0]),\n",
      "c:\\Program Files\\Python310\\@Environments\\TUD-JF\\lib\\site-packages\\sklearn\\gaussian_process\\kernels.py:430: ConvergenceWarning: The optimal value found for dimension 19 of parameter k2__length_scale is close to the specified upper bound 10000000000.0. Increasing the bound and calling fit again may find a better value.\n",
      "  \"better value.\" % (dim, hyp.name, hyp.bounds[dim][0]),\n"
     ]
    },
    {
     "name": "stdout",
     "output_type": "stream",
     "text": [
      "+----------+--------------+--------------------------------------------------------------+-----------------+------------------------+---------------------+--------------------------+------------------------------+\n",
      "| Metric   |   Total Loss | Natural Frequencies                                          |   Mass of Truss |   Normalized Mass Loss |   Frequency Penalty |   Imaginary Part Penalty |   Constraint Violation Level |\n",
      "+==========+==============+==============================================================+=================+========================+=====================+==========================+==============================+\n",
      "| Value    |      13.4881 | [6.7055963929550515, 19.987039214735297, 26.754167459262444] |         2860.09 |               0.165385 |             3.33067 |                        0 |                      3.33067 |\n",
      "+----------+--------------+--------------------------------------------------------------+-----------------+------------------------+---------------------+--------------------------+------------------------------+\n",
      "Iteration: 84 Best loss = 0.11\n",
      "\n"
     ]
    },
    {
     "name": "stderr",
     "output_type": "stream",
     "text": [
      "c:\\Program Files\\Python310\\@Environments\\TUD-JF\\lib\\site-packages\\sklearn\\gaussian_process\\kernels.py:430: ConvergenceWarning: The optimal value found for dimension 5 of parameter k2__length_scale is close to the specified upper bound 10000000000.0. Increasing the bound and calling fit again may find a better value.\n",
      "  \"better value.\" % (dim, hyp.name, hyp.bounds[dim][0]),\n",
      "c:\\Program Files\\Python310\\@Environments\\TUD-JF\\lib\\site-packages\\sklearn\\gaussian_process\\kernels.py:430: ConvergenceWarning: The optimal value found for dimension 8 of parameter k2__length_scale is close to the specified upper bound 10000000000.0. Increasing the bound and calling fit again may find a better value.\n",
      "  \"better value.\" % (dim, hyp.name, hyp.bounds[dim][0]),\n",
      "c:\\Program Files\\Python310\\@Environments\\TUD-JF\\lib\\site-packages\\sklearn\\gaussian_process\\kernels.py:430: ConvergenceWarning: The optimal value found for dimension 11 of parameter k2__length_scale is close to the specified upper bound 10000000000.0. Increasing the bound and calling fit again may find a better value.\n",
      "  \"better value.\" % (dim, hyp.name, hyp.bounds[dim][0]),\n",
      "c:\\Program Files\\Python310\\@Environments\\TUD-JF\\lib\\site-packages\\sklearn\\gaussian_process\\kernels.py:430: ConvergenceWarning: The optimal value found for dimension 18 of parameter k2__length_scale is close to the specified upper bound 10000000000.0. Increasing the bound and calling fit again may find a better value.\n",
      "  \"better value.\" % (dim, hyp.name, hyp.bounds[dim][0]),\n"
     ]
    },
    {
     "name": "stdout",
     "output_type": "stream",
     "text": [
      "+----------+--------------+------------------------------------------------------------+-----------------+------------------------+---------------------+--------------------------+------------------------------+\n",
      "| Metric   |   Total Loss | Natural Frequencies                                        |   Mass of Truss |   Normalized Mass Loss |   Frequency Penalty |   Imaginary Part Penalty |   Constraint Violation Level |\n",
      "+==========+==============+============================================================+=================+========================+=====================+==========================+==============================+\n",
      "| Value    |      2.42518 | [12.529206529695445, 60.22483196807682, 78.46128700465528] |         1688.86 |              0.0976589 |            0.581881 |                        0 |                     0.581881 |\n",
      "+----------+--------------+------------------------------------------------------------+-----------------+------------------------+---------------------+--------------------------+------------------------------+\n",
      "Iteration: 85 Best loss = 0.11\n",
      "\n"
     ]
    },
    {
     "name": "stderr",
     "output_type": "stream",
     "text": [
      "c:\\Program Files\\Python310\\@Environments\\TUD-JF\\lib\\site-packages\\sklearn\\gaussian_process\\kernels.py:430: ConvergenceWarning: The optimal value found for dimension 12 of parameter k2__length_scale is close to the specified upper bound 10000000000.0. Increasing the bound and calling fit again may find a better value.\n",
      "  \"better value.\" % (dim, hyp.name, hyp.bounds[dim][0]),\n"
     ]
    },
    {
     "name": "stdout",
     "output_type": "stream",
     "text": [
      "+----------+--------------+-----------------------------------------------------------+-----------------+------------------------+---------------------+--------------------------+------------------------------+\n",
      "| Metric   |   Total Loss | Natural Frequencies                                       |   Mass of Truss |   Normalized Mass Loss |   Frequency Penalty |   Imaginary Part Penalty |   Constraint Violation Level |\n",
      "+==========+==============+===========================================================+=================+========================+=====================+==========================+==============================+\n",
      "| Value    |     0.902378 | [18.508134174486624, 65.3196416778228, 83.22697428046735] |         1628.01 |              0.0941399 |            0.202059 |                        0 |                     0.202059 |\n",
      "+----------+--------------+-----------------------------------------------------------+-----------------+------------------------+---------------------+--------------------------+------------------------------+\n",
      "Iteration: 86 Best loss = 0.11\n",
      "\n",
      "+----------+--------------+------------------------------------------------------------+-----------------+------------------------+---------------------+--------------------------+------------------------------+\n",
      "| Metric   |   Total Loss | Natural Frequencies                                        |   Mass of Truss |   Normalized Mass Loss |   Frequency Penalty |   Imaginary Part Penalty |   Constraint Violation Level |\n",
      "+==========+==============+============================================================+=================+========================+=====================+==========================+==============================+\n",
      "| Value    |      0.82998 | [16.154113722746025, 41.99533030396413, 51.55739172611837] |         1204.38 |              0.0696433 |            0.190084 |                        0 |                     0.190084 |\n",
      "+----------+--------------+------------------------------------------------------------+-----------------+------------------------+---------------------+--------------------------+------------------------------+\n",
      "Iteration: 87 Best loss = 0.11\n",
      "\n"
     ]
    },
    {
     "name": "stderr",
     "output_type": "stream",
     "text": [
      "c:\\Program Files\\Python310\\@Environments\\TUD-JF\\lib\\site-packages\\sklearn\\gaussian_process\\kernels.py:430: ConvergenceWarning: The optimal value found for dimension 9 of parameter k2__length_scale is close to the specified upper bound 10000000000.0. Increasing the bound and calling fit again may find a better value.\n",
      "  \"better value.\" % (dim, hyp.name, hyp.bounds[dim][0]),\n",
      "c:\\Program Files\\Python310\\@Environments\\TUD-JF\\lib\\site-packages\\sklearn\\gaussian_process\\kernels.py:430: ConvergenceWarning: The optimal value found for dimension 17 of parameter k2__length_scale is close to the specified upper bound 10000000000.0. Increasing the bound and calling fit again may find a better value.\n",
      "  \"better value.\" % (dim, hyp.name, hyp.bounds[dim][0]),\n"
     ]
    },
    {
     "name": "stdout",
     "output_type": "stream",
     "text": [
      "+----------+--------------+------------------------------------------------------------+-----------------+------------------------+---------------------+--------------------------+------------------------------+\n",
      "| Metric   |   Total Loss | Natural Frequencies                                        |   Mass of Truss |   Normalized Mass Loss |   Frequency Penalty |   Imaginary Part Penalty |   Constraint Violation Level |\n",
      "+==========+==============+============================================================+=================+========================+=====================+==========================+==============================+\n",
      "| Value    |     0.581003 | [20.122446104771395, 60.09833164855509, 74.16322657328425] |         2940.57 |               0.170039 |            0.102741 |                        0 |                     0.102741 |\n",
      "+----------+--------------+------------------------------------------------------------+-----------------+------------------------+---------------------+--------------------------+------------------------------+\n",
      "Iteration: 88 Best loss = 0.11\n",
      "\n"
     ]
    },
    {
     "name": "stderr",
     "output_type": "stream",
     "text": [
      "c:\\Program Files\\Python310\\@Environments\\TUD-JF\\lib\\site-packages\\sklearn\\gaussian_process\\kernels.py:430: ConvergenceWarning: The optimal value found for dimension 9 of parameter k2__length_scale is close to the specified upper bound 10000000000.0. Increasing the bound and calling fit again may find a better value.\n",
      "  \"better value.\" % (dim, hyp.name, hyp.bounds[dim][0]),\n",
      "c:\\Program Files\\Python310\\@Environments\\TUD-JF\\lib\\site-packages\\sklearn\\gaussian_process\\kernels.py:430: ConvergenceWarning: The optimal value found for dimension 11 of parameter k2__length_scale is close to the specified upper bound 10000000000.0. Increasing the bound and calling fit again may find a better value.\n",
      "  \"better value.\" % (dim, hyp.name, hyp.bounds[dim][0]),\n",
      "c:\\Program Files\\Python310\\@Environments\\TUD-JF\\lib\\site-packages\\sklearn\\gaussian_process\\kernels.py:430: ConvergenceWarning: The optimal value found for dimension 15 of parameter k2__length_scale is close to the specified upper bound 10000000000.0. Increasing the bound and calling fit again may find a better value.\n",
      "  \"better value.\" % (dim, hyp.name, hyp.bounds[dim][0]),\n"
     ]
    },
    {
     "name": "stdout",
     "output_type": "stream",
     "text": [
      "+----------+--------------+-------------------------------------------------------------+-----------------+------------------------+---------------------+--------------------------+------------------------------+\n",
      "| Metric   |   Total Loss | Natural Frequencies                                         |   Mass of Truss |   Normalized Mass Loss |   Frequency Penalty |   Imaginary Part Penalty |   Constraint Violation Level |\n",
      "+==========+==============+=============================================================+=================+========================+=====================+==========================+==============================+\n",
      "| Value    |      3.18624 | [11.272049044635933, 44.912722272857714, 49.05583076597825] |         3169.53 |               0.183279 |             0.75074 |                        0 |                      0.75074 |\n",
      "+----------+--------------+-------------------------------------------------------------+-----------------+------------------------+---------------------+--------------------------+------------------------------+\n",
      "Iteration: 89 Best loss = 0.11\n",
      "\n"
     ]
    },
    {
     "name": "stderr",
     "output_type": "stream",
     "text": [
      "c:\\Program Files\\Python310\\@Environments\\TUD-JF\\lib\\site-packages\\sklearn\\gaussian_process\\kernels.py:430: ConvergenceWarning: The optimal value found for dimension 9 of parameter k2__length_scale is close to the specified upper bound 10000000000.0. Increasing the bound and calling fit again may find a better value.\n",
      "  \"better value.\" % (dim, hyp.name, hyp.bounds[dim][0]),\n",
      "c:\\Program Files\\Python310\\@Environments\\TUD-JF\\lib\\site-packages\\sklearn\\gaussian_process\\kernels.py:430: ConvergenceWarning: The optimal value found for dimension 10 of parameter k2__length_scale is close to the specified upper bound 10000000000.0. Increasing the bound and calling fit again may find a better value.\n",
      "  \"better value.\" % (dim, hyp.name, hyp.bounds[dim][0]),\n",
      "c:\\Program Files\\Python310\\@Environments\\TUD-JF\\lib\\site-packages\\sklearn\\gaussian_process\\kernels.py:430: ConvergenceWarning: The optimal value found for dimension 11 of parameter k2__length_scale is close to the specified upper bound 10000000000.0. Increasing the bound and calling fit again may find a better value.\n",
      "  \"better value.\" % (dim, hyp.name, hyp.bounds[dim][0]),\n"
     ]
    },
    {
     "name": "stdout",
     "output_type": "stream",
     "text": [
      "+----------+--------------+-----------------------------------------------------------+-----------------+------------------------+---------------------+--------------------------+------------------------------+\n",
      "| Metric   |   Total Loss | Natural Frequencies                                       |   Mass of Truss |   Normalized Mass Loss |   Frequency Penalty |   Imaginary Part Penalty |   Constraint Violation Level |\n",
      "+==========+==============+===========================================================+=================+========================+=====================+==========================+==============================+\n",
      "| Value    |      1.15617 | [22.88162725724555, 71.93588672296481, 83.05297274770325] |         1413.59 |               0.081741 |            0.268607 |                        0 |                     0.268607 |\n",
      "+----------+--------------+-----------------------------------------------------------+-----------------+------------------------+---------------------+--------------------------+------------------------------+\n",
      "Iteration: 90 Best loss = 0.11\n",
      "\n"
     ]
    },
    {
     "name": "stderr",
     "output_type": "stream",
     "text": [
      "c:\\Program Files\\Python310\\@Environments\\TUD-JF\\lib\\site-packages\\sklearn\\gaussian_process\\kernels.py:430: ConvergenceWarning: The optimal value found for dimension 5 of parameter k2__length_scale is close to the specified upper bound 10000000000.0. Increasing the bound and calling fit again may find a better value.\n",
      "  \"better value.\" % (dim, hyp.name, hyp.bounds[dim][0]),\n",
      "c:\\Program Files\\Python310\\@Environments\\TUD-JF\\lib\\site-packages\\sklearn\\gaussian_process\\kernels.py:430: ConvergenceWarning: The optimal value found for dimension 17 of parameter k2__length_scale is close to the specified upper bound 10000000000.0. Increasing the bound and calling fit again may find a better value.\n",
      "  \"better value.\" % (dim, hyp.name, hyp.bounds[dim][0]),\n"
     ]
    },
    {
     "name": "stdout",
     "output_type": "stream",
     "text": [
      "+----------+--------------+-------------------------------------------------------------+-----------------+------------------------+---------------------+--------------------------+------------------------------+\n",
      "| Metric   |   Total Loss | Natural Frequencies                                         |   Mass of Truss |   Normalized Mass Loss |   Frequency Penalty |   Imaginary Part Penalty |   Constraint Violation Level |\n",
      "+==========+==============+=============================================================+=================+========================+=====================+==========================+==============================+\n",
      "| Value    |      1.09038 | [16.375778719684053, 34.183092822435675, 51.96015360935137] |         2268.47 |               0.131175 |            0.239802 |                        0 |                     0.239802 |\n",
      "+----------+--------------+-------------------------------------------------------------+-----------------+------------------------+---------------------+--------------------------+------------------------------+\n",
      "Iteration: 91 Best loss = 0.11\n",
      "\n"
     ]
    },
    {
     "name": "stderr",
     "output_type": "stream",
     "text": [
      "c:\\Program Files\\Python310\\@Environments\\TUD-JF\\lib\\site-packages\\sklearn\\gaussian_process\\kernels.py:430: ConvergenceWarning: The optimal value found for dimension 6 of parameter k2__length_scale is close to the specified upper bound 10000000000.0. Increasing the bound and calling fit again may find a better value.\n",
      "  \"better value.\" % (dim, hyp.name, hyp.bounds[dim][0]),\n",
      "c:\\Program Files\\Python310\\@Environments\\TUD-JF\\lib\\site-packages\\sklearn\\gaussian_process\\kernels.py:430: ConvergenceWarning: The optimal value found for dimension 12 of parameter k2__length_scale is close to the specified upper bound 10000000000.0. Increasing the bound and calling fit again may find a better value.\n",
      "  \"better value.\" % (dim, hyp.name, hyp.bounds[dim][0]),\n"
     ]
    },
    {
     "name": "stdout",
     "output_type": "stream",
     "text": [
      "+----------+--------------+------------------------------------------------------------+-----------------+------------------------+---------------------+--------------------------+------------------------------+\n",
      "| Metric   |   Total Loss | Natural Frequencies                                        |   Mass of Truss |   Normalized Mass Loss |   Frequency Penalty |   Imaginary Part Penalty |   Constraint Violation Level |\n",
      "+==========+==============+============================================================+=================+========================+=====================+==========================+==============================+\n",
      "| Value    |      1.10185 | [14.664902198867425, 37.01751949802721, 65.43302724680414] |         1176.14 |              0.0680105 |            0.258459 |                        0 |                     0.258459 |\n",
      "+----------+--------------+------------------------------------------------------------+-----------------+------------------------+---------------------+--------------------------+------------------------------+\n",
      "Iteration: 92 Best loss = 0.11\n",
      "\n",
      "+----------+--------------+-------------------------------------------------------------+-----------------+------------------------+---------------------+--------------------------+------------------------------+\n",
      "| Metric   |   Total Loss | Natural Frequencies                                         |   Mass of Truss |   Normalized Mass Loss |   Frequency Penalty |   Imaginary Part Penalty |   Constraint Violation Level |\n",
      "+==========+==============+=============================================================+=================+========================+=====================+==========================+==============================+\n",
      "| Value    |      1.84711 | [13.938648176529508, 34.670648319802396, 51.26563367639898] |         1784.87 |                0.10321 |            0.435975 |                        0 |                     0.435975 |\n",
      "+----------+--------------+-------------------------------------------------------------+-----------------+------------------------+---------------------+--------------------------+------------------------------+\n",
      "Iteration: 93 Best loss = 0.11\n",
      "\n"
     ]
    },
    {
     "name": "stderr",
     "output_type": "stream",
     "text": [
      "c:\\Program Files\\Python310\\@Environments\\TUD-JF\\lib\\site-packages\\sklearn\\gaussian_process\\kernels.py:430: ConvergenceWarning: The optimal value found for dimension 16 of parameter k2__length_scale is close to the specified upper bound 10000000000.0. Increasing the bound and calling fit again may find a better value.\n",
      "  \"better value.\" % (dim, hyp.name, hyp.bounds[dim][0]),\n"
     ]
    },
    {
     "name": "stdout",
     "output_type": "stream",
     "text": [
      "+----------+--------------+-------------------------------------------------------------+-----------------+------------------------+---------------------+--------------------------+------------------------------+\n",
      "| Metric   |   Total Loss | Natural Frequencies                                         |   Mass of Truss |   Normalized Mass Loss |   Frequency Penalty |   Imaginary Part Penalty |   Constraint Violation Level |\n",
      "+==========+==============+=============================================================+=================+========================+=====================+==========================+==============================+\n",
      "| Value    |       21.154 | [3.0364678013859554, 12.066227979874897, 25.80198407757204] |           12589 |                0.72796 |              5.1065 |                        0 |                       5.1065 |\n",
      "+----------+--------------+-------------------------------------------------------------+-----------------+------------------------+---------------------+--------------------------+------------------------------+\n",
      "Iteration: 94 Best loss = 0.11\n",
      "\n"
     ]
    },
    {
     "name": "stderr",
     "output_type": "stream",
     "text": [
      "c:\\Program Files\\Python310\\@Environments\\TUD-JF\\lib\\site-packages\\sklearn\\gaussian_process\\kernels.py:430: ConvergenceWarning: The optimal value found for dimension 8 of parameter k2__length_scale is close to the specified upper bound 10000000000.0. Increasing the bound and calling fit again may find a better value.\n",
      "  \"better value.\" % (dim, hyp.name, hyp.bounds[dim][0]),\n"
     ]
    },
    {
     "name": "stdout",
     "output_type": "stream",
     "text": [
      "+----------+--------------+------------------------------------------------------------+-----------------+------------------------+---------------------+--------------------------+------------------------------+\n",
      "| Metric   |   Total Loss | Natural Frequencies                                        |   Mass of Truss |   Normalized Mass Loss |   Frequency Penalty |   Imaginary Part Penalty |   Constraint Violation Level |\n",
      "+==========+==============+============================================================+=================+========================+=====================+==========================+==============================+\n",
      "| Value    |     0.075282 | [19.484431004405877, 39.86150570746005, 58.95148532711061] |         1075.48 |                0.06219 |            0.003273 |                        0 |                     0.003273 |\n",
      "+----------+--------------+------------------------------------------------------------+-----------------+------------------------+---------------------+--------------------------+------------------------------+\n",
      "Iteration: 95 Best loss = 0.08\n",
      "\n",
      "+----------+--------------+-----------------------------------------------------------+-----------------+------------------------+---------------------+--------------------------+------------------------------+\n",
      "| Metric   |   Total Loss | Natural Frequencies                                       |   Mass of Truss |   Normalized Mass Loss |   Frequency Penalty |   Imaginary Part Penalty |   Constraint Violation Level |\n",
      "+==========+==============+===========================================================+=================+========================+=====================+==========================+==============================+\n",
      "| Value    |     0.335872 | [17.31098596823819, 47.49720506939847, 62.24794570387829] |         797.822 |              0.0461342 |           0.0724345 |                        0 |                    0.0724345 |\n",
      "+----------+--------------+-----------------------------------------------------------+-----------------+------------------------+---------------------+--------------------------+------------------------------+\n",
      "Iteration: 96 Best loss = 0.08\n",
      "\n"
     ]
    },
    {
     "name": "stderr",
     "output_type": "stream",
     "text": [
      "c:\\Program Files\\Python310\\@Environments\\TUD-JF\\lib\\site-packages\\sklearn\\gaussian_process\\kernels.py:430: ConvergenceWarning: The optimal value found for dimension 15 of parameter k2__length_scale is close to the specified upper bound 10000000000.0. Increasing the bound and calling fit again may find a better value.\n",
      "  \"better value.\" % (dim, hyp.name, hyp.bounds[dim][0]),\n",
      "c:\\Program Files\\Python310\\@Environments\\TUD-JF\\lib\\site-packages\\sklearn\\gaussian_process\\kernels.py:430: ConvergenceWarning: The optimal value found for dimension 17 of parameter k2__length_scale is close to the specified upper bound 10000000000.0. Increasing the bound and calling fit again may find a better value.\n",
      "  \"better value.\" % (dim, hyp.name, hyp.bounds[dim][0]),\n"
     ]
    },
    {
     "name": "stdout",
     "output_type": "stream",
     "text": [
      "+----------+--------------+------------------------------------------------------------+-----------------+------------------------+---------------------+--------------------------+------------------------------+\n",
      "| Metric   |   Total Loss | Natural Frequencies                                        |   Mass of Truss |   Normalized Mass Loss |   Frequency Penalty |   Imaginary Part Penalty |   Constraint Violation Level |\n",
      "+==========+==============+============================================================+=================+========================+=====================+==========================+==============================+\n",
      "| Value    |      15.3487 | [5.801550498762051, 16.533453345012827, 27.39922306393618] |         1790.42 |               0.103531 |              3.8113 |                        0 |                       3.8113 |\n",
      "+----------+--------------+------------------------------------------------------------+-----------------+------------------------+---------------------+--------------------------+------------------------------+\n",
      "Iteration: 97 Best loss = 0.08\n",
      "\n",
      "+----------+--------------+------------------------------------------------------------+-----------------+------------------------+---------------------+--------------------------+------------------------------+\n",
      "| Metric   |   Total Loss | Natural Frequencies                                        |   Mass of Truss |   Normalized Mass Loss |   Frequency Penalty |   Imaginary Part Penalty |   Constraint Violation Level |\n",
      "+==========+==============+============================================================+=================+========================+=====================+==========================+==============================+\n",
      "| Value    |     0.536596 | [19.326188644007072, 33.80297250251481, 60.11421164879302] |         3483.45 |               0.201431 |           0.0837913 |                        0 |                    0.0837913 |\n",
      "+----------+--------------+------------------------------------------------------------+-----------------+------------------------+---------------------+--------------------------+------------------------------+\n",
      "Iteration: 98 Best loss = 0.08\n",
      "\n"
     ]
    },
    {
     "name": "stderr",
     "output_type": "stream",
     "text": [
      "c:\\Program Files\\Python310\\@Environments\\TUD-JF\\lib\\site-packages\\sklearn\\gaussian_process\\kernels.py:430: ConvergenceWarning: The optimal value found for dimension 11 of parameter k2__length_scale is close to the specified upper bound 10000000000.0. Increasing the bound and calling fit again may find a better value.\n",
      "  \"better value.\" % (dim, hyp.name, hyp.bounds[dim][0]),\n",
      "c:\\Program Files\\Python310\\@Environments\\TUD-JF\\lib\\site-packages\\sklearn\\gaussian_process\\kernels.py:430: ConvergenceWarning: The optimal value found for dimension 15 of parameter k2__length_scale is close to the specified upper bound 10000000000.0. Increasing the bound and calling fit again may find a better value.\n",
      "  \"better value.\" % (dim, hyp.name, hyp.bounds[dim][0]),\n"
     ]
    },
    {
     "name": "stdout",
     "output_type": "stream",
     "text": [
      "+----------+--------------+-------------------------------------------------------------+-----------------+------------------------+---------------------+--------------------------+------------------------------+\n",
      "| Metric   |   Total Loss | Natural Frequencies                                         |   Mass of Truss |   Normalized Mass Loss |   Frequency Penalty |   Imaginary Part Penalty |   Constraint Violation Level |\n",
      "+==========+==============+=============================================================+=================+========================+=====================+==========================+==============================+\n",
      "| Value    |       0.1235 | [18.85979160339803, 39.262786727961625, 63.354098150386804] |         1235.94 |              0.0714683 |           0.0130079 |                        0 |                    0.0130079 |\n",
      "+----------+--------------+-------------------------------------------------------------+-----------------+------------------------+---------------------+--------------------------+------------------------------+\n",
      "Iteration: 99 Best loss = 0.08\n",
      "\n",
      "+----------+--------------+--------------------------------------------------------------+-----------------+------------------------+---------------------+--------------------------+------------------------------+\n",
      "| Metric   |   Total Loss | Natural Frequencies                                          |   Mass of Truss |   Normalized Mass Loss |   Frequency Penalty |   Imaginary Part Penalty |   Constraint Violation Level |\n",
      "+==========+==============+==============================================================+=================+========================+=====================+==========================+==============================+\n",
      "| Value    |      2.55155 | [14.308961949492877, 34.430049943943295, 43.759381658673355] |         4090.49 |               0.236533 |            0.578753 |                        0 |                     0.578753 |\n",
      "+----------+--------------+--------------------------------------------------------------+-----------------+------------------------+---------------------+--------------------------+------------------------------+\n"
     ]
    }
   ],
   "source": [
    "TRUSS1_bopt = BayesianOptimizer(target_func= LF_wrapper, x_init= x_list, y_init= y_list, n_iter= 100, batch_size= 50, bounds= bounds)\n",
    "optimal_x, y_max = TRUSS1_bopt.optimize()"
   ]
  },
  {
   "cell_type": "code",
   "execution_count": 239,
   "metadata": {},
   "outputs": [
    {
     "data": {
      "image/png": "[encoded data removed]",
      "text/plain": [
       "<Figure size 1200x500 with 2 Axes>"
      ]
     },
     "metadata": {},
     "output_type": "display_data"
    },
    {
     "data": {
      "image/png": "[encoded data removed]",
      "text/plain": [
       "<Figure size 640x480 with 2 Axes>"
      ]
     },
     "metadata": {},
     "output_type": "display_data"
    }
   ],
   "source": [
    "import matplotlib.pyplot as plt\n",
    "plt.figure(figsize=(12, 5))\n",
    "pd.DataFrame(TRUSS1_bopt.best_samples_['y']).plot(ax=plt.subplot(1, 2, 1), title='Best Loss', xlabel='Iterations', ylabel='Loss')\n",
    "plt.subplot(1, 2, 2).plot(TRUSS1_bopt.y_loss)\n",
    "\n",
    "plt.tight_layout()\n",
    "plt.show()\n",
    "plot_truss(write_file_path,TRUSS1, TRUSS1.cross_sections) ## FIX THIS"
   ]
  }
 ],
 "metadata": {
  "kernelspec": {
   "display_name": "dsaie",
   "language": "python",
   "name": "python3"
  },
  "language_info": {
   "codemirror_mode": {
    "name": "ipython",
    "version": 3
   },
   "file_extension": ".py",
   "mimetype": "text/x-python",
   "name": "python",
   "nbconvert_exporter": "python",
   "pygments_lexer": "ipython3",
   "version": "3.10.8"
  }
 },
 "nbformat": 4,
 "nbformat_minor": 2
}
