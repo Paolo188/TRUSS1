{
 "cells": [
  {
   "cell_type": "markdown",
   "metadata": {},
   "source": [
    "<img \n",
    "    style=\"position: absolute; \n",
    "           left: 60%; \n",
    "           top: 0; /* Added to ensure proper positioning */\n",
    "           height: 900px; \n",
    "           width: 40%; /* Maintain the original width */\n",
    "           object-fit: cover; /* Adjust if necessary */\n",
    "           clip-path: inset(0px 50px 0px 50px round 10px);\" \n",
    "    src=\"https://miro.medium.com/v2/resize:fit:1400/1*PhKGj_bZlND8IEfII426wA.png\" \n",
    "/>\n",
    "\n",
    "</figure>\n",
    "\n",
    "\n",
    "<h1 style=\"width: 60%; color: Orange; font-size: 40pt;\">\n",
    "    <Strong>\n",
    "        CEGM2003 project: Bayesian optimization for truss structures\n",
    "    </Strong>\n",
    "</h1>\n",
    "\n",
    "<h2 id=\"Background\"><B>\n",
    "    Background<a class=\"anchor-link\" href=\"#Background\">&#182;</a>\n",
    "    </B>\n",
    "</h2>\n",
    "<p style=\"text-align: justify; width: 60%; font-weight: normal;\">\n",
    "     Structures that make optimal use of the material they are made of reduces the cost and environmental impact of their construction as the amount of material required. Optimization of structural design is a challenging task because of the high number of design parameters and the relatively expensive evaluation of the suitability of any given design. Standard optimization techniques in high-dimensional design space require a very large number of possible designs that need to be evaluated. In structural analysis, where evaluating the objective function and checking the constraints involves the solution of a structural mechanics problem, e.g. with finite elements, this quickly becomes very expensive, even if the model is relatively simple from structural point of view. Bayesian optimization is a machine-learning-based optimization technique that aims to reduce the number of evaluations of the objective function through data-driven exploration of the design space with a probabilistic surrogate.\n",
    "</p>\n",
    "\n",
    "<h2 id=\"Background\"><B>\n",
    "    Objective & Description<a class=\"anchor-link\" href=\"#Background\">&#182;</a>\n",
    "    </B>\n",
    "</h2>\n",
    "\n",
    "<div style=\"width: 60%; border-top: 4px solid #34D058; border-left: 4px solid #34D058; background-color: #F6FFED; padding: 1em 1em 1em 1em; color: #24292E; margin: 10px 0 20px 0; box-sizing: border-box;\">\n",
    "    <div style=\"background-color: #34D058; color: white; padding: 0.2em 1em; margin: -1em -1em 0em -1em; font-size: 1.2em;\"><strong>Project Objective</strong></div>\n",
    "    <p><strong>The aim of this project is to find an optimal truss design,</strong><br>\n",
    "    The goal is to find an optimal set of nodal coordinates and cross-sectional properties. The primary objective is to minimize the total weight of the structure, while satisfying structural requirements. Optionally, additional objectives can be included, e.g. on the minimization of cutoff waste when reusing components from an existing inventory of elements.</p>\n",
    "</div>"
   ]
  },
  {
   "cell_type": "markdown",
   "metadata": {},
   "source": [
    "## <strong> X | Imports</strong>"
   ]
  },
  {
   "cell_type": "code",
   "execution_count": 108,
   "metadata": {},
   "outputs": [],
   "source": [
    "import numpy as np\n",
    "from sklearn.gaussian_process import GaussianProcessRegressor\n",
    "from scipy.stats import norm\n",
    "from scipy.optimize import minimize\n",
    "from sklearn.preprocessing import MinMaxScaler, StandardScaler\n",
    "import torch\n",
    "import sys\n",
    "import pandas as pd\n",
    "import os\n",
    "\n",
    "import io\n",
    "from contextlib import redirect_stdout\n",
    "\n",
    "sys.path.append('../pyJive/')\n",
    "from utils import proputils as pu\n",
    "import main\n",
    "from names import GlobNames as gn"
   ]
  },
  {
   "cell_type": "code",
   "execution_count": 3,
   "metadata": {},
   "outputs": [
    {
     "name": "stdout",
     "output_type": "stream",
     "text": [
      "Using device: cpu\n"
     ]
    }
   ],
   "source": [
    "# Check if CUDA is available, otherwise use CPU\n",
    "device = torch.device('cuda' if torch.cuda.is_available() else 'cpu')\n",
    "print(f'Using device: {device}')"
   ]
  },
  {
   "cell_type": "markdown",
   "metadata": {},
   "source": [
    "## <strong> X | Classes & Dependencies</strong>"
   ]
  },
  {
   "cell_type": "code",
   "execution_count": 283,
   "metadata": {},
   "outputs": [],
   "source": [
    "class TRUSS():\n",
    "    def __init__(self, file_path, output_path, violation_penalty, imag_threshold = 3,freq_constraints= [20,40,60], mass_weight = 1, freq_weight = 1):\n",
    "        # ------------------------------ DO NOT CHANGE  ------------------------------ #\n",
    "        self.read_file_path = file_path\n",
    "        self.write_file_path = output_path\n",
    "        self.nodes = {} \n",
    "        self.connectivity = None\n",
    "        # --------------------------------- ATRIBUTES -------------------------------- #\n",
    "        self.member_df = None\n",
    "        self.y_coordinates =  None  # Targets or other appropriate initialization #\n",
    "        self.x_coordinates =  None \n",
    "        self.cross_sections = None\n",
    "        self.lengths = None\n",
    "\n",
    "        self.violation_penalty = violation_penalty\n",
    "        self.freq_constraints = freq_constraints\n",
    "        self.mass_weight = mass_weight\n",
    "        self.freq_weight = freq_weight\n",
    "        self.imag_threshold = imag_threshold\n",
    "        self.max_mass = 0\n",
    "\n",
    "        self.temporary = None\n",
    "        self.temporary2 = None\n",
    "    \n",
    "    # -------------------------- Import & Writing Files -------------------------- #\n",
    "    def read_geom_file(self):\n",
    "        path = os.path.normpath(os.path.join(self.read_file_path,'bridge.geom'))\n",
    "        with open(path, 'r') as file:\n",
    "            lines = file.readlines()\n",
    "\n",
    "        nodes = {}\n",
    "        members = []\n",
    "        section = None\n",
    "\n",
    "        for line in lines:\n",
    "            line = line.strip()\n",
    "            if line.startswith('node:'):\n",
    "                section = 'node'\n",
    "                continue\n",
    "            elif line.startswith('member:'):\n",
    "                section = 'member'\n",
    "                continue\n",
    "\n",
    "            if section == 'node' and line:\n",
    "                parts = line.split()\n",
    "                node_number = int(parts[0])\n",
    "                node_data = tuple(map(float, parts[1:]))\n",
    "                nodes[node_number] = node_data\n",
    "            elif section == 'member' and line:\n",
    "                member_data = tuple(map(int, line.split()))\n",
    "                members.append(member_data)\n",
    "\n",
    "        self.nodes = nodes\n",
    "        self.member_df = pd.DataFrame(members, columns=['Node #1', 'Node #2', 'Number of Elements', 'Cross-section Type'])\n",
    "        \n",
    "        connectivity = self.member_df.to_numpy()\n",
    "        self.connectivity = connectivity[:,:2]\n",
    "        self.y_coordinates = np.array([value[1] for key, value in self.nodes.items()])\n",
    "        self.x_coordinates = np.array([value[0] for key, value in self.nodes.items()])\n",
    "    \n",
    "    def get_write_geom_file(self): \n",
    "        path = os.path.normpath(os.path.join(self.read_file_path,'TRUSS.geom'))\n",
    "        file = open(path)\n",
    "\n",
    "        for i, (x, _) in self.nodes.items():\n",
    "            self.nodes[i] = (x, self.y_coordinates[i])\n",
    "\n",
    "        geom = 'node: node #, x-coordinate; y-coordinate\\n'\n",
    "        for node_num, coords in self.nodes.items():\n",
    "            geom += f\"{node_num} {' '.join(map(str, coords))}\\n\"\n",
    "        \n",
    "        connectivity = self.member_df.to_numpy()\n",
    "        geom += '\\nmember: Node #1; Node #2; number of elements; cross-section type\\n'\n",
    "        for row in connectivity:\n",
    "            geom += ' '.join(map(str, row)) + '\\n'\n",
    "\n",
    "        output_file_path = os.path.normpath(os.path.join(self.read_file_path,'TRUSS.geom'))\n",
    "        with open(output_file_path, 'w') as file:\n",
    "            file.write(geom)\n",
    "            \n",
    "        return file.name\n",
    "       \n",
    "    def mmscaler(self, mode,x_values, scaler_y=None):\n",
    "        \n",
    "        if mode == 'scale':\n",
    "            # Reshape y_coord and cross_sections if they are 1D arrays\n",
    "            if x_values.ndim == 1:\n",
    "                y_coord = x_values.reshape(-1, 1)\n",
    "            \n",
    "            y_coord = scaler_y.fit_transform(y_coord)\n",
    "                    \n",
    "            return y_coord\n",
    "\n",
    "        elif mode == 'descale':\n",
    "            num_y_coordinates = y_coord.size\n",
    "            scaled_y_coordinates = scaled_data[:num_y_coordinates, :]\n",
    "            x_values  = scaler_y.inverse_transform(scaled_y_coordinates)\n",
    "            \n",
    "            return x_values\n",
    "\n",
    "    # ---------------------------------------------------------------------------- #\n",
    "    #                                TARGET FUNCTION                               #\n",
    "    # ---------------------------------------------------------------------------- #\n",
    "    def loss_function(self, x_list):\n",
    "        \"\"\"\n",
    "        Calculate the loss for a given set of design parameters.\n",
    "        Parameters:\n",
    "        x_list (list): A list of design parameters.\n",
    "        Returns:\n",
    "        float: The calculated loss based on mass, frequency constraints, and imaginary component penalties.\n",
    "        \"\"\"\n",
    "        A_list, y_list = self.areas_coordinates_write_split(x_list)\n",
    "        \n",
    "        mass_truss = self.mass_truss(A_list, y_list)\n",
    "        self.max_mass = max(self.max_mass, mass_truss)\n",
    "\n",
    "        freq1, freq2, freq3 = self.eigenfrequencies(A_list)\n",
    "        frequencies = [freq1, freq2, freq3]\n",
    "        freq_penalty = sum([(f - t)**2 for f, t in zip(frequencies, self.freq_constraints)])\n",
    "        \n",
    "        imag_parts = np.abs(np.sum(np.imag(frequencies)))\n",
    "        excess_imag = max(0, imag_parts - self.imag_threshold)\n",
    "        max_expected_exp_penalty = np.exp(1) - 1  # Adjust based on the maximum expected penalty\n",
    "        \n",
    "        # Calculate the normalized losses\n",
    "        normalized_mass = mass_truss / self.max_mass\n",
    "        normalized_freq_penalty = freq_penalty / sum([t**2 for t in self.freq_constraints])\n",
    "        normalized_imag_penalty = (np.exp(excess_imag) - 1) / max_expected_exp_penalty\n",
    "        \n",
    "        # Compute total loss\n",
    "        LOSS = (self.mass_weight * normalized_mass +\n",
    "                self.freq_weight * normalized_freq_penalty +\n",
    "                normalized_imag_penalty).real\n",
    "\n",
    "        # Check for constraint violations\n",
    "        constraint_violation = normalized_freq_penalty + normalized_imag_penalty\n",
    "        \n",
    "        if constraint_violation > 0:\n",
    "            print(f'Constraint Violation Detected. Violation Level: {constraint_violation:.4f}. '\n",
    "                f'Real Part of Natural Frequencies: {frequencies}')\n",
    "        else:\n",
    "            print('All Constraints Met. '\n",
    "                f'Real Part of Natural Frequencies: {frequencies}')\n",
    "        print(f'Total Loss: {LOSS:.4f}')\n",
    "\n",
    "        error_messages = []\n",
    "        if mass_truss < 0:\n",
    "            error_messages.append(f\"Negative Mass Detected: {mass_truss}\")\n",
    "        if freq_penalty < 0:\n",
    "            error_messages.append(f\"Negative Frequency Penalty Detected: {freq_penalty}. Frequencies: {frequencies}\")\n",
    "        if excess_imag < 0:\n",
    "           error_messages.append(f\"Negative Imaginary Part Penalty Detected: {excess_imag}. Imaginary Parts: {imag_parts}\")\n",
    "        if error_messages:\n",
    "            full_error_message = \"Loss Function Errors Detected:\\n\" + \"\\n\".join(error_messages)\n",
    "            raise LossFunctionException(full_error_message)\n",
    "\n",
    "        return LOSS\n",
    "\n",
    "    # ----------------------------- SUPPORT FUNCTIONS ---------------------------- #\n",
    "    def eigenfrequencies(self,A_list):\n",
    "        # Write Geomfile with new data\n",
    "        # Read the input file and store in props object\n",
    "        path = os.path.normpath(os.path.join(read_file_path,'bridge_frequency.pro'))\n",
    "        #geom_path = os.path.normpath(os.path.join(read_file_path,'TRUSS.geom'))\n",
    "        \n",
    "        props = pu.parse_file(path)\n",
    "        props['model']['truss']['area'] = A_list\n",
    "        props['init']['mesh']['file'] = self.get_write_geom_file()\n",
    "        \n",
    "        # Call the program and store output in globdat\n",
    "        trap = io.StringIO()\n",
    "        with redirect_stdout(trap):\n",
    "            globdat = main.jive(props)\n",
    "        \n",
    "        return (globdat[gn.EIGENFREQS][0:3]/2/np.pi)\n",
    "\n",
    "    def mass_truss(self,areas, y_list):\n",
    "        x_coordinates = self.x_coordinates\n",
    "        y_coordinates = self.y_coordinates\n",
    "        # --------------------------- calculate the y coordinates -------------------------- #\n",
    "        for i in range(5):\n",
    "            y_coordinates[2 * i + 1] = y_list[i]\n",
    "            y_coordinates[20 - 2 * i - 1] = y_list[i]\n",
    "        self.y_coordinates = y_coordinates\n",
    "        # --------------------------- calculate the lengths -------------------------- #\n",
    "        coordinates = list(zip(x_coordinates, y_coordinates))\n",
    "        lengths = np.zeros(self.member_df.iloc[:,2].sum()) # Number of Elements\n",
    "        for i, (node1, node2) in enumerate(self.connectivity):\n",
    "            x1, y1 = coordinates[node1]\n",
    "            x2, y2 = coordinates[node2]\n",
    "            lengths[i] =  np.sqrt((x2 - x1) ** 2 + (y2 - y1) ** 2)\n",
    "        # --------------------------- calculate the areas -------------------------- #\n",
    "        n_elements = self.member_df.iloc[:,2].sum()\n",
    "        areas_i = np.zeros(n_elements)\n",
    "        cross_section_number = self.member_df.iloc[:,-1] \n",
    "        \n",
    "        for i,item in enumerate(cross_section_number):\n",
    "            if i == 15: \n",
    "                areas_i[i] = 1e-4\n",
    "            else:\n",
    "                areas_i[i] = areas[item]\n",
    "        self.cross_sections = areas[:15]\n",
    "        self.lengths = areas_i\n",
    "        # --------------------------- calculate the mass -------------------------- #\n",
    "        volumes = lengths * areas_i\n",
    "        total_volume = np.sum(volumes)\n",
    "        dens = 7800\n",
    "        mass = total_volume * dens\n",
    "\n",
    "        return mass\n",
    "    \n",
    "    def calculate_length(self,node1, node2, coordinates):\n",
    "        x1, y1 = coordinates[node1]\n",
    "        x2, y2 = coordinates[node2]\n",
    "        length =  np.sqrt((x2 - x1) ** 2 + (y2 - y1) ** 2)\n",
    "        return length\n",
    "    # ----------------------------------- OTHER ---------------------------------- #\n",
    "    def Initial_guess(self):\n",
    "        y = np.random.uniform(0, 2, 5)\n",
    "        Areas = np.random.uniform(0.000, 0.01, 15)\n",
    "        x_list = np.append(y, Areas)\n",
    "        return x_list \n",
    "    \n",
    "    def areas_coordinates_write_split(self, x_list):        \n",
    "        '''\n",
    "        Splits the input vector into the areas and the y coordinates and updates attribute y_coordinates\n",
    "        '''\n",
    "        y_coordinates = self.y_coordinates\n",
    "        areas = x_list[5:]\n",
    "        y_coords = x_list[:5]\n",
    "        for i in range(5):\n",
    "            y_coordinates[2 * i + 1] = y_coords[i]\n",
    "            y_coordinates[20 - 2 * i - 1] = y_coords[i]\n",
    "        self.y_coordinates = y_coordinates # Update\n",
    "        \n",
    "        return areas, y_coords"
   ]
  },
  {
   "cell_type": "code",
   "execution_count": 269,
   "metadata": {},
   "outputs": [],
   "source": [
    "class BayesianOptimizer():\n",
    "      \n",
    "    def __init__(self, target_func, x_init, y_init, n_iter, batch_size):\n",
    "        self.x_init = x_init\n",
    "        self.y_init = y_init\n",
    "        self.target_func = target_func\n",
    "        self.n_iter = n_iter\n",
    "        self.batch_size = batch_size\n",
    "        self.gauss_pr = GaussianProcessRegressor()\n",
    "        self.best_samples_ = pd.DataFrame(columns = ['x', 'y', 'ei'])\n",
    "        self.distances_ = []\n",
    "        self.uncertainty = []\n",
    "\n",
    "    def _get_expected_improvement(self, x_new):\n",
    "\n",
    "        # Using estimate from Gaussian surrogate instead of actual function for \n",
    "        # a new trial data point to avoid cost\n",
    "        mean_y_new, sigma_y_new = self.gauss_pr.predict(np.array(x_new).reshape(1, -1), return_std=True)\n",
    "        if sigma_y_new[0] == 0.0:\n",
    "            return 0.0\n",
    "        \n",
    "        # Using estimates from Gaussian surrogate instead of actual function for \n",
    "        # entire prior distribution to avoid cost\n",
    "        min_mean_y = self.y_min \n",
    "        z = (min_mean_y - mean_y_new) / sigma_y_new\n",
    "        #self.uncertainty.append(sigma_y_new) \n",
    "        exp_imp = (min_mean_y - mean_y_new) * norm.cdf(z) + sigma_y_new * norm.pdf(z)\n",
    "        return exp_imp\n",
    "\n",
    "    def _acquisition_function(self, x):\n",
    "        return -self._get_expected_improvement(x)\n",
    "  \n",
    "    def _get_next_probable_point(self):\n",
    "        x_optimal = None\n",
    "        max_acq_value = float('inf')\n",
    "\n",
    "        # Exploring multiple starting points to avoid local optima\n",
    "        for _ in range(self.batch_size):\n",
    "            x_start = self.Next_guess()  # Random starting point for exploration\n",
    "            # Using an optimization algorithm to maximize the acquisition function\n",
    "            res = minimize(fun=self._acquisition_function, x0=x_start, method='L-BFGS-B')\n",
    "            # Update the optimal point if a better one is found\n",
    "            if res.fun < max_acq_value:\n",
    "                max_acq_value = res.fun\n",
    "                x_optimal = res.x\n",
    "\n",
    "        return x_optimal, -max_acq_value  # Note: Negative since we minimized the negative acquisition function\n",
    "  \n",
    "    \n",
    "    def _extend_prior_with_posterior_data(self, x,y):\n",
    "        self.x_init = np.append(self.x_init, np.array([x]), axis = 0)\n",
    "        self.y_init = np.append(self.y_init, np.array([y]), axis = 0)\n",
    "  \n",
    "\n",
    "    def optimize(self):\n",
    "        '''\n",
    "        Optimize the target function using the Gaussian Process Regressor.\n",
    "\n",
    "        Returns:\n",
    "        - optimal_x: The optimal input values that minimize the target function.\n",
    "        - y_min: The minimum value of the target function.\n",
    "        '''\n",
    "        \n",
    "        # Initialize the Gaussian Process Regressor with the best guess\n",
    "        y_min_ind = np.argmin(self.y_init)\n",
    "        y_min = self.y_min = self.y_init[y_min_ind]\n",
    "        optimal_x = self.x_init[y_min_ind]\n",
    "        optimal_ei = None\n",
    "        best_iter = 0\n",
    "\n",
    "        # FIX, FOR FIRST RUN CONVERT LIST TO ARRAY\n",
    "        if isinstance(self.y_init, list):\n",
    "            self.y_init = np.array(self.y_init)\n",
    "\n",
    "        for i in range(self.n_iter):\n",
    "            print(f'Iteration: {i}, the best loss = {y_min:.2f}')\n",
    "            y_init_real = np.real(self.y_init) ## FIX SHOULD NOT HAVE TO TAKE ONLY THE REAL PART\n",
    "            self.gauss_pr.fit(self.x_init, y_init_real)\n",
    "            x_next, ei = self._get_next_probable_point()\n",
    "            y_next = self.target_func(np.array(x_next))\n",
    "            self._extend_prior_with_posterior_data(x_next,y_next)\n",
    "            \n",
    "            if ((y_next < y_min) & (y_next > 0)):\n",
    "                y_min = self.y_min = y_next\n",
    "                optimal_x = x_next\n",
    "                optimal_ei = ei\n",
    "                best_iter = i\n",
    "\n",
    "            if i == 0:\n",
    "                prev_x = x_next\n",
    "            else:\n",
    "                self.distances_.append(np.linalg.norm(prev_x - x_next))\n",
    "                prev_x = x_next\n",
    "                \n",
    "            self.best_samples_ = pd.concat((self.best_samples_, pd.DataFrame({\"x\": [optimal_x],\"y\": [y_min], \"ei\": [optimal_ei]})), ignore_index=True) \n",
    "        return optimal_x, y_min\n",
    "\n",
    "    def Next_guess(self, y_bound=(0, 2), A_bound=(0, 0.01)):\n",
    "            y = np.random.uniform(y_bound[0], y_bound[1], 5)\n",
    "            Areas = np.random.uniform(A_bound[0], A_bound[1], 15)\n",
    "            x_list = np.append(y, Areas)\n",
    "            return x_list\n",
    "\n",
    "def LF_wrapper(x):\n",
    "    return TRUSS1.loss_function(x)       "
   ]
  },
  {
   "cell_type": "code",
   "execution_count": 293,
   "metadata": {},
   "outputs": [],
   "source": [
    "class LossFunctionException(Exception):\n",
    "    pass\n",
    "\n",
    "    # def final_results(x_list, Area_lower=4e-3):\n",
    "    #     '''FIX THIS'''\n",
    "    #     A_list = x_list[5:]\n",
    "    #     A_list = np.append([Area_lower], A_list)\n",
    "    #     y_list = x_list[0:5]\n",
    "\n",
    "    #     if constraint(A_list, y_list) != 0:\n",
    "    #         print(f'The constraints for the natural frequencies are not met')\n",
    "    #     else:\n",
    "    #         print(f'The constraints of the natural frequencies are met')\n",
    "        \n",
    "    #     mass = mass_TRUSS(A_list, y_list)\n",
    "    #     eigenfrequencies = eigenfrequencies(A_list, y_list)\n",
    "        \n",
    "    #     return mass, eigenfrequencies\n",
    "    \n",
    "# def plot_truss(self,A_list, y_list):\n",
    "#         # Read the input file and store in props object\n",
    "#         path = os.path.normpath(os.path.join(read_file_path,'bridge_frequency_plot.pro'))\n",
    "#         geom_path = os.path.normpath(os.path.join(read_file_path,'bridge.geom'))\n",
    "        \n",
    "#         props = pu.parse_file(path)\n",
    "#         props['model']['truss']['area'] = A_list\n",
    "#         props['init']['mesh']['file'] = self.get_geom_file(y_list)\n",
    "        \n",
    "#         # Call the program and store output in globdat\n",
    "#         trap = io.StringIO()\n",
    "#         with redirect_stdout(trap):\n",
    "#             globdat = main.jive(props)\n",
    "        \n",
    "#         return (globdat[gn.EIGENFREQS][0:3]/2/np.pi)"
   ]
  },
  {
   "cell_type": "markdown",
   "metadata": {},
   "source": [
    "## <strong> 1 | Initialisation</strong>"
   ]
  },
  {
   "cell_type": "code",
   "execution_count": 284,
   "metadata": {},
   "outputs": [],
   "source": [
    "# -------------------------------- Definitions ------------------------------- #\n",
    "read_file_path = '../truss_bridge/data'\n",
    "write_file_path =  '../truss_bridge/data/@TRUSS'\n",
    "violation_penalty = 1\n",
    "imag_threshold = 3\n",
    "freq_constraints = [20,40,60]\n",
    "mass_weight = 1\n",
    "freq_weight = 2\n",
    "\n",
    "x_list = []\n",
    "y_list = []\n",
    "\n",
    "TRUSS1 = TRUSS(read_file_path,\n",
    "                write_file_path,\n",
    "                violation_penalty,\n",
    "                imag_threshold= imag_threshold,\n",
    "                freq_constraints= freq_constraints, \n",
    "                mass_weight= mass_weight, \n",
    "                freq_weight= freq_weight)\n",
    "TRUSS1.read_geom_file()\n",
    "    \n",
    "n_samples = 25\n",
    "for i in range(n_samples):\n",
    "    x_values = TRUSS1.Initial_guess()\n",
    "    x_list.append(x_values)\n",
    "    trap = io.StringIO()\n",
    "    with redirect_stdout(trap):\n",
    "        LOSS = TRUSS1.loss_function(x_list[-1])\n",
    "        y_list.append(LOSS)"
   ]
  },
  {
   "cell_type": "markdown",
   "metadata": {},
   "source": [
    "## <strong> 2 | Optimisation </strong>"
   ]
  },
  {
   "cell_type": "code",
   "execution_count": 287,
   "metadata": {},
   "outputs": [
    {
     "data": {
      "text/plain": [
       "-2618.9015653504443"
      ]
     },
     "execution_count": 287,
     "metadata": {},
     "output_type": "execute_result"
    }
   ],
   "source": [
    "TRUSS1.mass_truss(TRUSS1.cross_sections, TRUSS1.y_coordinates)"
   ]
  },
  {
   "cell_type": "code",
   "execution_count": 292,
   "metadata": {},
   "outputs": [
    {
     "data": {
      "text/plain": [
       "array([9.21904220e-01, 1.97153138e+00, 1.36760385e+00, 1.22377503e-01,\n",
       "       1.94481534e+00, 4.30542557e-03, 8.77359664e-03, 4.84655903e-03,\n",
       "       4.75011302e-04, 8.60010608e-03, 7.73549346e-03, 1.19644290e-03,\n",
       "       4.46025511e-03, 8.27394202e-03, 7.57018884e-03, 1.59417528e-03,\n",
       "       4.28684969e-03, 3.15755193e-03, 5.58322000e-03, 7.89847599e-03])"
      ]
     },
     "execution_count": 292,
     "metadata": {},
     "output_type": "execute_result"
    }
   ],
   "source": [
    "TRUSS1_bopt.x_init[-1]"
   ]
  },
  {
   "cell_type": "code",
   "execution_count": 288,
   "metadata": {},
   "outputs": [
    {
     "data": {
      "text/plain": [
       "array([-0.04167161,  0.04428834,  0.01151413,  0.02857828, -0.01783074,\n",
       "       -0.00353194, -0.00372746, -0.00446515, -0.00281425,  0.00498322,\n",
       "        0.00714466,  0.0006261 , -0.00154371,  0.00165737, -0.0079931 ])"
      ]
     },
     "execution_count": 288,
     "metadata": {},
     "output_type": "execute_result"
    }
   ],
   "source": [
    "TRUSS1.cross_sections"
   ]
  },
  {
   "cell_type": "code",
   "execution_count": 285,
   "metadata": {},
   "outputs": [
    {
     "name": "stdout",
     "output_type": "stream",
     "text": [
      "Iteration: 0, the best loss = 0.97\n"
     ]
    },
    {
     "ename": "LossFunctionException",
     "evalue": "Loss Function Errors Detected:\nNegative Mass Detected: -2350.4613425377556",
     "output_type": "error",
     "traceback": [
      "\u001b[1;31m---------------------------------------------------------------------------\u001b[0m",
      "\u001b[1;31mLossFunctionException\u001b[0m                     Traceback (most recent call last)",
      "Cell \u001b[1;32mIn[285], line 2\u001b[0m\n\u001b[0;32m      1\u001b[0m TRUSS1_bopt \u001b[38;5;241m=\u001b[39m BayesianOptimizer(target_func\u001b[38;5;241m=\u001b[39mLF_wrapper, x_init\u001b[38;5;241m=\u001b[39mx_list, y_init\u001b[38;5;241m=\u001b[39my_list, n_iter\u001b[38;5;241m=\u001b[39m\u001b[38;5;241m20\u001b[39m, batch_size\u001b[38;5;241m=\u001b[39m\u001b[38;5;241m100\u001b[39m)\n\u001b[1;32m----> 2\u001b[0m optimal_x, y_max \u001b[38;5;241m=\u001b[39m \u001b[43mTRUSS1_bopt\u001b[49m\u001b[38;5;241;43m.\u001b[39;49m\u001b[43moptimize\u001b[49m\u001b[43m(\u001b[49m\u001b[43m)\u001b[49m\n",
      "Cell \u001b[1;32mIn[269], line 80\u001b[0m, in \u001b[0;36mBayesianOptimizer.optimize\u001b[1;34m(self)\u001b[0m\n\u001b[0;32m     78\u001b[0m \u001b[38;5;28mself\u001b[39m\u001b[38;5;241m.\u001b[39mgauss_pr\u001b[38;5;241m.\u001b[39mfit(\u001b[38;5;28mself\u001b[39m\u001b[38;5;241m.\u001b[39mx_init, y_init_real)\n\u001b[0;32m     79\u001b[0m x_next, ei \u001b[38;5;241m=\u001b[39m \u001b[38;5;28mself\u001b[39m\u001b[38;5;241m.\u001b[39m_get_next_probable_point()\n\u001b[1;32m---> 80\u001b[0m y_next \u001b[38;5;241m=\u001b[39m \u001b[38;5;28;43mself\u001b[39;49m\u001b[38;5;241;43m.\u001b[39;49m\u001b[43mtarget_func\u001b[49m\u001b[43m(\u001b[49m\u001b[43mnp\u001b[49m\u001b[38;5;241;43m.\u001b[39;49m\u001b[43marray\u001b[49m\u001b[43m(\u001b[49m\u001b[43mx_next\u001b[49m\u001b[43m)\u001b[49m\u001b[43m)\u001b[49m\n\u001b[0;32m     81\u001b[0m \u001b[38;5;28mself\u001b[39m\u001b[38;5;241m.\u001b[39m_extend_prior_with_posterior_data(x_next,y_next)\n\u001b[0;32m     83\u001b[0m \u001b[38;5;28;01mif\u001b[39;00m ((y_next \u001b[38;5;241m<\u001b[39m y_min) \u001b[38;5;241m&\u001b[39m (y_next \u001b[38;5;241m>\u001b[39m \u001b[38;5;241m0\u001b[39m)):\n",
      "Cell \u001b[1;32mIn[269], line 105\u001b[0m, in \u001b[0;36mLF_wrapper\u001b[1;34m(x)\u001b[0m\n\u001b[0;32m    104\u001b[0m \u001b[38;5;28;01mdef\u001b[39;00m \u001b[38;5;21mLF_wrapper\u001b[39m(x):\n\u001b[1;32m--> 105\u001b[0m     \u001b[38;5;28;01mreturn\u001b[39;00m \u001b[43mTRUSS1\u001b[49m\u001b[38;5;241;43m.\u001b[39;49m\u001b[43mloss_function\u001b[49m\u001b[43m(\u001b[49m\u001b[43mx\u001b[49m\u001b[43m)\u001b[49m\n",
      "Cell \u001b[1;32mIn[283], line 143\u001b[0m, in \u001b[0;36mTRUSS.loss_function\u001b[1;34m(self, x_list)\u001b[0m\n\u001b[0;32m    141\u001b[0m \u001b[38;5;28;01mif\u001b[39;00m error_messages:\n\u001b[0;32m    142\u001b[0m     full_error_message \u001b[38;5;241m=\u001b[39m \u001b[38;5;124m\"\u001b[39m\u001b[38;5;124mLoss Function Errors Detected:\u001b[39m\u001b[38;5;130;01m\\n\u001b[39;00m\u001b[38;5;124m\"\u001b[39m \u001b[38;5;241m+\u001b[39m \u001b[38;5;124m\"\u001b[39m\u001b[38;5;130;01m\\n\u001b[39;00m\u001b[38;5;124m\"\u001b[39m\u001b[38;5;241m.\u001b[39mjoin(error_messages)\n\u001b[1;32m--> 143\u001b[0m     \u001b[38;5;28;01mraise\u001b[39;00m LossFunctionException(full_error_message)\n\u001b[0;32m    145\u001b[0m \u001b[38;5;66;03m# Calculate the normalized losses\u001b[39;00m\n\u001b[0;32m    146\u001b[0m normalized_mass \u001b[38;5;241m=\u001b[39m mass_truss \u001b[38;5;241m/\u001b[39m \u001b[38;5;28mself\u001b[39m\u001b[38;5;241m.\u001b[39mmax_mass\n",
      "\u001b[1;31mLossFunctionException\u001b[0m: Loss Function Errors Detected:\nNegative Mass Detected: -2350.4613425377556"
     ]
    }
   ],
   "source": [
    "TRUSS1_bopt = BayesianOptimizer(target_func=LF_wrapper, x_init=x_list, y_init=y_list, n_iter=20, batch_size=100)\n",
    "optimal_x, y_max = TRUSS1_bopt.optimize()"
   ]
  },
  {
   "cell_type": "markdown",
   "metadata": {},
   "source": [
    "## <strong> 3 | Visulisation & Results </strong>"
   ]
  },
  {
   "cell_type": "code",
   "execution_count": 196,
   "metadata": {},
   "outputs": [
    {
     "data": {
      "text/plain": [
       "x     [-0.7601142665754779, 2.439898242265184, 0.323...\n",
       "y                               (1.3614033294242944+0j)\n",
       "ei                                              1.51731\n",
       "Name: 0, dtype: object"
      ]
     },
     "execution_count": 196,
     "metadata": {},
     "output_type": "execute_result"
    }
   ],
   "source": [
    "TRUSS1_bopt.best_samples_.iloc[0]"
   ]
  },
  {
   "cell_type": "code",
   "execution_count": 25,
   "metadata": {},
   "outputs": [
    {
     "data": {
      "text/plain": [
       "<AxesSubplot:>"
      ]
     },
     "execution_count": 25,
     "metadata": {},
     "output_type": "execute_result"
    },
    {
     "data": {
      "image/png": "[encoded data removed]",
      "text/plain": [
       "<Figure size 640x480 with 1 Axes>"
      ]
     },
     "metadata": {},
     "output_type": "display_data"
    }
   ],
   "source": [
    "pd.DataFrame(bopt.distances_).plot()"
   ]
  },
  {
   "cell_type": "code",
   "execution_count": 26,
   "metadata": {},
   "outputs": [
    {
     "data": {
      "text/plain": [
       "<AxesSubplot:title={'center':'Loss development'}, xlabel='Iterations', ylabel='Loss'>"
      ]
     },
     "execution_count": 26,
     "metadata": {},
     "output_type": "execute_result"
    },
    {
     "data": {
      "image/png": "[encoded data removed]",
      "text/plain": [
       "<Figure size 640x480 with 1 Axes>"
      ]
     },
     "metadata": {},
     "output_type": "display_data"
    }
   ],
   "source": [
    "pd.DataFrame(bopt.best_samples_['y']).plot(title='Loss development', xlabel='Iterations', ylabel='Loss')"
   ]
  },
  {
   "cell_type": "code",
   "execution_count": null,
   "metadata": {},
   "outputs": [],
   "source": [
    "pd.DataFrame(bopt.best_samples_['ei']).plot()"
   ]
  }
 ],
 "metadata": {
  "kernelspec": {
   "display_name": "dsaie",
   "language": "python",
   "name": "python3"
  },
  "language_info": {
   "codemirror_mode": {
    "name": "ipython",
    "version": 3
   },
   "file_extension": ".py",
   "mimetype": "text/x-python",
   "name": "python",
   "nbconvert_exporter": "python",
   "pygments_lexer": "ipython3",
   "version": "3.10.8"
  }
 },
 "nbformat": 4,
 "nbformat_minor": 2
}
